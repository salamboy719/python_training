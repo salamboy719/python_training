{
 "cells": [
  {
   "cell_type": "code",
   "execution_count": 21,
   "id": "ef6d6fdb-a931-453b-aa79-2c7301e15664",
   "metadata": {},
   "outputs": [
    {
     "name": "stdout",
     "output_type": "stream",
     "text": [
      "Welcome to Rock🪨, Paper📄, scissors✂️ Game!\n",
      "---------------------------------\n",
      "Choose 1 for Rock, 2 for Paper or 3 for scissors\n"
     ]
    },
    {
     "name": "stdin",
     "output_type": "stream",
     "text": [
      "Enter your choice:  1\n"
     ]
    },
    {
     "name": "stdout",
     "output_type": "stream",
     "text": [
      "computer chose:  Paper\n",
      "\n",
      "player chose:  Rock\n",
      "sorry 😞! You lose.\n"
     ]
    },
    {
     "name": "stdin",
     "output_type": "stream",
     "text": [
      "\n",
      "Do you want to quit? Yes or No:  no\n",
      "Enter your choice:  2\n"
     ]
    },
    {
     "name": "stdout",
     "output_type": "stream",
     "text": [
      "computer chose:  Paper\n",
      "\n",
      "player chose:  Paper\n",
      "\n",
      "it is a tie\n"
     ]
    },
    {
     "name": "stdin",
     "output_type": "stream",
     "text": [
      "\n",
      "Do you want to quit? Yes or No:  yes\n"
     ]
    }
   ],
   "source": [
    "import random\n",
    "\n",
    "def get_choice(choice):\n",
    "    if choice == 1:\n",
    "        return \"Rock\"\n",
    "    elif choice == 2:\n",
    "        return \"Paper\"\n",
    "    elif choice == 3:\n",
    "        return \"scissors\"\n",
    "\n",
    "def get_rps():\n",
    "\n",
    "    print(\"Welcome to Rock🪨, Paper📄, scissors✂️ Game!\")\n",
    "    print(\"-\" * 33)\n",
    "    print(\"Choose 1 for Rock, 2 for Paper or 3 for scissors\")\n",
    "\n",
    "    while True:\n",
    "        try:\n",
    "            computer_choice = random.randint(1, 3)\n",
    "            player_choice = int(input(\"Enter your choice: \"))\n",
    "\n",
    "            print(\"computer chose: \",get_choice(computer_choice))\n",
    "            print(\"\\nplayer chose: \",get_choice(player_choice))\n",
    "\n",
    "            if player_choice == computer_choice:\n",
    "                print(\"\\nit is a tie\")\n",
    "                \n",
    "            elif (player_choice == 1 and computer_choice == 3) or \\\n",
    "                (player_choice == 3 and computer_choice == 2) or \\\n",
    "                (player_choice == 2 and computer_choice == 1):\n",
    "                print(\"Congratulations 🎉. You win!\")\n",
    "            \n",
    "            else:\n",
    "                print(\"sorry 😞! You lose.\")\n",
    "        except Exception as e:\n",
    "            print(\"Error:\",e)\n",
    "            print(\"Invalid input. Please, Enter a number.\")\n",
    "\n",
    "        quit = input(\"\\nDo you want to quit? Yes or No: \").strip().lower()\n",
    "        if quit == \"yes\" or quit == \"y\":\n",
    "            break\n",
    "        else:\n",
    "            continue\n",
    "\n",
    "get_rps()"
   ]
  },
  {
   "cell_type": "code",
   "execution_count": null,
   "id": "4d221f44-bdfd-4bb6-9c80-9753c944b95a",
   "metadata": {},
   "outputs": [],
   "source": [
    " # Try simple calculator\n",
    "# How to look at median, standard deviation and mode"
   ]
  }
 ],
 "metadata": {
  "kernelspec": {
   "display_name": "Python 3 (ipykernel)",
   "language": "python",
   "name": "python3"
  },
  "language_info": {
   "codemirror_mode": {
    "name": "ipython",
    "version": 3
   },
   "file_extension": ".py",
   "mimetype": "text/x-python",
   "name": "python",
   "nbconvert_exporter": "python",
   "pygments_lexer": "ipython3",
   "version": "3.12.4"
  }
 },
 "nbformat": 4,
 "nbformat_minor": 5
}
