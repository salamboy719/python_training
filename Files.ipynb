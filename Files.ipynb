{
 "cells": [
  {
   "cell_type": "code",
   "execution_count": 20,
   "id": "46042bec-bcd7-4798-bf7a-085763c589ca",
   "metadata": {},
   "outputs": [
    {
     "name": "stdout",
     "output_type": "stream",
     "text": [
      "<_io.TextIOWrapper name='mbox.txt' mode='r' encoding='UTF-8'>\n"
     ]
    }
   ],
   "source": [
    "file = open(\"mbox.txt\")\n",
    "print(file)"
   ]
  },
  {
   "cell_type": "code",
   "execution_count": 24,
   "id": "583548ed-3102-49b4-bf73-8ab50808addc",
   "metadata": {},
   "outputs": [
    {
     "name": "stdout",
     "output_type": "stream",
     "text": [
      "6687002\n"
     ]
    }
   ],
   "source": [
    "file = open(\"mbox.txt\")\n",
    "content = file.read()\n",
    "print(len(content))"
   ]
  },
  {
   "cell_type": "code",
   "execution_count": 26,
   "id": "096975fb-0cdd-4664-a7af-f3673414ba48",
   "metadata": {},
   "outputs": [
    {
     "name": "stdout",
     "output_type": "stream",
     "text": [
      "132045\n"
     ]
    }
   ],
   "source": [
    "file = open(\"mbox.txt\")\n",
    "content = file.readlines()\n",
    "print(len(content))"
   ]
  },
  {
   "cell_type": "code",
   "execution_count": 28,
   "id": "71cd5b5a-646b-40c6-ae38-aabe68025249",
   "metadata": {},
   "outputs": [
    {
     "data": {
      "text/plain": [
       "'python.txt'"
      ]
     },
     "execution_count": 28,
     "metadata": {},
     "output_type": "execute_result"
    }
   ],
   "source": [
    "file = open(\"python.txt\", \"r\")\n",
    "file.name"
   ]
  },
  {
   "cell_type": "code",
   "execution_count": 30,
   "id": "597d61d8-10d8-4e4f-bfb2-49c8ae0c2fbd",
   "metadata": {},
   "outputs": [
    {
     "data": {
      "text/plain": [
       "['_CHUNK_SIZE',\n",
       " '__class__',\n",
       " '__del__',\n",
       " '__delattr__',\n",
       " '__dict__',\n",
       " '__dir__',\n",
       " '__doc__',\n",
       " '__enter__',\n",
       " '__eq__',\n",
       " '__exit__',\n",
       " '__format__',\n",
       " '__ge__',\n",
       " '__getattribute__',\n",
       " '__getstate__',\n",
       " '__gt__',\n",
       " '__hash__',\n",
       " '__init__',\n",
       " '__init_subclass__',\n",
       " '__iter__',\n",
       " '__le__',\n",
       " '__lt__',\n",
       " '__module__',\n",
       " '__ne__',\n",
       " '__new__',\n",
       " '__next__',\n",
       " '__reduce__',\n",
       " '__reduce_ex__',\n",
       " '__repr__',\n",
       " '__setattr__',\n",
       " '__sizeof__',\n",
       " '__str__',\n",
       " '__subclasshook__',\n",
       " '_checkClosed',\n",
       " '_checkReadable',\n",
       " '_checkSeekable',\n",
       " '_checkWritable',\n",
       " '_finalizing',\n",
       " 'buffer',\n",
       " 'close',\n",
       " 'closed',\n",
       " 'detach',\n",
       " 'encoding',\n",
       " 'errors',\n",
       " 'fileno',\n",
       " 'flush',\n",
       " 'isatty',\n",
       " 'line_buffering',\n",
       " 'mode',\n",
       " 'name',\n",
       " 'newlines',\n",
       " 'read',\n",
       " 'readable',\n",
       " 'readline',\n",
       " 'readlines',\n",
       " 'reconfigure',\n",
       " 'seek',\n",
       " 'seekable',\n",
       " 'tell',\n",
       " 'truncate',\n",
       " 'writable',\n",
       " 'write',\n",
       " 'write_through',\n",
       " 'writelines']"
      ]
     },
     "execution_count": 30,
     "metadata": {},
     "output_type": "execute_result"
    }
   ],
   "source": [
    "dir(file)"
   ]
  },
  {
   "cell_type": "code",
   "execution_count": 36,
   "id": "4865c459-61cf-4a11-b69e-8c93ebe850a3",
   "metadata": {},
   "outputs": [
    {
     "data": {
      "text/plain": [
       "'This is a python class.\\nThis is a python class.\\nThis is a python class.\\nThis is a python class.\\nThis is a python class.\\nThis is a python class.'"
      ]
     },
     "execution_count": 36,
     "metadata": {},
     "output_type": "execute_result"
    }
   ],
   "source": [
    "file = open(\"python.txt\", \"r\")\n",
    "contents = file.read()\n",
    "file.close()\n",
    "contents"
   ]
  },
  {
   "cell_type": "code",
   "execution_count": 34,
   "id": "72270156-8d92-4c93-ad5c-c86d12979650",
   "metadata": {},
   "outputs": [
    {
     "name": "stdout",
     "output_type": "stream",
     "text": [
      "This is a python class.\n",
      "This is a python class.\n",
      "This is a python class.\n",
      "This is a python class.\n",
      "This is a python class.\n",
      "This is a python class.\n"
     ]
    }
   ],
   "source": [
    "print(contents)"
   ]
  },
  {
   "cell_type": "code",
   "execution_count": 38,
   "id": "9ef39161-cf98-45f3-9b80-f0ba82fdb978",
   "metadata": {},
   "outputs": [
    {
     "name": "stdout",
     "output_type": "stream",
     "text": [
      "This is a python class.\n",
      "This is a python class.\n",
      "This is a python class.\n",
      "This is a python class.\n",
      "This is a python class.\n",
      "This is a python class.\n"
     ]
    }
   ],
   "source": [
    "with open(\"python.txt\", \"r\") as file:\n",
    "    contents = file.read()\n",
    "\n",
    "print(contents)"
   ]
  },
  {
   "cell_type": "code",
   "execution_count": 40,
   "id": "70c25b0d-f319-49ec-84d5-57853fd4b2e0",
   "metadata": {},
   "outputs": [
    {
     "name": "stdout",
     "output_type": "stream",
     "text": [
      "This\n",
      " is a\n",
      " pytho\n"
     ]
    }
   ],
   "source": [
    "with open(\"python.txt\", \"r\") as file:\n",
    "    print(file.read(4))\n",
    "    print(file.read(5))\n",
    "    print(file.read(6))\n",
    "\n"
   ]
  },
  {
   "cell_type": "code",
   "execution_count": 44,
   "id": "74fccee6-cccb-4597-b81c-2b39d559e3e8",
   "metadata": {},
   "outputs": [
    {
     "data": {
      "text/plain": [
       "['This is a python class.\\n',\n",
       " 'This is a python class.\\n',\n",
       " 'This is a python class.\\n',\n",
       " 'This is a python class.\\n',\n",
       " 'This is a python class.\\n',\n",
       " 'This is a python class.']"
      ]
     },
     "execution_count": 44,
     "metadata": {},
     "output_type": "execute_result"
    }
   ],
   "source": [
    "with open(\"python.txt\", \"r\") as file:\n",
    "    contents = file.readlines()\n",
    "\n",
    "contents\n"
   ]
  },
  {
   "cell_type": "code",
   "execution_count": 46,
   "id": "f80e65b3-c71b-477b-af49-2e31c29f7525",
   "metadata": {},
   "outputs": [],
   "source": [
    "with open(\"python.txt\", \"w\") as file:\n",
    "    file.write(\"Using the write mode\")\n"
   ]
  },
  {
   "cell_type": "code",
   "execution_count": 55,
   "id": "ea32cab6-eb22-4bdb-a462-88c2c84d9dd0",
   "metadata": {},
   "outputs": [],
   "source": [
    "with open(\"python.txt\", \"a\") as file:\n",
    "    file.write(\"\\nUsing the append mode\")"
   ]
  },
  {
   "cell_type": "code",
   "execution_count": 88,
   "id": "31446e69-5446-4b50-bac7-8e5cb6fe0be5",
   "metadata": {},
   "outputs": [
    {
     "name": "stdin",
     "output_type": "stream",
     "text": [
      "Enter a message I love Python\n",
      "Enter a message Java is hard \n",
      "Enter a message quit\n"
     ]
    }
   ],
   "source": [
    "while True:\n",
    "    message = input(\"Enter a message\")\n",
    "\n",
    "    with open(\"file.txt\", \"r\") as file:\n",
    "        content = file.readlines()\n",
    "\n",
    "    with open (\"file.txt\", \"w\") as file:\n",
    "        content.append(message + \"\\n\")\n",
    "        for i in content:\n",
    "            if i == \"quit\\n\":\n",
    "                content.remove(i)\n",
    "        file.writelines(content)\n",
    "\n",
    "    if message == \"quit\":\n",
    "        break"
   ]
  },
  {
   "cell_type": "code",
   "execution_count": 95,
   "id": "41dc57a7-9fce-4aa7-95a8-72554a971460",
   "metadata": {},
   "outputs": [],
   "source": [
    "with open(\"file.txt\", \"r\") as file:\n",
    "        content = file.readline()\n"
   ]
  },
  {
   "cell_type": "code",
   "execution_count": 97,
   "id": "f1eb4b89-d810-4a8a-93d6-c7d79e0b4b77",
   "metadata": {},
   "outputs": [
    {
     "data": {
      "text/plain": [
       "'I love Python\\n'"
      ]
     },
     "execution_count": 97,
     "metadata": {},
     "output_type": "execute_result"
    }
   ],
   "source": [
    "content"
   ]
  },
  {
   "cell_type": "code",
   "execution_count": 109,
   "id": "6e5d7ae5-efcf-4c88-937c-fb39cdf00e5d",
   "metadata": {},
   "outputs": [
    {
     "name": "stdout",
     "output_type": "stream",
     "text": [
      "iteration 0 :  I love Python\n",
      "\n",
      "iteration 1 :  Java is hard \n",
      "\n"
     ]
    }
   ],
   "source": [
    "# Iterate through the lines \n",
    "\n",
    "with open(\"file.txt\", \"r\") as file:\n",
    "        i = 0\n",
    "        for line in file:\n",
    "            print(\"iteration\", str(i), \": \", line)\n",
    "            i = i + 1"
   ]
  },
  {
   "cell_type": "code",
   "execution_count": 113,
   "id": "8fd7cfbb-c1f5-4f27-899d-a87b7f0b5e07",
   "metadata": {},
   "outputs": [
    {
     "name": "stdout",
     "output_type": "stream",
     "text": [
      "2\n"
     ]
    }
   ],
   "source": [
    "# counting lines in files \n",
    "\n",
    "content = open(\"file.txt\")\n",
    "count = 0\n",
    "for line in content:\n",
    "    count += 1\n",
    "print(count)"
   ]
  },
  {
   "cell_type": "code",
   "execution_count": 121,
   "id": "51b09719-0d28-4390-ab5f-ed754ae75b9e",
   "metadata": {},
   "outputs": [
    {
     "name": "stdout",
     "output_type": "stream",
     "text": [
      "Java is hard \n",
      "\n"
     ]
    }
   ],
   "source": [
    "content = open(\"file.txt\")\n",
    "for line in content:\n",
    "    if line.startswith(\"Java\"):\n",
    "        print(line)\n"
   ]
  },
  {
   "cell_type": "code",
   "execution_count": 125,
   "id": "b23cacaa-b84f-4e7b-b4fb-2d1983aeea8b",
   "metadata": {},
   "outputs": [
    {
     "name": "stdout",
     "output_type": "stream",
     "text": [
      "I love Python\n"
     ]
    }
   ],
   "source": [
    "# skipping with continue \n",
    "\n",
    "content = open(\"file.txt\")\n",
    "for line in content:\n",
    "    line = line.strip()\n",
    "    if line.startswith(\"Java\"):\n",
    "        continue\n",
    "    print(line)"
   ]
  },
  {
   "cell_type": "code",
   "execution_count": 129,
   "id": "dd638aaa-93a8-434d-a379-eab840c10e19",
   "metadata": {},
   "outputs": [
    {
     "data": {
      "text/plain": [
       "{'I': 1, 'love': 1, 'Python': 1, 'Java': 1, 'is': 1, 'hard': 1}"
      ]
     },
     "execution_count": 129,
     "metadata": {},
     "output_type": "execute_result"
    }
   ],
   "source": [
    "# Using in to select line \n",
    "\n",
    "my_dict = {}\n",
    "with open (\"file.txt\", \"r\") as file:\n",
    "    content = file.read()\n",
    "    my_list = content.split()\n",
    "\n",
    "for i in my_list:\n",
    "    my_dict[i] = my_dict.get(i, 0) + 1 \n",
    "\n",
    "my_dict"
   ]
  },
  {
   "cell_type": "code",
   "execution_count": 131,
   "id": "a1b48ad2-b872-436d-920d-8db28ef6bc84",
   "metadata": {},
   "outputs": [
    {
     "name": "stdout",
     "output_type": "stream",
     "text": [
      "File does not exist\n"
     ]
    }
   ],
   "source": [
    "try:\n",
    "    with open(\"python1.txt\", \"r\") as file:\n",
    "        content = file.readlines()\n",
    "except FileNotFoundError:\n",
    "    print(\"File does not exist\")"
   ]
  },
  {
   "cell_type": "code",
   "execution_count": null,
   "id": "c57fd8a5-f751-4394-a2bf-874070be2f09",
   "metadata": {},
   "outputs": [],
   "source": []
  }
 ],
 "metadata": {
  "kernelspec": {
   "display_name": "Python 3 (ipykernel)",
   "language": "python",
   "name": "python3"
  },
  "language_info": {
   "codemirror_mode": {
    "name": "ipython",
    "version": 3
   },
   "file_extension": ".py",
   "mimetype": "text/x-python",
   "name": "python",
   "nbconvert_exporter": "python",
   "pygments_lexer": "ipython3",
   "version": "3.12.4"
  }
 },
 "nbformat": 4,
 "nbformat_minor": 5
}
