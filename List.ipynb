{
 "cells": [
  {
   "cell_type": "markdown",
   "id": "93e58f23-1405-478f-bab3-f7f1bd3e210f",
   "metadata": {},
   "source": [
    "## Characteristics of a list\n",
    "## is is Ordered\n",
    "## It is mutable\n",
    "## It can contain multiple data types even another list\n",
    "## A list is donated by a square bracket "
   ]
  },
  {
   "cell_type": "markdown",
   "id": "fcffa065-cdbe-4380-b8a3-697ad133270d",
   "metadata": {},
   "source": [
    "# Creating an empty list\n",
    "my_list = []\n",
    "my_list2 = list()"
   ]
  },
  {
   "cell_type": "code",
   "execution_count": 27,
   "id": "d8ed761e-5ab7-4fee-ae8b-afc6c885e952",
   "metadata": {},
   "outputs": [
    {
     "name": "stdout",
     "output_type": "stream",
     "text": [
      "['Salam Ajibola', 23, 89.99, True, ['Python', 'Java', 'C#']]\n"
     ]
    }
   ],
   "source": [
    "my_list = [\"Salam Ajibola\", 23, 89.99, True, [\"Python\", \"Java\", \"C#\"]]\n",
    "print(my_list)"
   ]
  },
  {
   "cell_type": "code",
   "execution_count": 29,
   "id": "13f58881-948a-4de6-8467-25b7f9c7e207",
   "metadata": {},
   "outputs": [
    {
     "name": "stdout",
     "output_type": "stream",
     "text": [
      "Salam Ajibola\n",
      "True\n",
      "['Python', 'Java', 'C#']\n"
     ]
    }
   ],
   "source": [
    "# List Indexing - Positive indexing \n",
    "print(my_list[0])\n",
    "print(my_list[3])\n",
    "print(my_list[4])"
   ]
  },
  {
   "cell_type": "code",
   "execution_count": 33,
   "id": "dec2215c-ea11-4345-8045-7ab5189e2165",
   "metadata": {},
   "outputs": [
    {
     "name": "stdout",
     "output_type": "stream",
     "text": [
      "Salam Ajibola\n",
      "True\n",
      "['Python', 'Java', 'C#']\n"
     ]
    }
   ],
   "source": [
    "# List Indexing - Negative indexing \n",
    "print(my_list[-5])\n",
    "print(my_list[-2])\n",
    "print(my_list[-1])"
   ]
  },
  {
   "cell_type": "code",
   "execution_count": 35,
   "id": "adaba894-87f1-459a-8e94-6cc8c8025b51",
   "metadata": {},
   "outputs": [
    {
     "name": "stdout",
     "output_type": "stream",
     "text": [
      "Python\n",
      "Java\n",
      "C#\n"
     ]
    }
   ],
   "source": [
    "# Nexted list Indexing - Positive Indexing\n",
    "print(my_list[4][0])\n",
    "print(my_list[4][1])\n",
    "print(my_list[4][2])"
   ]
  },
  {
   "cell_type": "code",
   "execution_count": 37,
   "id": "d43c11fe-67b5-4570-a58f-e4acd4702ce6",
   "metadata": {},
   "outputs": [
    {
     "name": "stdout",
     "output_type": "stream",
     "text": [
      "Python\n",
      "Java\n",
      "C#\n"
     ]
    }
   ],
   "source": [
    "# Nexted list Indexing - Negative Indexing\n",
    "print(my_list[4][-3])\n",
    "print(my_list[4][-2])\n",
    "print(my_list[4][-1])"
   ]
  },
  {
   "cell_type": "code",
   "execution_count": 39,
   "id": "7e48ddc4-5e11-42fc-9977-7d0b936f9774",
   "metadata": {},
   "outputs": [
    {
     "name": "stdout",
     "output_type": "stream",
     "text": [
      "['Salam Ajibola', 23, 89.99]\n",
      "[True, ['Python', 'Java', 'C#']]\n",
      "['Salam Ajibola', 23, 89.99]\n",
      "[True, ['Python', 'Java', 'C#']]\n"
     ]
    }
   ],
   "source": [
    "# List Slicing\n",
    "my_list = [\"Salam Ajibola\", 23, 89.99, True, [\"Python\", \"Java\", \"C#\"]]\n",
    "print(my_list[0:3])\n",
    "print(my_list[3:])\n",
    "print(my_list[-5:-2])\n",
    "print(my_list[-2:])\n",
    "\n",
    "\n",
    "\n"
   ]
  },
  {
   "cell_type": "code",
   "execution_count": 43,
   "id": "c31c35fa-f76b-4f0b-afa3-15986d780bf9",
   "metadata": {},
   "outputs": [
    {
     "name": "stdout",
     "output_type": "stream",
     "text": [
      "[('Mike', 40, 'Male'), ('Salam', 40, 'Male'), ('Mary', 50, 'Female')]\n"
     ]
    }
   ],
   "source": [
    "# Zip Function\n",
    "students = [\"Mike\", \"Salam\", \"Mary\"]\n",
    "ages = [40, 40, 50]\n",
    "gender = [\"Male\", \"Male\", \"Female\"]\n",
    "\n",
    "print(list(zip(students,ages,gender)))"
   ]
  },
  {
   "cell_type": "code",
   "execution_count": 45,
   "id": "abfabe66-457a-42e0-a0d2-7b0e5d7ec0e4",
   "metadata": {},
   "outputs": [
    {
     "name": "stdout",
     "output_type": "stream",
     "text": [
      "Salam Ajibola\n",
      "23\n",
      "89.99\n",
      "True\n",
      "['Python', 'Java', 'C#']\n"
     ]
    }
   ],
   "source": [
    "# using list with loops\n",
    "my_list = [\"Salam Ajibola\", 23, 89.99, True, [\"Python\", \"Java\", \"C#\"]]\n",
    "for item in my_list:\n",
    "    print(item)"
   ]
  },
  {
   "cell_type": "code",
   "execution_count": 53,
   "id": "1e092f3a-3e7c-4457-8cb2-6bb567d06b4d",
   "metadata": {},
   "outputs": [
    {
     "name": "stdout",
     "output_type": "stream",
     "text": [
      "0 Salam Ajibola\n",
      "1 23\n",
      "2 89.99\n",
      "3 True\n",
      "4 ['Python', 'Java', 'C#']\n"
     ]
    }
   ],
   "source": [
    "# using list with loops and enumerate function\n",
    "my_list = [\"Salam Ajibola\", 23, 89.99, True, [\"Python\", \"Java\", \"C#\"]]\n",
    "for index, item in enumerate (my_list):\n",
    "    print(index, item)"
   ]
  },
  {
   "cell_type": "code",
   "execution_count": 55,
   "id": "b1168665-6c9d-47f5-a357-6a2a9c20e906",
   "metadata": {},
   "outputs": [
    {
     "data": {
      "text/plain": [
       "['__add__',\n",
       " '__class__',\n",
       " '__class_getitem__',\n",
       " '__contains__',\n",
       " '__delattr__',\n",
       " '__delitem__',\n",
       " '__dir__',\n",
       " '__doc__',\n",
       " '__eq__',\n",
       " '__format__',\n",
       " '__ge__',\n",
       " '__getattribute__',\n",
       " '__getitem__',\n",
       " '__getstate__',\n",
       " '__gt__',\n",
       " '__hash__',\n",
       " '__iadd__',\n",
       " '__imul__',\n",
       " '__init__',\n",
       " '__init_subclass__',\n",
       " '__iter__',\n",
       " '__le__',\n",
       " '__len__',\n",
       " '__lt__',\n",
       " '__mul__',\n",
       " '__ne__',\n",
       " '__new__',\n",
       " '__reduce__',\n",
       " '__reduce_ex__',\n",
       " '__repr__',\n",
       " '__reversed__',\n",
       " '__rmul__',\n",
       " '__setattr__',\n",
       " '__setitem__',\n",
       " '__sizeof__',\n",
       " '__str__',\n",
       " '__subclasshook__',\n",
       " 'append',\n",
       " 'clear',\n",
       " 'copy',\n",
       " 'count',\n",
       " 'extend',\n",
       " 'index',\n",
       " 'insert',\n",
       " 'pop',\n",
       " 'remove',\n",
       " 'reverse',\n",
       " 'sort']"
      ]
     },
     "execution_count": 55,
     "metadata": {},
     "output_type": "execute_result"
    }
   ],
   "source": [
    "dir(list)"
   ]
  },
  {
   "cell_type": "code",
   "execution_count": 73,
   "id": "af6b0a93-1bd1-495e-b3c3-2b1fb9aeb6a6",
   "metadata": {},
   "outputs": [
    {
     "data": {
      "text/plain": [
       "\u001b[0;31mSignature:\u001b[0m \u001b[0mlist\u001b[0m\u001b[0;34m.\u001b[0m\u001b[0mappend\u001b[0m\u001b[0;34m(\u001b[0m\u001b[0mself\u001b[0m\u001b[0;34m,\u001b[0m \u001b[0mobject\u001b[0m\u001b[0;34m,\u001b[0m \u001b[0;34m/\u001b[0m\u001b[0;34m)\u001b[0m\u001b[0;34m\u001b[0m\u001b[0;34m\u001b[0m\u001b[0m\n",
       "\u001b[0;31mDocstring:\u001b[0m Append object to the end of the list.\n",
       "\u001b[0;31mType:\u001b[0m      method_descriptor"
      ]
     },
     "metadata": {},
     "output_type": "display_data"
    }
   ],
   "source": [
    "?list.append"
   ]
  },
  {
   "cell_type": "code",
   "execution_count": 77,
   "id": "7724a127-f040-49d3-814d-deadd7b6e02c",
   "metadata": {},
   "outputs": [
    {
     "data": {
      "text/plain": [
       "['Mike', 'Bob', 'Mary', 'Alex', ['Sarah', 'John']]"
      ]
     },
     "execution_count": 77,
     "metadata": {},
     "output_type": "execute_result"
    }
   ],
   "source": [
    "names = [\"Mike\", \"Bob\", \"Mary\"]\n",
    "names.append(\"Alex\")\n",
    "names.append([\"Sarah\", \"John\"])\n",
    "names"
   ]
  },
  {
   "cell_type": "code",
   "execution_count": 79,
   "id": "68222824-1c9c-4cf9-9019-9a030b82132c",
   "metadata": {},
   "outputs": [
    {
     "data": {
      "text/plain": [
       "\u001b[0;31mSignature:\u001b[0m \u001b[0mlist\u001b[0m\u001b[0;34m.\u001b[0m\u001b[0mclear\u001b[0m\u001b[0;34m(\u001b[0m\u001b[0mself\u001b[0m\u001b[0;34m,\u001b[0m \u001b[0;34m/\u001b[0m\u001b[0;34m)\u001b[0m\u001b[0;34m\u001b[0m\u001b[0;34m\u001b[0m\u001b[0m\n",
       "\u001b[0;31mDocstring:\u001b[0m Remove all items from list.\n",
       "\u001b[0;31mType:\u001b[0m      method_descriptor"
      ]
     },
     "metadata": {},
     "output_type": "display_data"
    }
   ],
   "source": [
    "?list.clear"
   ]
  },
  {
   "cell_type": "code",
   "execution_count": 83,
   "id": "e4c22eee-4aa8-429a-a915-45d642f5da86",
   "metadata": {},
   "outputs": [
    {
     "data": {
      "text/plain": [
       "[]"
      ]
     },
     "execution_count": 83,
     "metadata": {},
     "output_type": "execute_result"
    }
   ],
   "source": [
    "names.clear()\n",
    "names"
   ]
  },
  {
   "cell_type": "code",
   "execution_count": 85,
   "id": "66539cf3-98a1-4b2c-98e6-592d6bd95509",
   "metadata": {},
   "outputs": [
    {
     "data": {
      "text/plain": [
       "\u001b[0;31mSignature:\u001b[0m \u001b[0mlist\u001b[0m\u001b[0;34m.\u001b[0m\u001b[0mcount\u001b[0m\u001b[0;34m(\u001b[0m\u001b[0mself\u001b[0m\u001b[0;34m,\u001b[0m \u001b[0mvalue\u001b[0m\u001b[0;34m,\u001b[0m \u001b[0;34m/\u001b[0m\u001b[0;34m)\u001b[0m\u001b[0;34m\u001b[0m\u001b[0;34m\u001b[0m\u001b[0m\n",
       "\u001b[0;31mDocstring:\u001b[0m Return number of occurrences of value.\n",
       "\u001b[0;31mType:\u001b[0m      method_descriptor"
      ]
     },
     "metadata": {},
     "output_type": "display_data"
    }
   ],
   "source": [
    "?list.count"
   ]
  },
  {
   "cell_type": "code",
   "execution_count": 87,
   "id": "d2e1db3c-ce18-49bc-805c-49734c400557",
   "metadata": {},
   "outputs": [
    {
     "data": {
      "text/plain": [
       "2"
      ]
     },
     "execution_count": 87,
     "metadata": {},
     "output_type": "execute_result"
    }
   ],
   "source": [
    "names = [\"Mike\", \"Bob\", \"Mary\", \"Bob\"]\n",
    "names.count(\"Bob\")"
   ]
  },
  {
   "cell_type": "code",
   "execution_count": 89,
   "id": "0005d1da-6c7a-4727-9de3-65d4cfdae123",
   "metadata": {},
   "outputs": [
    {
     "data": {
      "text/plain": [
       "\u001b[0;31mSignature:\u001b[0m \u001b[0mlist\u001b[0m\u001b[0;34m.\u001b[0m\u001b[0mextend\u001b[0m\u001b[0;34m(\u001b[0m\u001b[0mself\u001b[0m\u001b[0;34m,\u001b[0m \u001b[0miterable\u001b[0m\u001b[0;34m,\u001b[0m \u001b[0;34m/\u001b[0m\u001b[0;34m)\u001b[0m\u001b[0;34m\u001b[0m\u001b[0;34m\u001b[0m\u001b[0m\n",
       "\u001b[0;31mDocstring:\u001b[0m Extend list by appending elements from the iterable.\n",
       "\u001b[0;31mType:\u001b[0m      method_descriptor"
      ]
     },
     "metadata": {},
     "output_type": "display_data"
    }
   ],
   "source": [
    "?list.extend"
   ]
  },
  {
   "cell_type": "code",
   "execution_count": 91,
   "id": "1d5f31d2-dc9e-46e8-9688-e71ef12338c4",
   "metadata": {},
   "outputs": [
    {
     "data": {
      "text/plain": [
       "[1, 2, 3, 4, 5, 6, 7, 8, 9, 10]"
      ]
     },
     "execution_count": 91,
     "metadata": {},
     "output_type": "execute_result"
    }
   ],
   "source": [
    "nums1 = [1,2,3,4,5]\n",
    "nums2 = [6,7,8,9,10]\n",
    "nums1.extend(nums2)\n",
    "nums1"
   ]
  },
  {
   "cell_type": "code",
   "execution_count": 93,
   "id": "16b96978-d169-4873-b1ea-0ea2fc67a89f",
   "metadata": {},
   "outputs": [
    {
     "data": {
      "text/plain": [
       "\u001b[0;31mSignature:\u001b[0m \u001b[0mlist\u001b[0m\u001b[0;34m.\u001b[0m\u001b[0mindex\u001b[0m\u001b[0;34m(\u001b[0m\u001b[0mself\u001b[0m\u001b[0;34m,\u001b[0m \u001b[0mvalue\u001b[0m\u001b[0;34m,\u001b[0m \u001b[0mstart\u001b[0m\u001b[0;34m=\u001b[0m\u001b[0;36m0\u001b[0m\u001b[0;34m,\u001b[0m \u001b[0mstop\u001b[0m\u001b[0;34m=\u001b[0m\u001b[0;36m9223372036854775807\u001b[0m\u001b[0;34m,\u001b[0m \u001b[0;34m/\u001b[0m\u001b[0;34m)\u001b[0m\u001b[0;34m\u001b[0m\u001b[0;34m\u001b[0m\u001b[0m\n",
       "\u001b[0;31mDocstring:\u001b[0m\n",
       "Return first index of value.\n",
       "\n",
       "Raises ValueError if the value is not present.\n",
       "\u001b[0;31mType:\u001b[0m      method_descriptor"
      ]
     },
     "metadata": {},
     "output_type": "display_data"
    }
   ],
   "source": [
    "?list.index"
   ]
  },
  {
   "cell_type": "code",
   "execution_count": 95,
   "id": "7160b18d-ae27-4433-a18c-5109d1483205",
   "metadata": {},
   "outputs": [
    {
     "data": {
      "text/plain": [
       "1"
      ]
     },
     "execution_count": 95,
     "metadata": {},
     "output_type": "execute_result"
    }
   ],
   "source": [
    "names = [\"Mike\", \"Bob\", \"Mary\", \"Bob\"]\n",
    "names.index(\"Bob\")"
   ]
  },
  {
   "cell_type": "code",
   "execution_count": 57,
   "id": "9111a9ea-d927-4d02-a7bf-eb144b83a9a8",
   "metadata": {},
   "outputs": [
    {
     "data": {
      "text/plain": [
       "['Mike', 'Bob', 'Sarah']"
      ]
     },
     "execution_count": 57,
     "metadata": {},
     "output_type": "execute_result"
    }
   ],
   "source": [
    "names = [\"Mike\", \"Bob\", \"Mary\"]\n",
    "names[2] = \"Sarah\"\n",
    "names"
   ]
  },
  {
   "cell_type": "code",
   "execution_count": 61,
   "id": "ae16a0c0-6a6f-4a27-8408-29033b60a723",
   "metadata": {},
   "outputs": [
    {
     "name": "stdout",
     "output_type": "stream",
     "text": [
      "Mike\n",
      "Bob\n",
      "Sarah\n"
     ]
    }
   ],
   "source": [
    "for i in range(len(names)):\n",
    "    print(names[i])"
   ]
  },
  {
   "cell_type": "code",
   "execution_count": 63,
   "id": "6c93cf92-3c62-4a2e-ac7a-320256bcb7cd",
   "metadata": {},
   "outputs": [
    {
     "name": "stdout",
     "output_type": "stream",
     "text": [
      "[1, 2, 3, 4, 5, 6, 7, 8, 9, 10]\n"
     ]
    }
   ],
   "source": [
    "nums1 = [1,2,3,4,5]\n",
    "nums2 = [6,7,8,9,10]\n",
    "\n",
    "nums = nums1 + nums2\n",
    "print(nums)"
   ]
  },
  {
   "cell_type": "code",
   "execution_count": 69,
   "id": "b851199d-c5c4-40eb-8549-982b906d18f1",
   "metadata": {},
   "outputs": [
    {
     "data": {
      "text/plain": [
       "[1, 2, 3, 4, 5, 6, 7, 8, 9, 10]"
      ]
     },
     "execution_count": 69,
     "metadata": {},
     "output_type": "execute_result"
    }
   ],
   "source": [
    "nums1 = [1,2,3,4,5]\n",
    "nums2 = [6,7,8,9,10]\n",
    "\n",
    "nums = nums1.__add__(nums2)\n",
    "nums"
   ]
  },
  {
   "cell_type": "code",
   "execution_count": 71,
   "id": "b06c2a75-009c-4cc0-9c67-035c44810fa4",
   "metadata": {},
   "outputs": [
    {
     "name": "stdout",
     "output_type": "stream",
     "text": [
      "False\n",
      "False\n"
     ]
    }
   ],
   "source": [
    "print(nums == nums2)\n",
    "print(nums1.__eq__(nums2))"
   ]
  },
  {
   "cell_type": "code",
   "execution_count": 97,
   "id": "12209510-7c5b-4973-890a-92cb514516a4",
   "metadata": {},
   "outputs": [
    {
     "data": {
      "text/plain": [
       "\u001b[0;31mSignature:\u001b[0m \u001b[0mlist\u001b[0m\u001b[0;34m.\u001b[0m\u001b[0minsert\u001b[0m\u001b[0;34m(\u001b[0m\u001b[0mself\u001b[0m\u001b[0;34m,\u001b[0m \u001b[0mindex\u001b[0m\u001b[0;34m,\u001b[0m \u001b[0mobject\u001b[0m\u001b[0;34m,\u001b[0m \u001b[0;34m/\u001b[0m\u001b[0;34m)\u001b[0m\u001b[0;34m\u001b[0m\u001b[0;34m\u001b[0m\u001b[0m\n",
       "\u001b[0;31mDocstring:\u001b[0m Insert object before index.\n",
       "\u001b[0;31mType:\u001b[0m      method_descriptor"
      ]
     },
     "metadata": {},
     "output_type": "display_data"
    }
   ],
   "source": [
    "?list.insert"
   ]
  },
  {
   "cell_type": "code",
   "execution_count": 101,
   "id": "fa8e9cf0-eb40-4629-8d57-2a528117cbdc",
   "metadata": {},
   "outputs": [
    {
     "data": {
      "text/plain": [
       "['Mike', 'Bob', 'Alex', 'Mary']"
      ]
     },
     "execution_count": 101,
     "metadata": {},
     "output_type": "execute_result"
    }
   ],
   "source": [
    "names = [\"Mike\", \"Bob\", \"Mary\"]\n",
    "names.insert(2, \"Alex\")\n",
    "names"
   ]
  },
  {
   "cell_type": "code",
   "execution_count": 103,
   "id": "f54cc586-90dd-4b19-a8a8-73431197c8e0",
   "metadata": {},
   "outputs": [
    {
     "data": {
      "text/plain": [
       "\u001b[0;31mSignature:\u001b[0m \u001b[0mlist\u001b[0m\u001b[0;34m.\u001b[0m\u001b[0mpop\u001b[0m\u001b[0;34m(\u001b[0m\u001b[0mself\u001b[0m\u001b[0;34m,\u001b[0m \u001b[0mindex\u001b[0m\u001b[0;34m=\u001b[0m\u001b[0;34m-\u001b[0m\u001b[0;36m1\u001b[0m\u001b[0;34m,\u001b[0m \u001b[0;34m/\u001b[0m\u001b[0;34m)\u001b[0m\u001b[0;34m\u001b[0m\u001b[0;34m\u001b[0m\u001b[0m\n",
       "\u001b[0;31mDocstring:\u001b[0m\n",
       "Remove and return item at index (default last).\n",
       "\n",
       "Raises IndexError if list is empty or index is out of range.\n",
       "\u001b[0;31mType:\u001b[0m      method_descriptor"
      ]
     },
     "metadata": {},
     "output_type": "display_data"
    }
   ],
   "source": [
    "?list.pop"
   ]
  },
  {
   "cell_type": "code",
   "execution_count": 107,
   "id": "ef00a334-a0b9-4d55-a0e2-ebcf84b9b7ae",
   "metadata": {},
   "outputs": [
    {
     "data": {
      "text/plain": [
       "'Mary'"
      ]
     },
     "execution_count": 107,
     "metadata": {},
     "output_type": "execute_result"
    }
   ],
   "source": [
    "names = [\"Mike\", \"Bob\", \"Mary\"]\n",
    "names.pop()"
   ]
  },
  {
   "cell_type": "code",
   "execution_count": 109,
   "id": "83344fb1-b3dc-49ec-ac8d-507023aee17a",
   "metadata": {},
   "outputs": [
    {
     "data": {
      "text/plain": [
       "\u001b[0;31mSignature:\u001b[0m \u001b[0mlist\u001b[0m\u001b[0;34m.\u001b[0m\u001b[0mremove\u001b[0m\u001b[0;34m(\u001b[0m\u001b[0mself\u001b[0m\u001b[0;34m,\u001b[0m \u001b[0mvalue\u001b[0m\u001b[0;34m,\u001b[0m \u001b[0;34m/\u001b[0m\u001b[0;34m)\u001b[0m\u001b[0;34m\u001b[0m\u001b[0;34m\u001b[0m\u001b[0m\n",
       "\u001b[0;31mDocstring:\u001b[0m\n",
       "Remove first occurrence of value.\n",
       "\n",
       "Raises ValueError if the value is not present.\n",
       "\u001b[0;31mType:\u001b[0m      method_descriptor"
      ]
     },
     "metadata": {},
     "output_type": "display_data"
    }
   ],
   "source": [
    "?list.remove"
   ]
  },
  {
   "cell_type": "code",
   "execution_count": 111,
   "id": "24527080-8803-47e2-9d8c-8088edaae5ad",
   "metadata": {},
   "outputs": [
    {
     "data": {
      "text/plain": [
       "['Mike', 'Bob']"
      ]
     },
     "execution_count": 111,
     "metadata": {},
     "output_type": "execute_result"
    }
   ],
   "source": [
    "names = [\"Mike\", \"Bob\", \"Mary\"]\n",
    "names.remove(\"Mary\")\n",
    "names"
   ]
  },
  {
   "cell_type": "code",
   "execution_count": 113,
   "id": "6e2e547b-7a64-4316-a38e-fd646af399ca",
   "metadata": {},
   "outputs": [
    {
     "data": {
      "text/plain": [
       "\u001b[0;31mSignature:\u001b[0m \u001b[0mlist\u001b[0m\u001b[0;34m.\u001b[0m\u001b[0mreverse\u001b[0m\u001b[0;34m(\u001b[0m\u001b[0mself\u001b[0m\u001b[0;34m,\u001b[0m \u001b[0;34m/\u001b[0m\u001b[0;34m)\u001b[0m\u001b[0;34m\u001b[0m\u001b[0;34m\u001b[0m\u001b[0m\n",
       "\u001b[0;31mDocstring:\u001b[0m Reverse *IN PLACE*.\n",
       "\u001b[0;31mType:\u001b[0m      method_descriptor"
      ]
     },
     "metadata": {},
     "output_type": "display_data"
    }
   ],
   "source": [
    "?list.reverse"
   ]
  },
  {
   "cell_type": "code",
   "execution_count": 115,
   "id": "e7bee4b4-c1bd-43a0-b715-310166dd243f",
   "metadata": {},
   "outputs": [
    {
     "data": {
      "text/plain": [
       "['Mary', 'Bob', 'Mike']"
      ]
     },
     "execution_count": 115,
     "metadata": {},
     "output_type": "execute_result"
    }
   ],
   "source": [
    "names = [\"Mike\", \"Bob\", \"Mary\"]\n",
    "names.reverse()\n",
    "names"
   ]
  },
  {
   "cell_type": "code",
   "execution_count": 117,
   "id": "dd3285ca-9816-4225-8d18-77334be747b8",
   "metadata": {},
   "outputs": [
    {
     "data": {
      "text/plain": [
       "\u001b[0;31mSignature:\u001b[0m \u001b[0mlist\u001b[0m\u001b[0;34m.\u001b[0m\u001b[0msort\u001b[0m\u001b[0;34m(\u001b[0m\u001b[0mself\u001b[0m\u001b[0;34m,\u001b[0m \u001b[0;34m/\u001b[0m\u001b[0;34m,\u001b[0m \u001b[0;34m*\u001b[0m\u001b[0;34m,\u001b[0m \u001b[0mkey\u001b[0m\u001b[0;34m=\u001b[0m\u001b[0;32mNone\u001b[0m\u001b[0;34m,\u001b[0m \u001b[0mreverse\u001b[0m\u001b[0;34m=\u001b[0m\u001b[0;32mFalse\u001b[0m\u001b[0;34m)\u001b[0m\u001b[0;34m\u001b[0m\u001b[0;34m\u001b[0m\u001b[0m\n",
       "\u001b[0;31mDocstring:\u001b[0m\n",
       "Sort the list in ascending order and return None.\n",
       "\n",
       "The sort is in-place (i.e. the list itself is modified) and stable (i.e. the\n",
       "order of two equal elements is maintained).\n",
       "\n",
       "If a key function is given, apply it once to each list item and sort them,\n",
       "ascending or descending, according to their function values.\n",
       "\n",
       "The reverse flag can be set to sort in descending order.\n",
       "\u001b[0;31mType:\u001b[0m      method_descriptor"
      ]
     },
     "metadata": {},
     "output_type": "display_data"
    }
   ],
   "source": [
    "?list.sort"
   ]
  },
  {
   "cell_type": "code",
   "execution_count": 121,
   "id": "317c4da6-3ad7-41d0-8b08-e7e0820d71b3",
   "metadata": {},
   "outputs": [
    {
     "data": {
      "text/plain": [
       "[2, 6, 10, 20, 30, 100]"
      ]
     },
     "execution_count": 121,
     "metadata": {},
     "output_type": "execute_result"
    }
   ],
   "source": [
    "nums = [100, 30, 2, 6, 10, 20]\n",
    "nums.sort()\n",
    "nums "
   ]
  },
  {
   "cell_type": "code",
   "execution_count": 131,
   "id": "f678195a-15a1-4802-b0f9-c75c2484a22f",
   "metadata": {},
   "outputs": [
    {
     "data": {
      "text/plain": [
       "[100, 30, 20, 10, 6, 2]"
      ]
     },
     "execution_count": 131,
     "metadata": {},
     "output_type": "execute_result"
    }
   ],
   "source": [
    "nums = [100, 30, 2, 6, 10, 20]\n",
    "nums.sort()\n",
    "nums.sort(reverse=True)\n",
    "nums"
   ]
  },
  {
   "cell_type": "code",
   "execution_count": 141,
   "id": "0827b13d-1104-4e19-adcd-3efd01705ac6",
   "metadata": {},
   "outputs": [
    {
     "name": "stdin",
     "output_type": "stream",
     "text": [
      "Enter a number. Press 'Q' to exit:  1\n",
      "Enter a number. Press 'Q' to exit:  2\n",
      "Enter a number. Press 'Q' to exit:  3\n",
      "Enter a number. Press 'Q' to exit:  4\n",
      "Enter a number. Press 'Q' to exit:  5\n",
      "Enter a number. Press 'Q' to exit:  q\n"
     ]
    },
    {
     "name": "stdout",
     "output_type": "stream",
     "text": [
      "5 15.0 3.0\n"
     ]
    }
   ],
   "source": [
    "count = 0\n",
    "Total = 0\n",
    "while True:\n",
    "    value = input(\"Enter a number. Press 'Q' to exit: \").strip().lower()\n",
    "    if value.isdigit():\n",
    "        num = float(value)\n",
    "        count += 1\n",
    "        Total += num\n",
    "    elif value in [\"q\", \"quit\"]:\n",
    "        break\n",
    "avg = Total / count \n",
    "print(count, Total, avg)"
   ]
  },
  {
   "cell_type": "code",
   "execution_count": null,
   "id": "36ee35f3-fdff-4c93-aab7-3f71e2bf60e3",
   "metadata": {},
   "outputs": [],
   "source": []
  }
 ],
 "metadata": {
  "kernelspec": {
   "display_name": "Python 3 (ipykernel)",
   "language": "python",
   "name": "python3"
  },
  "language_info": {
   "codemirror_mode": {
    "name": "ipython",
    "version": 3
   },
   "file_extension": ".py",
   "mimetype": "text/x-python",
   "name": "python",
   "nbconvert_exporter": "python",
   "pygments_lexer": "ipython3",
   "version": "3.12.4"
  }
 },
 "nbformat": 4,
 "nbformat_minor": 5
}
