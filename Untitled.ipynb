{
 "cells": [
  {
   "cell_type": "code",
   "execution_count": 2,
   "id": "0da2d62f-62ab-4d5b-a4fa-5d61484f38cc",
   "metadata": {},
   "outputs": [
    {
     "name": "stdout",
     "output_type": "stream",
     "text": [
      "Old Value: 5\n",
      "New Value: 4\n",
      "Old Value: 4\n",
      "New Value: 3\n",
      "Old Value: 3\n",
      "New Value: 2\n",
      "Old Value: 2\n",
      "New Value: 1\n",
      "Old Value: 1\n",
      "New Value: 0\n",
      "Current Value: 0\n"
     ]
    }
   ],
   "source": [
    "n = 5\n",
    "while n > 0:\n",
    "    print(\"Old Value:\", n)\n",
    "    n-= 1\n",
    "    print(\"New Value:\", n)\n",
    "print(\"Current Value:\", n)"
   ]
  },
  {
   "cell_type": "code",
   "execution_count": 4,
   "id": "81f689d5-3385-4bfa-972f-c1af14e3f9e6",
   "metadata": {},
   "outputs": [
    {
     "name": "stdout",
     "output_type": "stream",
     "text": [
      "Old Value: 0\n",
      "New Value: 1\n",
      "Old Value: 1\n",
      "New Value: 2\n",
      "Old Value: 2\n",
      "New Value: 3\n",
      "Old Value: 3\n",
      "New Value: 4\n",
      "Old Value: 4\n",
      "New Value: 5\n",
      "Current Value: 5\n"
     ]
    }
   ],
   "source": [
    "n = 0\n",
    "while n < 5:\n",
    "    print(\"Old Value:\", n)\n",
    "    n+= 1\n",
    "    print(\"New Value:\", n)\n",
    "print(\"Current Value:\", n)"
   ]
  },
  {
   "cell_type": "code",
   "execution_count": 8,
   "id": "c1b97559-beec-4dac-88f7-45c6a202f5d2",
   "metadata": {},
   "outputs": [
    {
     "name": "stdout",
     "output_type": "stream",
     "text": [
      "Dry Off\n"
     ]
    }
   ],
   "source": [
    "# this loopp won't run becaause it evaluates to false\n",
    "n = 0 \n",
    "while n > 0:\n",
    "    print(\"Lather\")\n",
    "    print(\"Rinse\")\n",
    "print(\"Dry Off\")"
   ]
  },
  {
   "cell_type": "code",
   "execution_count": 36,
   "id": "022e265b-4b81-4c5c-85c2-a52fec871db7",
   "metadata": {},
   "outputs": [
    {
     "name": "stdout",
     "output_type": "stream",
     "text": [
      "5\n"
     ]
    }
   ],
   "source": [
    "# breakig out of a loop using a break statement\n",
    "n = 5\n",
    "while n > 0:\n",
    "    print(n)\n",
    "    break\n",
    "   "
   ]
  },
  {
   "cell_type": "code",
   "execution_count": 42,
   "id": "31b77192-9b39-4dd2-9c7a-d020e3098c67",
   "metadata": {},
   "outputs": [
    {
     "name": "stdout",
     "output_type": "stream",
     "text": [
      "5\n",
      "4\n"
     ]
    }
   ],
   "source": [
    "n = 5\n",
    "while n > 0:\n",
    "    print(n)\n",
    "    n -= 1\n",
    "    if n == 3:\n",
    "        break  "
   ]
  },
  {
   "cell_type": "code",
   "execution_count": 1,
   "id": "da95e24e-7cf5-4745-a950-3b9f9f74db51",
   "metadata": {},
   "outputs": [
    {
     "name": "stdout",
     "output_type": "stream",
     "text": [
      "0\n",
      "1\n",
      "2\n"
     ]
    }
   ],
   "source": [
    "n = 0 \n",
    "while n < 5:\n",
    "    print(n)\n",
    "    n += 1\n",
    "    if n == 3:\n",
    "        break"
   ]
  },
  {
   "cell_type": "code",
   "execution_count": 52,
   "id": "e936a637-a04e-48c0-8512-f93269a7f3fe",
   "metadata": {},
   "outputs": [
    {
     "name": "stdin",
     "output_type": "stream",
     "text": [
      "Enter Your Username:  ghbdeef\n",
      "Enter your Password:  erghj\n"
     ]
    },
    {
     "name": "stdout",
     "output_type": "stream",
     "text": [
      "Login Unsuccessful\n"
     ]
    },
    {
     "name": "stdin",
     "output_type": "stream",
     "text": [
      "Enter Your Username:  egrf\n",
      "Enter your Password:  weghfwj'\n"
     ]
    },
    {
     "name": "stdout",
     "output_type": "stream",
     "text": [
      "Login Unsuccessful\n"
     ]
    },
    {
     "name": "stdin",
     "output_type": "stream",
     "text": [
      "Enter Your Username:  fwewe\n",
      "Enter your Password:  g\n"
     ]
    },
    {
     "name": "stdout",
     "output_type": "stream",
     "text": [
      "Login Unsuccessful\n"
     ]
    },
    {
     "name": "stdin",
     "output_type": "stream",
     "text": [
      "Enter Your Username:  egr\n",
      "Enter your Password:  rf\n"
     ]
    },
    {
     "name": "stdout",
     "output_type": "stream",
     "text": [
      "Login Unsuccessful\n"
     ]
    },
    {
     "name": "stdin",
     "output_type": "stream",
     "text": [
      "Enter Your Username:  Salam\n",
      "Enter your Password:  0125\n"
     ]
    },
    {
     "name": "stdout",
     "output_type": "stream",
     "text": [
      "Login Successful\n"
     ]
    }
   ],
   "source": [
    "# Simple password app\n",
    "while True: \n",
    "    username = input(\"Enter Your Username: \")\n",
    "    Password = input(\"Enter your Password: \")\n",
    "    if username == \"Salam\" and Password == \"0125\":\n",
    "        print(\"Login Successful\")\n",
    "        break\n",
    "    else:\n",
    "        print(\"Login Unsuccessful\")"
   ]
  },
  {
   "cell_type": "code",
   "execution_count": 66,
   "id": "f38ff400-5905-487e-937d-fb85b41dfdb7",
   "metadata": {},
   "outputs": [
    {
     "name": "stdout",
     "output_type": "stream",
     "text": [
      "5\n",
      "4\n",
      "2\n",
      "1\n"
     ]
    }
   ],
   "source": [
    "# using continue statement # start at 5 \n",
    "n = 5 \n",
    "while n > 0:\n",
    "    if n == 3:\n",
    "        n-= 1\n",
    "        continue\n",
    "    print(n)\n",
    "    n -= 1"
   ]
  },
  {
   "cell_type": "code",
   "execution_count": 68,
   "id": "579f2320-7fcd-4c6b-8c93-42a0828cd271",
   "metadata": {},
   "outputs": [
    {
     "name": "stdout",
     "output_type": "stream",
     "text": [
      "0\n",
      "1\n",
      "2\n",
      "4\n"
     ]
    }
   ],
   "source": [
    "n = 0 \n",
    "while n < 5:\n",
    "    if n == 3:\n",
    "        n+= 1\n",
    "        continue\n",
    "    print(n)\n",
    "    n += 1"
   ]
  },
  {
   "cell_type": "code",
   "execution_count": 78,
   "id": "e0312408-5db4-40bd-a21e-85696053e3d8",
   "metadata": {},
   "outputs": [
    {
     "name": "stdout",
     "output_type": "stream",
     "text": [
      "Welcome Salam!\n",
      "Welcome Bob!\n",
      "Welcome Mike!\n"
     ]
    }
   ],
   "source": [
    "# For\n",
    "for i in (\"Salam\", \"Bob\", \"Mike\"):\n",
    "    print(f\"Welcome {i}!\")"
   ]
  },
  {
   "cell_type": "code",
   "execution_count": 80,
   "id": "f4254b7e-189b-4afd-a426-39a2528c124c",
   "metadata": {},
   "outputs": [
    {
     "name": "stdout",
     "output_type": "stream",
     "text": [
      "1\n",
      "4\n",
      "9\n",
      "16\n",
      "25\n"
     ]
    }
   ],
   "source": [
    "for i in [1,2,3,4,5]:\n",
    "    print(i ** 2)"
   ]
  },
  {
   "cell_type": "code",
   "execution_count": 86,
   "id": "9dd235ed-e5df-4072-a526-76d67668288b",
   "metadata": {},
   "outputs": [
    {
     "name": "stdout",
     "output_type": "stream",
     "text": [
      "1\n",
      "4\n",
      "9\n",
      "16\n",
      "25\n"
     ]
    }
   ],
   "source": [
    "for i in range(1, 6):\n",
    "    print(i ** 2)"
   ]
  },
  {
   "cell_type": "code",
   "execution_count": 92,
   "id": "4697ea75-5358-48e4-83f0-bfc6da65d532",
   "metadata": {},
   "outputs": [
    {
     "data": {
      "text/plain": [
       "15"
      ]
     },
     "execution_count": 92,
     "metadata": {},
     "output_type": "execute_result"
    }
   ],
   "source": [
    "sum(range(1, 6))"
   ]
  },
  {
   "cell_type": "code",
   "execution_count": 96,
   "id": "4b1d16a7-0ee7-4090-9e75-80df30652703",
   "metadata": {},
   "outputs": [
    {
     "data": {
      "text/plain": [
       "15"
      ]
     },
     "execution_count": 96,
     "metadata": {},
     "output_type": "execute_result"
    }
   ],
   "source": [
    "sum([1,2,3,4,5])"
   ]
  },
  {
   "cell_type": "code",
   "execution_count": 98,
   "id": "61f82dbe-dce2-42f4-8624-35c5f51b9802",
   "metadata": {},
   "outputs": [
    {
     "data": {
      "text/plain": [
       "5"
      ]
     },
     "execution_count": 98,
     "metadata": {},
     "output_type": "execute_result"
    }
   ],
   "source": [
    "len(range(1,6))"
   ]
  },
  {
   "cell_type": "code",
   "execution_count": 100,
   "id": "f9e2586c-5552-4f2f-a6c4-2f7a5779719a",
   "metadata": {},
   "outputs": [
    {
     "data": {
      "text/plain": [
       "5"
      ]
     },
     "execution_count": 100,
     "metadata": {},
     "output_type": "execute_result"
    }
   ],
   "source": [
    "len([1,2,3,4,5])"
   ]
  },
  {
   "cell_type": "code",
   "execution_count": 102,
   "id": "21e82783-5821-43c3-89dd-a1e919a26f9e",
   "metadata": {},
   "outputs": [
    {
     "data": {
      "text/plain": [
       "3.0"
      ]
     },
     "execution_count": 102,
     "metadata": {},
     "output_type": "execute_result"
    }
   ],
   "source": [
    "sum([1,2,3,4,5]) / len([1,2,3,4,5])"
   ]
  },
  {
   "cell_type": "code",
   "execution_count": 104,
   "id": "4c26ce2c-1741-4774-a862-b43b6b7ca02d",
   "metadata": {},
   "outputs": [
    {
     "data": {
      "text/plain": [
       "1"
      ]
     },
     "execution_count": 104,
     "metadata": {},
     "output_type": "execute_result"
    }
   ],
   "source": [
    "min([1,2,3,4,5])"
   ]
  },
  {
   "cell_type": "code",
   "execution_count": 106,
   "id": "64cb1c9d-c047-405a-abbc-3f2c3050e0d6",
   "metadata": {},
   "outputs": [
    {
     "data": {
      "text/plain": [
       "5"
      ]
     },
     "execution_count": 106,
     "metadata": {},
     "output_type": "execute_result"
    }
   ],
   "source": [
    "max([1,2,3,4,5])"
   ]
  },
  {
   "cell_type": "code",
   "execution_count": 114,
   "id": "cbf0566c-b5f1-49af-8961-7f15e8512fc7",
   "metadata": {},
   "outputs": [
    {
     "name": "stdout",
     "output_type": "stream",
     "text": [
      "sum: 15\n",
      "len: 5\n",
      "Average: 3.0\n"
     ]
    }
   ],
   "source": [
    "total = 0\n",
    "count = 0\n",
    "for i in range(1,6):\n",
    "    total += i\n",
    "    count += 1\n",
    "avg = total / count \n",
    "print(\"sum:\" , total)\n",
    "print(\"len:\" , count)\n",
    "print(\"Average:\" , avg)\n",
    "\n",
    "    \n"
   ]
  },
  {
   "cell_type": "code",
   "execution_count": 124,
   "id": "09e54d47-1f17-4652-b857-24f967193f60",
   "metadata": {},
   "outputs": [],
   "source": [
    "def average(lst):\n",
    "    total = 0\n",
    "    count = 0\n",
    "    for i in lst:\n",
    "        total += i\n",
    "        count += 1\n",
    "    avg = total / count \n",
    "  #  print(\"sum:\" , total)\n",
    "  #   print(\"len:\" , count)\n",
    "    print(\"Average:\" , avg)\n"
   ]
  },
  {
   "cell_type": "code",
   "execution_count": 126,
   "id": "0eaad760-1b0c-4eda-966a-5f36d2f41b82",
   "metadata": {},
   "outputs": [
    {
     "name": "stdout",
     "output_type": "stream",
     "text": [
      "Average: 3.5\n",
      "None\n"
     ]
    }
   ],
   "source": [
    "print(average([1,2,3,4,5,6]))"
   ]
  },
  {
   "cell_type": "code",
   "execution_count": 128,
   "id": "356ab03d-59d2-4120-9ffb-abb3d86f016f",
   "metadata": {},
   "outputs": [
    {
     "ename": "SyntaxError",
     "evalue": "unterminated string literal (detected at line 10) (1536931453.py, line 10)",
     "output_type": "error",
     "traceback": [
      "\u001b[0;36m  Cell \u001b[0;32mIn[128], line 10\u001b[0;36m\u001b[0m\n\u001b[0;31m    return f\"\"Average: {avg}\"\u001b[0m\n\u001b[0m                            ^\u001b[0m\n\u001b[0;31mSyntaxError\u001b[0m\u001b[0;31m:\u001b[0m unterminated string literal (detected at line 10)\n"
     ]
    }
   ],
   "source": [
    "def average(*args):\n",
    "    total = 0\n",
    "    count = 0\n",
    "    for i in args:\n",
    "        total += i\n",
    "        count += 1\n",
    "    avg = total / count \n",
    "  #  print(\"sum:\" , total)\n",
    "  #   print(\"len:\" , count)\n",
    "    return f\"\"Average: {avg}\"\n"
   ]
  },
  {
   "cell_type": "code",
   "execution_count": 132,
   "id": "b01be9fe-1b32-430a-86b1-a7d193420738",
   "metadata": {},
   "outputs": [
    {
     "name": "stdout",
     "output_type": "stream",
     "text": [
      "3000000\n"
     ]
    }
   ],
   "source": [
    "nums = [10000, 5, 10, 3000000, -1, 100]\n",
    "maximum = 0\n",
    "for i in nums: \n",
    "    if i > maximum:\n",
    "        maximum = i\n",
    "print(maximum)"
   ]
  },
  {
   "cell_type": "code",
   "execution_count": 144,
   "id": "c0e14a79-e87e-4c0b-b447-a11596d8a89d",
   "metadata": {},
   "outputs": [
    {
     "name": "stdout",
     "output_type": "stream",
     "text": [
      "3000000\n"
     ]
    }
   ],
   "source": [
    "def maximum(*args):\n",
    "    nums = [10000, 5, 10, 3000000, -1, 100]\n",
    "    maximum = 0\n",
    "    for i in args: \n",
    "        if i > maximum:\n",
    "            maximum = i\n",
    "    return maximum \n",
    "max = maximum(10000, 5, 10, 3000000, -1, 100)\n",
    "print(max)"
   ]
  },
  {
   "cell_type": "code",
   "execution_count": 146,
   "id": "9b69e375-b4da-43e1-a413-3db0fbc61d3a",
   "metadata": {},
   "outputs": [
    {
     "name": "stdout",
     "output_type": "stream",
     "text": [
      "-1\n"
     ]
    }
   ],
   "source": [
    "nums = [10000, 5, 10, 3000000, -1, 100]\n",
    "minimum = 0\n",
    "for i in nums: \n",
    "    if i < minimum:\n",
    "        minimum = i\n",
    "print(minimum)"
   ]
  },
  {
   "cell_type": "code",
   "execution_count": 150,
   "id": "0fdaac9f-7d9d-4de3-a568-c6eb91fcb637",
   "metadata": {},
   "outputs": [
    {
     "name": "stdout",
     "output_type": "stream",
     "text": [
      "-1\n"
     ]
    }
   ],
   "source": [
    "def minimum(*args):\n",
    "    nums = [10000, 5, 10, 3000000, -1, 100]\n",
    "    minimum = 0\n",
    "    for i in args: \n",
    "        if i < minimum:\n",
    "            minimum = i\n",
    "    return minimum \n",
    "min = minimum(10000, 5, 10, 3000000, -1, 100)\n",
    "print(min)"
   ]
  },
  {
   "cell_type": "code",
   "execution_count": 154,
   "id": "d70fe1ef-6126-4d16-a6d4-dc1a3d2df0f7",
   "metadata": {},
   "outputs": [
    {
     "name": "stdout",
     "output_type": "stream",
     "text": [
      "3\n"
     ]
    }
   ],
   "source": [
    "smallest = None \n",
    "for value in [9,41,12,3,74,15]:\n",
    "    if smallest is None:\n",
    "        smallest = value \n",
    "    elif value < smallest:\n",
    "        smallest = value\n",
    "print(smallest)\n",
    "        "
   ]
  },
  {
   "cell_type": "code",
   "execution_count": 158,
   "id": "2ef26fb5-a521-41d5-8dc0-10f8ef6e6bd6",
   "metadata": {},
   "outputs": [
    {
     "name": "stdout",
     "output_type": "stream",
     "text": [
      "True\n",
      "True\n"
     ]
    }
   ],
   "source": [
    "name = \"Salam\"\n",
    "name1 = \"Salam\"\n",
    "print(name == name)\n",
    "print(name1 is name1)"
   ]
  },
  {
   "cell_type": "code",
   "execution_count": 162,
   "id": "de850f71-01c4-41a6-872d-e62880f37953",
   "metadata": {},
   "outputs": [
    {
     "name": "stdout",
     "output_type": "stream",
     "text": [
      "True\n",
      "False\n"
     ]
    }
   ],
   "source": [
    "nums = [1,2,3,4,5]\n",
    "nums1 = [1,2,3,4,5]\n",
    "\n",
    "print(nums == nums1)\n",
    "print(nums is nums1) "
   ]
  },
  {
   "cell_type": "code",
   "execution_count": 168,
   "id": "1f87a125-1da1-4629-bf1e-1dd67349039c",
   "metadata": {},
   "outputs": [
    {
     "name": "stdin",
     "output_type": "stream",
     "text": [
      "Enter Guess:  73\n"
     ]
    },
    {
     "name": "stdout",
     "output_type": "stream",
     "text": [
      "Guess lower!\n"
     ]
    },
    {
     "name": "stdin",
     "output_type": "stream",
     "text": [
      "Enter Guess:  42\n"
     ]
    },
    {
     "name": "stdout",
     "output_type": "stream",
     "text": [
      "Guess lower!\n"
     ]
    },
    {
     "name": "stdin",
     "output_type": "stream",
     "text": [
      "Enter Guess:  40\n"
     ]
    },
    {
     "name": "stdout",
     "output_type": "stream",
     "text": [
      "Guess lower!\n"
     ]
    },
    {
     "name": "stdin",
     "output_type": "stream",
     "text": [
      "Enter Guess:  35\n"
     ]
    },
    {
     "name": "stdout",
     "output_type": "stream",
     "text": [
      "Guess lower!\n"
     ]
    },
    {
     "name": "stdin",
     "output_type": "stream",
     "text": [
      "Enter Guess:  30\n"
     ]
    },
    {
     "name": "stdout",
     "output_type": "stream",
     "text": [
      "Guess lower!\n"
     ]
    },
    {
     "name": "stdin",
     "output_type": "stream",
     "text": [
      "Enter Guess:  25\n"
     ]
    },
    {
     "name": "stdout",
     "output_type": "stream",
     "text": [
      "Guess lower!\n"
     ]
    },
    {
     "name": "stdin",
     "output_type": "stream",
     "text": [
      "Enter Guess:  20\n"
     ]
    },
    {
     "name": "stdout",
     "output_type": "stream",
     "text": [
      "Guess higher!\n"
     ]
    },
    {
     "name": "stdin",
     "output_type": "stream",
     "text": [
      "Enter Guess:  21\n"
     ]
    },
    {
     "name": "stdout",
     "output_type": "stream",
     "text": [
      "You won!\n"
     ]
    }
   ],
   "source": [
    "# Guess a number game \n",
    "import random\n",
    "number = random.randint(1,1000)\n",
    "guess = 0\n",
    "\n",
    "while guess != number:\n",
    "    guess  = int(input(\"Enter Guess: \"))\n",
    "    if (guess < number):\n",
    "        print(\"Guess higher!\")\n",
    "    elif (guess > number):\n",
    "        print(\"Guess lower!\")\n",
    "    else:\n",
    "        print(\"You won!\")"
   ]
  },
  {
   "cell_type": "code",
   "execution_count": 5,
   "id": "867691c8-e326-40ad-97eb-219d01443be9",
   "metadata": {},
   "outputs": [
    {
     "name": "stdout",
     "output_type": "stream",
     "text": [
      "1\n",
      "2\n",
      "3\n",
      "4\n",
      "5\n",
      "6\n",
      "7\n",
      "8\n",
      "9\n",
      "10\n"
     ]
    }
   ],
   "source": [
    "# Write a Python program that uses a for loop to print the numbers from 1 to 10.\n",
    "\n",
    "n = 1\n",
    "while n < 11:\n",
    "    print(n)\n",
    "    n += 1\n",
    "    if n == 11:\n",
    "        break"
   ]
  },
  {
   "cell_type": "code",
   "execution_count": 7,
   "id": "f2040167-d11b-4d38-a194-6e63ca77ab10",
   "metadata": {},
   "outputs": [
    {
     "data": {
      "text/plain": [
       "4950"
      ]
     },
     "execution_count": 7,
     "metadata": {},
     "output_type": "execute_result"
    }
   ],
   "source": [
    "# Write a Python program that uses a for loop to find the sum of all numbers from 1 to 100.\n",
    "sum(range(1,100))"
   ]
  },
  {
   "cell_type": "code",
   "execution_count": 9,
   "id": "d5c82250-2f6c-4820-8fa3-d8de2eb39138",
   "metadata": {},
   "outputs": [
    {
     "name": "stdout",
     "output_type": "stream",
     "text": [
      "5000000\n"
     ]
    }
   ],
   "source": [
    "# Create a Python program that finds the largest element in a list of numbers using a for loop.\n",
    "nums = [30000, 5, 10, 5000000, -8, 100, 66, 5432]\n",
    "maximum = 0\n",
    "for i in nums: \n",
    "    if i > maximum:\n",
    "        maximum = i\n",
    "print(maximum)\n"
   ]
  },
  {
   "cell_type": "code",
   "execution_count": null,
   "id": "58a1d633-3d09-4e2e-9cc0-463e86db2da0",
   "metadata": {},
   "outputs": [],
   "source": []
  }
 ],
 "metadata": {
  "kernelspec": {
   "display_name": "Python 3 (ipykernel)",
   "language": "python",
   "name": "python3"
  },
  "language_info": {
   "codemirror_mode": {
    "name": "ipython",
    "version": 3
   },
   "file_extension": ".py",
   "mimetype": "text/x-python",
   "name": "python",
   "nbconvert_exporter": "python",
   "pygments_lexer": "ipython3",
   "version": "3.12.4"
  }
 },
 "nbformat": 4,
 "nbformat_minor": 5
}
