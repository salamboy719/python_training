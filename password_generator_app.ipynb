{
 "cells": [
  {
   "cell_type": "code",
   "execution_count": 63,
   "id": "4699f228-bbf2-40d0-8d90-b1167114916a",
   "metadata": {},
   "outputs": [
    {
     "name": "stdin",
     "output_type": "stream",
     "text": [
      "How many letters do you like in your password:\n",
      " 2\n",
      "How many numbers do you like in your password:\n",
      " 2\n",
      "How many symbols do you like in your password:\n",
      " 2\n"
     ]
    },
    {
     "name": "stdout",
     "output_type": "stream",
     "text": [
      "['#', '0', '#', '2', 'b', 'a']\n"
     ]
    }
   ],
   "source": [
    "import random\n",
    "letters = [ \"a\", \"b\", \"c\"]\n",
    "numbers = [\"0\", \"1\", \"2\"]\n",
    "symbols = [\"@\", \"#\", \"$\"]\n",
    "\n",
    "def get_user_preferences():\n",
    "    n_letters = int(input(\"How many letters do you like in your password:\\n\"))\n",
    "    n_numbers = int(input(\"How many numbers do you like in your password:\\n\"))\n",
    "    n_symbols = int(input(\"How many symbols do you like in your password:\\n\"))\n",
    "    return n_letters, n_numbers, n_symbols\n",
    "\n",
    "def generate_password(n_letters, n_numbers, n_symbols):\n",
    "    password_list = []\n",
    "\n",
    "    for i in range(n_letters):\n",
    "        password_list.append(random.choice(letters))\n",
    "    \n",
    "    for i in range(n_numbers):\n",
    "        password_list.append(random.choice(numbers))\n",
    "        \n",
    "    for i in range(n_symbols):\n",
    "        password_list.append(random.choice(symbols))\n",
    "\n",
    "    random.shuffle(password_list)\n",
    "    \n",
    "    return \"\" (password_list)\n",
    "n_letters, n_numbers, n_symbols =  get_user_preferences()\n",
    "password_result = generate_password(n_letters, n_numbers, n_symbols)\n",
    "print(password_result)"
   ]
  },
  {
   "cell_type": "code",
   "execution_count": 27,
   "id": "d6fede68-baba-4f94-bead-67fcafc32333",
   "metadata": {},
   "outputs": [
    {
     "name": "stdin",
     "output_type": "stream",
     "text": [
      "How many letters do you like in your password:\n",
      " 2\n",
      "How many numbers do you like in your password:\n",
      " 2\n",
      "How many symbols do you like in your password:\n",
      " 2\n"
     ]
    },
    {
     "name": "stdout",
     "output_type": "stream",
     "text": [
      "#1a#1b\n"
     ]
    }
   ],
   "source": [
    "import random\n",
    "letters = [ \"a\", \"b\", \"c\"]\n",
    "numbers = [\"0\", \"1\", \"2\"]\n",
    "symbols = [\"@\", \"#\", \"$\"]\n",
    "\n",
    "def get_user_preferences():\n",
    "    n_letters = int(input(\"How many letters do you like in your password:\\n\"))\n",
    "    n_numbers = int(input(\"How many numbers do you like in your password:\\n\"))\n",
    "    n_symbols = int(input(\"How many symbols do you like in your password:\\n\"))\n",
    "    return n_letters, n_numbers, n_symbols\n",
    "\n",
    "def generate_password(n_letters, n_numbers, n_symbols):\n",
    "    password_list = []\n",
    "\n",
    "    for i in range(n_letters):\n",
    "        password_list.append(random.choice(letters))\n",
    "    \n",
    "    for i in range(n_numbers):\n",
    "        password_list.append(random.choice(numbers))\n",
    "        \n",
    "    for i in range(n_symbols):\n",
    "        password_list.append(random.choice(symbols))\n",
    "\n",
    "    random.shuffle(password_list)\n",
    "    \n",
    "    return \"\".join(password_list)\n",
    "\n",
    "n_letters, n_numbers, n_symbols =  get_user_preferences()\n",
    "password_result = generate_password(n_letters, n_numbers, n_symbols)\n",
    "print(password_result)"
   ]
  },
  {
   "cell_type": "code",
   "execution_count": 29,
   "id": "d6ae9e55-7033-493d-99be-279f98381a57",
   "metadata": {},
   "outputs": [
    {
     "name": "stdin",
     "output_type": "stream",
     "text": [
      "How many letters do you like in your password:\n",
      " 2\n",
      "How many numbers do you like in your password:\n",
      " 2\n",
      "How many symbols do you like in your password:\n",
      " 2\n"
     ]
    },
    {
     "name": "stdout",
     "output_type": "stream",
     "text": [
      "b$#22c\n"
     ]
    }
   ],
   "source": [
    "import random\n",
    "\n",
    "# Define lists of characters to be used in the password\n",
    "letters = [\"a\", \"b\", \"c\"]\n",
    "numbers = [\"0\", \"1\", \"2\"]\n",
    "symbols = [\"@\", \"#\", \"$\"]\n",
    "\n",
    "def get_user_preferences():\n",
    "    \"\"\"\n",
    "    Get user preferences for password composition.\n",
    "\n",
    "    Prompts the user to input the number of letters, numbers, and symbols they want in their password.\n",
    "\n",
    "    Returns:\n",
    "    tuple: A tuple containing three integers:\n",
    "        - n_letters (int): The number of letters in the password.\n",
    "        - n_numbers (int): The number of numbers in the password.\n",
    "        - n_symbols (int): The number of symbols in the password.\n",
    "    \"\"\"\n",
    "    n_letters = int(input(\"How many letters do you like in your password:\\n\"))\n",
    "    n_numbers = int(input(\"How many numbers do you like in your password:\\n\"))\n",
    "    n_symbols = int(input(\"How many symbols do you like in your password:\\n\"))\n",
    "    return n_letters, n_numbers, n_symbols\n",
    "\n",
    "def generate_password(n_letters, n_numbers, n_symbols):\n",
    "    \"\"\"\n",
    "    Generate a random password based on user preferences.\n",
    "\n",
    "    Combines a specified number of letters, numbers, and symbols into a single password,\n",
    "    shuffles the characters, and returns the final password as a string.\n",
    "\n",
    "    Parameters:\n",
    "    n_letters (int): The number of letters to include in the password.\n",
    "    n_numbers (int): The number of numbers to include in the password.\n",
    "    n_symbols (int): The number of symbols to include in the password.\n",
    "\n",
    "    Returns:\n",
    "    str: A randomly generated password containing the specified number of letters, numbers, and symbols.\n",
    "    \"\"\"\n",
    "    password_list = []  # Initialize an empty list to hold password characters\n",
    "\n",
    "    # Add the specified number of random letters to the password list\n",
    "    for i in range(n_letters):\n",
    "        password_list.append(random.choice(letters))\n",
    "    \n",
    "    # Add the specified number of random numbers to the password list\n",
    "    for i in range(n_numbers):\n",
    "        password_list.append(random.choice(numbers))\n",
    "        \n",
    "    # Add the specified number of random symbols to the password list\n",
    "    for i in range(n_symbols):\n",
    "        password_list.append(random.choice(symbols))\n",
    "\n",
    "    random.shuffle(password_list)  # Shuffle the list to ensure randomness\n",
    "    \n",
    "    return \"\".join(password_list)  # Join the list into a string and return it\n",
    "\n",
    "# Get user preferences for password composition\n",
    "n_letters, n_numbers, n_symbols = get_user_preferences()\n",
    "\n",
    "# Generate the password based on user preferences\n",
    "password_result = generate_password(n_letters, n_numbers, n_symbols)\n",
    "\n",
    "# Print the generated password\n",
    "print(password_result)"
   ]
  },
  {
   "cell_type": "code",
   "execution_count": 31,
   "id": "78832f0d-91d8-4e1c-8769-f9a08775336b",
   "metadata": {},
   "outputs": [
    {
     "name": "stdout",
     "output_type": "stream",
     "text": [
      "Help on function generate_password in module __main__:\n",
      "\n",
      "generate_password(n_letters, n_numbers, n_symbols)\n",
      "    Generate a random password based on user preferences.\n",
      "\n",
      "    Combines a specified number of letters, numbers, and symbols into a single password,\n",
      "    shuffles the characters, and returns the final password as a string.\n",
      "\n",
      "    Parameters:\n",
      "    n_letters (int): The number of letters to include in the password.\n",
      "    n_numbers (int): The number of numbers to include in the password.\n",
      "    n_symbols (int): The number of symbols to include in the password.\n",
      "\n",
      "    Returns:\n",
      "    str: A randomly generated password containing the specified number of letters, numbers, and symbols.\n",
      "\n"
     ]
    }
   ],
   "source": [
    "help(generate_password)"
   ]
  },
  {
   "cell_type": "code",
   "execution_count": 35,
   "id": "a86a3377-e734-475c-91db-25c77873fa73",
   "metadata": {},
   "outputs": [
    {
     "name": "stdout",
     "output_type": "stream",
     "text": [
      "\n",
      "    Generate a random password based on user preferences.\n",
      "\n",
      "    Combines a specified number of letters, numbers, and symbols into a single password,\n",
      "    shuffles the characters, and returns the final password as a string.\n",
      "\n",
      "    Parameters:\n",
      "    n_letters (int): The number of letters to include in the password.\n",
      "    n_numbers (int): The number of numbers to include in the password.\n",
      "    n_symbols (int): The number of symbols to include in the password.\n",
      "\n",
      "    Returns:\n",
      "    str: A randomly generated password containing the specified number of letters, numbers, and symbols.\n",
      "    \n"
     ]
    }
   ],
   "source": [
    "print(generate_password.__doc__)"
   ]
  },
  {
   "cell_type": "code",
   "execution_count": 37,
   "id": "32753127-a3c8-4e80-a075-aadab8ce7c9c",
   "metadata": {},
   "outputs": [
    {
     "data": {
      "text/plain": [
       "\u001b[0;31mSignature:\u001b[0m \u001b[0mgenerate_password\u001b[0m\u001b[0;34m(\u001b[0m\u001b[0mn_letters\u001b[0m\u001b[0;34m,\u001b[0m \u001b[0mn_numbers\u001b[0m\u001b[0;34m,\u001b[0m \u001b[0mn_symbols\u001b[0m\u001b[0;34m)\u001b[0m\u001b[0;34m\u001b[0m\u001b[0;34m\u001b[0m\u001b[0m\n",
       "\u001b[0;31mDocstring:\u001b[0m\n",
       "Generate a random password based on user preferences.\n",
       "\n",
       "Combines a specified number of letters, numbers, and symbols into a single password,\n",
       "shuffles the characters, and returns the final password as a string.\n",
       "\n",
       "Parameters:\n",
       "n_letters (int): The number of letters to include in the password.\n",
       "n_numbers (int): The number of numbers to include in the password.\n",
       "n_symbols (int): The number of symbols to include in the password.\n",
       "\n",
       "Returns:\n",
       "str: A randomly generated password containing the specified number of letters, numbers, and symbols.\n",
       "\u001b[0;31mFile:\u001b[0m      /var/folders/j3/vr_5f0cs2t17sf8fdysxc6b40000gp/T/ipykernel_22511/2183155391.py\n",
       "\u001b[0;31mType:\u001b[0m      function"
      ]
     },
     "metadata": {},
     "output_type": "display_data"
    }
   ],
   "source": [
    "?generate_password"
   ]
  },
  {
   "cell_type": "code",
   "execution_count": 53,
   "id": "f8e8ef03-5b11-434c-8162-b261ee012aef",
   "metadata": {},
   "outputs": [
    {
     "name": "stdin",
     "output_type": "stream",
     "text": [
      "How many letters do you like in your password:\n",
      " 4\n",
      "How many numbers do you like in your password:\n",
      " 4\n",
      "How many symbols do you like in your password:\n",
      " 4\n"
     ]
    },
    {
     "name": "stdout",
     "output_type": "stream",
     "text": [
      "8d@44=9do]#h\n"
     ]
    }
   ],
   "source": [
    "import random\n",
    "letters =  [ \"a\", \"b\", \"c\", \"d\", \"e\", \"f\", \"g\", \"h\", \"i\", \"j\", \"k\", \"l\", \"m\", \"n\", \"o\", \"p\", \"q\", \"r\" \"s\" \"t\" \"u\" \"v\" \"w\" \"x\" \"y\" \"z\"]\n",
    "numbers = [\"0\", \"1\", \"2\",\"3\", \"4\", \"5\", \"6\", \"7\",\"8\", \"9\"]\n",
    "symbols = [\"@\", \"#\", \"$\", \"%\", \"*\", \"_\", \"-\", \"=\", \"+\", \"]\",  \"?\"]\n",
    "\n",
    "def get_user_preferences():\n",
    "    n_letters = int(input(\"How many letters do you like in your password:\\n\"))\n",
    "    n_numbers = int(input(\"How many numbers do you like in your password:\\n\"))\n",
    "    n_symbols = int(input(\"How many symbols do you like in your password:\\n\"))\n",
    "    return n_letters, n_numbers, n_symbols\n",
    "\n",
    "def generate_password(n_letters, n_numbers, n_symbols):\n",
    "    password_list = []\n",
    "\n",
    "    for i in range(n_letters):\n",
    "        password_list.append(random.choice(letters))\n",
    "    \n",
    "    for i in range(n_numbers):\n",
    "        password_list.append(random.choice(numbers))\n",
    "        \n",
    "    for i in range(n_symbols):\n",
    "        password_list.append(random.choice(symbols))\n",
    "\n",
    "    random.shuffle(password_list)\n",
    "    \n",
    "    return \"\".join(password_list)\n",
    "\n",
    "n_letters, n_numbers, n_symbols =  get_user_preferences()\n",
    "password_result = generate_password(n_letters, n_numbers, n_symbols)\n",
    "print(password_result)"
   ]
  },
  {
   "cell_type": "code",
   "execution_count": null,
   "id": "ab758e38-af97-4e38-b03f-a37f511b675a",
   "metadata": {},
   "outputs": [],
   "source": []
  }
 ],
 "metadata": {
  "kernelspec": {
   "display_name": "Python 3 (ipykernel)",
   "language": "python",
   "name": "python3"
  },
  "language_info": {
   "codemirror_mode": {
    "name": "ipython",
    "version": 3
   },
   "file_extension": ".py",
   "mimetype": "text/x-python",
   "name": "python",
   "nbconvert_exporter": "python",
   "pygments_lexer": "ipython3",
   "version": "3.12.4"
  }
 },
 "nbformat": 4,
 "nbformat_minor": 5
}
