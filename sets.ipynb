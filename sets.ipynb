{
 "cells": [
  {
   "cell_type": "markdown",
   "id": "ada11ca7-d260-4e14-9ff3-e2080f866ecd",
   "metadata": {},
   "source": [
    "## Characteristics of a set\n",
    "### It is unordered \n",
    "### It does not contain duplicates\n",
    "### You create a set using curly braces\n",
    "### It is immutable"
   ]
  },
  {
   "cell_type": "code",
   "execution_count": 156,
   "id": "642268e8-4e8d-4fbf-b2a5-5921d0617540",
   "metadata": {},
   "outputs": [],
   "source": [
    "# Creating an empty set\n",
    "student = set()\n"
   ]
  },
  {
   "cell_type": "code",
   "execution_count": 158,
   "id": "9662ff4f-f701-41ac-9042-c6cd4bde6d8c",
   "metadata": {},
   "outputs": [
    {
     "data": {
      "text/plain": [
       "set"
      ]
     },
     "execution_count": 158,
     "metadata": {},
     "output_type": "execute_result"
    }
   ],
   "source": [
    "type(student)"
   ]
  },
  {
   "cell_type": "code",
   "execution_count": 12,
   "id": "7e863776-40ee-4e3f-a48b-60b0dc387377",
   "metadata": {},
   "outputs": [
    {
     "name": "stdout",
     "output_type": "stream",
     "text": [
      "{True, 'Mike', 89.99, (1, 2, 3, 4, 5), 30}\n",
      "<class 'set'>\n"
     ]
    }
   ],
   "source": [
    "my_set = {\"Mike\", 30, 89.99, True, (1,2,3,4,5)}\n",
    "print(my_set)\n",
    "print(type(my_set))\n",
    "\n",
    "    "
   ]
  },
  {
   "cell_type": "code",
   "execution_count": 21,
   "id": "cc1873f6-0aa1-4b01-9937-135ad8cfa364",
   "metadata": {},
   "outputs": [],
   "source": [
    "num1 = {1,2,3,4,5,6,7,8,9,10}\n",
    "num2 = {1,2,3,4,5,11,12,13,14,15}"
   ]
  },
  {
   "cell_type": "code",
   "execution_count": 14,
   "id": "1a0546bb-fedf-4944-984e-f48671ceb6b7",
   "metadata": {},
   "outputs": [
    {
     "ename": "NameError",
     "evalue": "name 'num1' is not defined",
     "output_type": "error",
     "traceback": [
      "\u001b[0;31m---------------------------------------------------------------------------\u001b[0m",
      "\u001b[0;31mNameError\u001b[0m                                 Traceback (most recent call last)",
      "Cell \u001b[0;32mIn[14], line 2\u001b[0m\n\u001b[1;32m      1\u001b[0m \u001b[38;5;66;03m# set is immutable\u001b[39;00m\n\u001b[0;32m----> 2\u001b[0m num1[\u001b[38;5;241m0\u001b[39m] \u001b[38;5;241m=\u001b[39m \u001b[38;5;241m100\u001b[39m\n",
      "\u001b[0;31mNameError\u001b[0m: name 'num1' is not defined"
     ]
    }
   ],
   "source": [
    "# set is immutable\n",
    "num1[0] = 100"
   ]
  },
  {
   "cell_type": "code",
   "execution_count": 23,
   "id": "ba1bceb8-38fa-4063-9e8a-91fd820e16c3",
   "metadata": {},
   "outputs": [
    {
     "name": "stdout",
     "output_type": "stream",
     "text": [
      "1\n",
      "2\n",
      "3\n",
      "4\n",
      "5\n",
      "6\n",
      "7\n",
      "8\n",
      "9\n",
      "10\n"
     ]
    }
   ],
   "source": [
    "#looping a set\n",
    "\n",
    "for i in num1:\n",
    "    print(i)"
   ]
  },
  {
   "cell_type": "code",
   "execution_count": null,
   "id": "d3036a8a-9190-44ed-b60e-b464a2600580",
   "metadata": {},
   "outputs": [],
   "source": [
    "num1 = {1,2,3,4,5,6,7,8,9,10}\n",
    "num2 = {1,2,3,4,5,11,12,13,14,15}"
   ]
  },
  {
   "cell_type": "code",
   "execution_count": 27,
   "id": "54e40a2e-3a5a-49a0-8e13-92f3b6d455da",
   "metadata": {},
   "outputs": [
    {
     "data": {
      "text/plain": [
       "\u001b[0;31mDocstring:\u001b[0m\n",
       "Add an element to a set.\n",
       "\n",
       "This has no effect if the element is already present.\n",
       "\u001b[0;31mType:\u001b[0m      method_descriptor"
      ]
     },
     "metadata": {},
     "output_type": "display_data"
    }
   ],
   "source": [
    "?set.add"
   ]
  },
  {
   "cell_type": "code",
   "execution_count": 31,
   "id": "d0b934b6-7599-477e-81d2-dd98b087a197",
   "metadata": {},
   "outputs": [
    {
     "data": {
      "text/plain": [
       "{(1, 2, 3), 1, 10, 123, 2, 3, 4, 5, 6, 7, 8, 9}"
      ]
     },
     "execution_count": 31,
     "metadata": {},
     "output_type": "execute_result"
    }
   ],
   "source": [
    "num1.add((1,2,3))\n",
    "num1"
   ]
  },
  {
   "cell_type": "code",
   "execution_count": 33,
   "id": "6c1833e5-bbe7-4fc6-bca5-9d40c7ee7539",
   "metadata": {},
   "outputs": [
    {
     "data": {
      "text/plain": [
       "\u001b[0;31mDocstring:\u001b[0m\n",
       "Return the difference of two or more sets as a new set.\n",
       "\n",
       "(i.e. all elements that are in this set but not the others.)\n",
       "\u001b[0;31mType:\u001b[0m      method_descriptor"
      ]
     },
     "metadata": {},
     "output_type": "display_data"
    }
   ],
   "source": [
    "?set.difference"
   ]
  },
  {
   "cell_type": "code",
   "execution_count": 39,
   "id": "34ed36d8-90d1-428b-a163-9f6d9ade3d19",
   "metadata": {},
   "outputs": [
    {
     "data": {
      "text/plain": [
       "{(1, 2, 3), 10, 123, 6, 7, 8, 9}"
      ]
     },
     "execution_count": 39,
     "metadata": {},
     "output_type": "execute_result"
    }
   ],
   "source": [
    "num1.difference(num2)"
   ]
  },
  {
   "cell_type": "code",
   "execution_count": 41,
   "id": "8989df02-e333-4cdc-bc49-144f67cae270",
   "metadata": {},
   "outputs": [
    {
     "data": {
      "text/plain": [
       "\u001b[0;31mDocstring:\u001b[0m Remove all elements of another set from this set.\n",
       "\u001b[0;31mType:\u001b[0m      method_descriptor"
      ]
     },
     "metadata": {},
     "output_type": "display_data"
    }
   ],
   "source": [
    "?set.difference_update"
   ]
  },
  {
   "cell_type": "code",
   "execution_count": 57,
   "id": "8d81d833-ab41-43ab-b6a2-308fcff0affe",
   "metadata": {},
   "outputs": [],
   "source": [
    "num1 = {1,2,3,4,5,6,7,8,9,10}\n",
    "num2 = {1,2,3,4,5,11,12,13,14,15}"
   ]
  },
  {
   "cell_type": "code",
   "execution_count": 59,
   "id": "36977e80-aece-4060-a54d-3863a2fd1e98",
   "metadata": {},
   "outputs": [],
   "source": [
    "num1.difference_update(num2)"
   ]
  },
  {
   "cell_type": "code",
   "execution_count": 61,
   "id": "8345ec0d-ce09-4133-acaa-d9db360fffec",
   "metadata": {},
   "outputs": [
    {
     "data": {
      "text/plain": [
       "{6, 7, 8, 9, 10}"
      ]
     },
     "execution_count": 61,
     "metadata": {},
     "output_type": "execute_result"
    }
   ],
   "source": [
    "num1"
   ]
  },
  {
   "cell_type": "code",
   "execution_count": 63,
   "id": "451bce58-d2eb-4fe7-b454-d9d81e056d03",
   "metadata": {},
   "outputs": [
    {
     "data": {
      "text/plain": [
       "\u001b[0;31mDocstring:\u001b[0m\n",
       "Remove an element from a set if it is a member.\n",
       "\n",
       "Unlike set.remove(), the discard() method does not raise\n",
       "an exception when an element is missing from the set.\n",
       "\u001b[0;31mType:\u001b[0m      method_descriptor"
      ]
     },
     "metadata": {},
     "output_type": "display_data"
    }
   ],
   "source": [
    "?set.discard"
   ]
  },
  {
   "cell_type": "code",
   "execution_count": 75,
   "id": "cb3b45e3-c7c5-4abf-a6fd-e4bba8a81aa1",
   "metadata": {},
   "outputs": [],
   "source": [
    "num1.discard(20)"
   ]
  },
  {
   "cell_type": "code",
   "execution_count": 71,
   "id": "5cee65fa-bf5a-4ebd-a2a6-dfc2a0718abc",
   "metadata": {},
   "outputs": [
    {
     "data": {
      "text/plain": [
       "{6, 7, 8, 9}"
      ]
     },
     "execution_count": 71,
     "metadata": {},
     "output_type": "execute_result"
    }
   ],
   "source": [
    "num1"
   ]
  },
  {
   "cell_type": "code",
   "execution_count": 77,
   "id": "9a1e5ef2-8c78-4267-9b5d-109122b93f64",
   "metadata": {},
   "outputs": [],
   "source": [
    "num1 = {1,2,3,4,5,6,7,8,9,10,1,2,3,4,5}\n",
    "num2 = {1,2,3,4,5,11,12,13,14,15}"
   ]
  },
  {
   "cell_type": "code",
   "execution_count": 79,
   "id": "e4afeff0-e4bb-4c79-b7d8-63d9123e50f4",
   "metadata": {},
   "outputs": [
    {
     "data": {
      "text/plain": [
       "\u001b[0;31mDocstring:\u001b[0m\n",
       "Return the intersection of two sets as a new set.\n",
       "\n",
       "(i.e. all elements that are in both sets.)\n",
       "\u001b[0;31mType:\u001b[0m      method_descriptor"
      ]
     },
     "metadata": {},
     "output_type": "display_data"
    }
   ],
   "source": [
    "?set.intersection"
   ]
  },
  {
   "cell_type": "code",
   "execution_count": 81,
   "id": "e6362e71-feed-4451-ad7b-884a9024f73f",
   "metadata": {},
   "outputs": [
    {
     "data": {
      "text/plain": [
       "{1, 2, 3, 4, 5}"
      ]
     },
     "execution_count": 81,
     "metadata": {},
     "output_type": "execute_result"
    }
   ],
   "source": [
    "num1.intersection(num2)"
   ]
  },
  {
   "cell_type": "code",
   "execution_count": 85,
   "id": "3122e1cf-4786-4978-a046-d7cd59e6808c",
   "metadata": {},
   "outputs": [],
   "source": [
    "num1.intersection_update(num2)"
   ]
  },
  {
   "cell_type": "code",
   "execution_count": 87,
   "id": "91ccf202-ddfd-4f4d-bb5b-af498f162a3a",
   "metadata": {},
   "outputs": [
    {
     "data": {
      "text/plain": [
       "{1, 2, 3, 4, 5}"
      ]
     },
     "execution_count": 87,
     "metadata": {},
     "output_type": "execute_result"
    }
   ],
   "source": [
    "num1"
   ]
  },
  {
   "cell_type": "code",
   "execution_count": 91,
   "id": "fd63ed9c-716f-450c-9c0e-a11fef67d904",
   "metadata": {},
   "outputs": [
    {
     "data": {
      "text/plain": [
       "\u001b[0;31mDocstring:\u001b[0m Return True if two sets have a null intersection.\n",
       "\u001b[0;31mType:\u001b[0m      method_descriptor"
      ]
     },
     "metadata": {},
     "output_type": "display_data"
    }
   ],
   "source": [
    "?set.isdisjoint "
   ]
  },
  {
   "cell_type": "code",
   "execution_count": 107,
   "id": "8c5642d6-2ed7-490c-aae5-577a5a09199f",
   "metadata": {},
   "outputs": [],
   "source": [
    "num1 = {1,2,3,4,5,}\n",
    "num2 = {1,2,3,4,5,11,12,13,14,15}"
   ]
  },
  {
   "cell_type": "code",
   "execution_count": 95,
   "id": "26c58b7d-a7a9-4482-8c5a-b56c1552c78f",
   "metadata": {},
   "outputs": [
    {
     "data": {
      "text/plain": [
       "False"
      ]
     },
     "execution_count": 95,
     "metadata": {},
     "output_type": "execute_result"
    }
   ],
   "source": [
    "num1.isdisjoint(num2)"
   ]
  },
  {
   "cell_type": "code",
   "execution_count": 97,
   "id": "08bfcb64-0a92-45c8-bcdf-fe6ab391acaa",
   "metadata": {},
   "outputs": [
    {
     "data": {
      "text/plain": [
       "\u001b[0;31mSignature:\u001b[0m \u001b[0mset\u001b[0m\u001b[0;34m.\u001b[0m\u001b[0missubset\u001b[0m\u001b[0;34m(\u001b[0m\u001b[0mself\u001b[0m\u001b[0;34m,\u001b[0m \u001b[0mother\u001b[0m\u001b[0;34m,\u001b[0m \u001b[0;34m/\u001b[0m\u001b[0;34m)\u001b[0m\u001b[0;34m\u001b[0m\u001b[0;34m\u001b[0m\u001b[0m\n",
       "\u001b[0;31mDocstring:\u001b[0m Test whether every element in the set is in other.\n",
       "\u001b[0;31mType:\u001b[0m      method_descriptor"
      ]
     },
     "metadata": {},
     "output_type": "display_data"
    }
   ],
   "source": [
    "?set.issubset"
   ]
  },
  {
   "cell_type": "code",
   "execution_count": 99,
   "id": "a7212455-3356-450e-acb5-5a516364de93",
   "metadata": {},
   "outputs": [
    {
     "data": {
      "text/plain": [
       "False"
      ]
     },
     "execution_count": 99,
     "metadata": {},
     "output_type": "execute_result"
    }
   ],
   "source": [
    "num1.issubset(num2)"
   ]
  },
  {
   "cell_type": "code",
   "execution_count": 101,
   "id": "9b5fe3f2-782f-4434-895c-5f4daa3c46f2",
   "metadata": {},
   "outputs": [
    {
     "data": {
      "text/plain": [
       "\u001b[0;31mSignature:\u001b[0m \u001b[0mset\u001b[0m\u001b[0;34m.\u001b[0m\u001b[0missuperset\u001b[0m\u001b[0;34m(\u001b[0m\u001b[0mself\u001b[0m\u001b[0;34m,\u001b[0m \u001b[0mother\u001b[0m\u001b[0;34m,\u001b[0m \u001b[0;34m/\u001b[0m\u001b[0;34m)\u001b[0m\u001b[0;34m\u001b[0m\u001b[0;34m\u001b[0m\u001b[0m\n",
       "\u001b[0;31mDocstring:\u001b[0m Test whether every element in other is in the set.\n",
       "\u001b[0;31mType:\u001b[0m      method_descriptor"
      ]
     },
     "metadata": {},
     "output_type": "display_data"
    }
   ],
   "source": [
    "?set.issuperset\n"
   ]
  },
  {
   "cell_type": "code",
   "execution_count": 109,
   "id": "58e9a278-e192-48e0-b3c1-c5ff66139224",
   "metadata": {},
   "outputs": [
    {
     "data": {
      "text/plain": [
       "True"
      ]
     },
     "execution_count": 109,
     "metadata": {},
     "output_type": "execute_result"
    }
   ],
   "source": [
    "num2.issuperset(num1)"
   ]
  },
  {
   "cell_type": "code",
   "execution_count": 111,
   "id": "3c119ec3-2f53-44a2-b930-f3ad5ae4ac59",
   "metadata": {},
   "outputs": [
    {
     "data": {
      "text/plain": [
       "\u001b[0;31mDocstring:\u001b[0m\n",
       "Remove and return an arbitrary set element.\n",
       "Raises KeyError if the set is empty.\n",
       "\u001b[0;31mType:\u001b[0m      method_descriptor"
      ]
     },
     "metadata": {},
     "output_type": "display_data"
    }
   ],
   "source": [
    "?set.pop"
   ]
  },
  {
   "cell_type": "code",
   "execution_count": 119,
   "id": "2025b42d-7fc6-4997-aea5-ce1dea80ba8a",
   "metadata": {},
   "outputs": [
    {
     "data": {
      "text/plain": [
       "1"
      ]
     },
     "execution_count": 119,
     "metadata": {},
     "output_type": "execute_result"
    }
   ],
   "source": [
    "num1.pop()"
   ]
  },
  {
   "cell_type": "code",
   "execution_count": 121,
   "id": "6a718a09-217a-4d18-a03b-79375bf0737e",
   "metadata": {},
   "outputs": [
    {
     "data": {
      "text/plain": [
       "{2, 3, 4, 5}"
      ]
     },
     "execution_count": 121,
     "metadata": {},
     "output_type": "execute_result"
    }
   ],
   "source": [
    "num1"
   ]
  },
  {
   "cell_type": "code",
   "execution_count": 127,
   "id": "d90978c7-d5dc-4812-ad4b-1b16035d8334",
   "metadata": {},
   "outputs": [
    {
     "data": {
      "text/plain": [
       "\u001b[0;31mDocstring:\u001b[0m\n",
       "Return the symmetric difference of two sets as a new set.\n",
       "\n",
       "(i.e. all elements that are in exactly one of the sets.)\n",
       "\u001b[0;31mType:\u001b[0m      method_descriptor"
      ]
     },
     "metadata": {},
     "output_type": "display_data"
    }
   ],
   "source": [
    "?set.symmetric_difference"
   ]
  },
  {
   "cell_type": "code",
   "execution_count": 129,
   "id": "a5387240-dde7-4d85-9942-fb027fe2317e",
   "metadata": {},
   "outputs": [],
   "source": [
    "num1 = {1,2,3,4,5,}\n",
    "num2 = {1,2,3,4,5,11,12,13,14,15}"
   ]
  },
  {
   "cell_type": "code",
   "execution_count": 131,
   "id": "3f270b80-53ab-470c-83a8-cd1f8e4b7c7e",
   "metadata": {},
   "outputs": [
    {
     "data": {
      "text/plain": [
       "{11, 12, 13, 14, 15}"
      ]
     },
     "execution_count": 131,
     "metadata": {},
     "output_type": "execute_result"
    }
   ],
   "source": [
    "num1.symmetric_difference(num2)"
   ]
  },
  {
   "cell_type": "code",
   "execution_count": 133,
   "id": "f63714e8-8a2e-43ec-97c6-6bad5a22f28f",
   "metadata": {},
   "outputs": [
    {
     "data": {
      "text/plain": [
       "\u001b[0;31mDocstring:\u001b[0m\n",
       "Return the union of sets as a new set.\n",
       "\n",
       "(i.e. all elements that are in either set.)\n",
       "\u001b[0;31mType:\u001b[0m      method_descriptor"
      ]
     },
     "metadata": {},
     "output_type": "display_data"
    }
   ],
   "source": [
    "?set.union"
   ]
  },
  {
   "cell_type": "code",
   "execution_count": 135,
   "id": "cdf2d436-74ee-49fb-975c-cfa82b617052",
   "metadata": {},
   "outputs": [],
   "source": [
    "num1 = {1,2,3,4,5,}\n",
    "num2 = {1,2,3,4,5,11,12,13,14,15}"
   ]
  },
  {
   "cell_type": "code",
   "execution_count": 137,
   "id": "b421735e-4080-46c8-bb67-4190d68dea22",
   "metadata": {},
   "outputs": [
    {
     "data": {
      "text/plain": [
       "{1, 2, 3, 4, 5, 11, 12, 13, 14, 15}"
      ]
     },
     "execution_count": 137,
     "metadata": {},
     "output_type": "execute_result"
    }
   ],
   "source": [
    "num1.union(num2)"
   ]
  },
  {
   "cell_type": "code",
   "execution_count": 139,
   "id": "12522294-932f-4ec4-90b7-c36e74a7ddc8",
   "metadata": {},
   "outputs": [
    {
     "data": {
      "text/plain": [
       "\u001b[0;31mDocstring:\u001b[0m Update a set with the union of itself and others.\n",
       "\u001b[0;31mType:\u001b[0m      method_descriptor"
      ]
     },
     "metadata": {},
     "output_type": "display_data"
    }
   ],
   "source": [
    "?set.update"
   ]
  },
  {
   "cell_type": "code",
   "execution_count": 141,
   "id": "ad8798ea-3d0e-4f67-b58a-310e37a69ea5",
   "metadata": {},
   "outputs": [],
   "source": [
    "num1.update(num2)"
   ]
  },
  {
   "cell_type": "code",
   "execution_count": 144,
   "id": "6d2ff812-7177-4873-89a4-ba9ece858efd",
   "metadata": {},
   "outputs": [
    {
     "data": {
      "text/plain": [
       "{1, 2, 3, 4, 5, 11, 12, 13, 14, 15}"
      ]
     },
     "execution_count": 144,
     "metadata": {},
     "output_type": "execute_result"
    }
   ],
   "source": [
    "num1"
   ]
  },
  {
   "cell_type": "code",
   "execution_count": 146,
   "id": "563b1e0f-4817-4e7e-8a6b-09ae4bf9e17b",
   "metadata": {},
   "outputs": [],
   "source": [
    "num1 = {1,2,3,4,5,}\n",
    "num2 = {1,2,3,4,5,11,12,13,14,15}"
   ]
  },
  {
   "cell_type": "code",
   "execution_count": 148,
   "id": "ac2b199d-3788-4855-b090-114f14adcbe8",
   "metadata": {},
   "outputs": [
    {
     "data": {
      "text/plain": [
       "{1, 2, 3, 4, 5, 11, 12, 13, 14, 15}"
      ]
     },
     "execution_count": 148,
     "metadata": {},
     "output_type": "execute_result"
    }
   ],
   "source": [
    "num1| num2"
   ]
  },
  {
   "cell_type": "code",
   "execution_count": 150,
   "id": "667886ab-582d-44fc-be2d-50eb8280a465",
   "metadata": {},
   "outputs": [
    {
     "data": {
      "text/plain": [
       "{1, 2, 3, 4, 5}"
      ]
     },
     "execution_count": 150,
     "metadata": {},
     "output_type": "execute_result"
    }
   ],
   "source": [
    "num1 & num2"
   ]
  },
  {
   "cell_type": "code",
   "execution_count": 152,
   "id": "90f8c55b-3fd0-4446-95b7-6e684568a935",
   "metadata": {},
   "outputs": [
    {
     "data": {
      "text/plain": [
       "{11, 12, 13, 14, 15}"
      ]
     },
     "execution_count": 152,
     "metadata": {},
     "output_type": "execute_result"
    }
   ],
   "source": [
    "num2 - num1"
   ]
  },
  {
   "cell_type": "code",
   "execution_count": null,
   "id": "a0cf908a-3faf-4d84-90bf-b277ffe37fb8",
   "metadata": {},
   "outputs": [],
   "source": []
  }
 ],
 "metadata": {
  "kernelspec": {
   "display_name": "Python 3 (ipykernel)",
   "language": "python",
   "name": "python3"
  },
  "language_info": {
   "codemirror_mode": {
    "name": "ipython",
    "version": 3
   },
   "file_extension": ".py",
   "mimetype": "text/x-python",
   "name": "python",
   "nbconvert_exporter": "python",
   "pygments_lexer": "ipython3",
   "version": "3.12.4"
  }
 },
 "nbformat": 4,
 "nbformat_minor": 5
}
