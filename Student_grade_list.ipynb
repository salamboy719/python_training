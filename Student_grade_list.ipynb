{
 "cells": [
  {
   "cell_type": "code",
   "execution_count": 14,
   "id": "0efd09a6-80ac-4314-a0a0-da6b4554ba57",
   "metadata": {},
   "outputs": [
    {
     "name": "stdin",
     "output_type": "stream",
     "text": [
      "Enter Your Student ID:  180611022\n",
      "Enter Your first_name:  Abdulsalam\n",
      "Enter Your last_name:  Ajibola\n",
      "Enter Your Gender:  male\n",
      "Enter Your Mobile Number:  09017800344\n",
      "Enter Your Email Address:  email@gmail.com\n",
      "Enter your Maths score:  108\n",
      "Enter your English score:  99.9\n",
      "Enter your Chemistry score:  83\n",
      "Enter your Physics score:  45\n"
     ]
    },
    {
     "name": "stdout",
     "output_type": "stream",
     "text": [
      "\n",
      "Student Info App\n",
      "---------------\n",
      "Student ID: 180611022\n",
      "First Name: Abdulsalam\n",
      "Last Name: Ajibola\n",
      "Gender: male\n",
      "Email Address: email@gmail.com\n",
      "Subject_scores: [0, 99.9, 83.0, 45.0]\n",
      "Average Score: 56.975\n",
      "Grade: C\n"
     ]
    }
   ],
   "source": [
    "def get_subject_scores():\n",
    "    score_list = []\n",
    "    subjects = [\"Maths\", \"English\", \"Chemistry\", \"Physics\"]\n",
    "\n",
    "    for subject in subjects:\n",
    "        while True:\n",
    "            try:\n",
    "                score = float(input(f\"Enter your {subject} score: \"))\n",
    "                score_list.append(score)\n",
    "                break\n",
    "            except Exception as e:\n",
    "                print(\"Error:\",e)\n",
    "    return score_list\n",
    "\n",
    "\n",
    "def score_list_updated():\n",
    "    score_list = get_subject_scores()\n",
    "    for index in range(len(score_list)):\n",
    "        if score_list[index] < 0 or score_list[index] > 100:\n",
    "            score_list[index] = 0 \n",
    "        else:\n",
    "             score_list[index] = score_list[index]\n",
    "    return score_list\n",
    "\n",
    "def get_avg(score_list):\n",
    "    avg_score = sum(score_list) / len(score_list)\n",
    "    return avg_score\n",
    "\n",
    "def get_grade(score_list):\n",
    "    avg_score = get_avg(score_list)\n",
    "    \n",
    "    if avg_score >= 0 and avg_score < 40:\n",
    "        return  \"F\"\n",
    "    elif avg_score >= 40 and avg_score < 45:\n",
    "        return \"E\"\n",
    "    elif avg_score >= 45 and avg_score < 50:\n",
    "        return \"D\"\n",
    "    elif avg_score >= 50 and avg_score < 60:\n",
    "        return \"C\"\n",
    "    elif avg_score >= 60 and avg_score < 70:\n",
    "        return \"B\"\n",
    "    elif avg_score >= 70 and avg_score <= 100:\n",
    "        return \"A\"\n",
    "\n",
    "\n",
    "def show_student_info(sid,fn,ln,gender,mobile,email,subject_scores):\n",
    "\n",
    "\n",
    "    print()\n",
    "    print(\"Student Info App\")   \n",
    "    print(\"-\" * 15)\n",
    "    print(\"Student ID:\",sid)\n",
    "    print(\"First Name:\",fn)\n",
    "    print(\"Last Name:\",ln)\n",
    "    print(\"Gender:\",gender)\n",
    "    print(\"Email Address:\",email)\n",
    "    print(\"Subject_scores:\", subject_scores)\n",
    "    print(\"Average Score:\", get_avg(subject_scores))\n",
    "    print(\"Grade:\", get_grade(subject_scores))\n",
    "\n",
    "def get_student_info():\n",
    "    student_id =  input(\"Enter Your Student ID: \")\n",
    "    first_name =  input(\"Enter Your first_name: \")\n",
    "    last_name =  input(\"Enter Your last_name: \")\n",
    "    gender =  input(\"Enter Your Gender: \")\n",
    "    mobile =  input(\"Enter Your Mobile Number: \")\n",
    "    email =  input(\"Enter Your Email Address: \")\n",
    "    subject_scores = score_list_updated()\n",
    "\n",
    "    show_student_info(student_id,first_name,last_name,gender,mobile,email,subject_scores)\n",
    "\n",
    "\n",
    "get_student_info()"
   ]
  },
  {
   "cell_type": "code",
   "execution_count": null,
   "id": "e77d58ab-dd28-4f20-90a2-0d551e9f48b8",
   "metadata": {},
   "outputs": [],
   "source": []
  }
 ],
 "metadata": {
  "kernelspec": {
   "display_name": "Python 3 (ipykernel)",
   "language": "python",
   "name": "python3"
  },
  "language_info": {
   "codemirror_mode": {
    "name": "ipython",
    "version": 3
   },
   "file_extension": ".py",
   "mimetype": "text/x-python",
   "name": "python",
   "nbconvert_exporter": "python",
   "pygments_lexer": "ipython3",
   "version": "3.12.4"
  }
 },
 "nbformat": 4,
 "nbformat_minor": 5
}
