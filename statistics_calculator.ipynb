{
 "cells": [
  {
   "cell_type": "code",
   "execution_count": 5,
   "id": "0ac76367-7111-4da0-ab90-9496f6874079",
   "metadata": {},
   "outputs": [
    {
     "data": {
      "text/plain": [
       "3.0"
      ]
     },
     "execution_count": 5,
     "metadata": {},
     "output_type": "execute_result"
    }
   ],
   "source": [
    "def get_mean(lst):\n",
    "    total = 0\n",
    "    count = 0\n",
    "    for i in lst:\n",
    "        total += i\n",
    "        count += 1\n",
    "    avg = total/count\n",
    "    return avg\n",
    "get_mean([1,2,3,4,5])"
   ]
  },
  {
   "cell_type": "code",
   "execution_count": 26,
   "id": "80846de2-a891-4981-b668-ffab67a92f52",
   "metadata": {},
   "outputs": [
    {
     "data": {
      "text/plain": [
       "250.0"
      ]
     },
     "execution_count": 26,
     "metadata": {},
     "output_type": "execute_result"
    }
   ],
   "source": [
    "def get_median(lst):\n",
    "    lst.sort()\n",
    "    median = 0\n",
    "    if len(lst) % 2 != 0:\n",
    "        median = lst[len(lst)//2]\n",
    "    else:\n",
    "        median = (lst[len(lst)//2] + lst[len(lst)//2-1]) / 2 \n",
    "\n",
    "    return median \n",
    "\n",
    "get_median([100,1,5,200,300,700,10000,500])"
   ]
  },
  {
   "cell_type": "code",
   "execution_count": 30,
   "id": "47e82e74-f042-46d2-a6bb-9633c75e4f9b",
   "metadata": {},
   "outputs": [
    {
     "data": {
      "text/plain": [
       "3.0"
      ]
     },
     "execution_count": 30,
     "metadata": {},
     "output_type": "execute_result"
    }
   ],
   "source": [
    "def get_mean(lst):\n",
    "    total = 0\n",
    "    count = 0\n",
    "    for i in lst:\n",
    "        total += i\n",
    "        count += 1 \n",
    "    avg = total/count\n",
    "    return avg\n",
    "get_mean([1,2,3,4,5])"
   ]
  },
  {
   "cell_type": "code",
   "execution_count": 38,
   "id": "f5f1cd38-270b-4431-8a9a-e7d3fdfaf099",
   "metadata": {},
   "outputs": [
    {
     "data": {
      "text/plain": [
       "400.0"
      ]
     },
     "execution_count": 38,
     "metadata": {},
     "output_type": "execute_result"
    }
   ],
   "source": [
    "def get_median(lst):\n",
    "    lst.sort()\n",
    "    median = 0\n",
    "    if len(lst) % 2 != 0:\n",
    "        median = lst[len(lst)//2]\n",
    "    else:\n",
    "        median = (lst[len(lst)//2] + lst[len(lst)//2-1]) /2 \n",
    "    return median\n",
    "\n",
    "get_median([100,1,5,500,300,700,10000,500])"
   ]
  },
  {
   "cell_type": "code",
   "execution_count": 47,
   "id": "ba00c8c4-caf3-44b5-936f-9b04b045e0f2",
   "metadata": {},
   "outputs": [
    {
     "data": {
      "text/plain": [
       "3.0"
      ]
     },
     "execution_count": 47,
     "metadata": {},
     "output_type": "execute_result"
    }
   ],
   "source": [
    "def get_mean(lst):\n",
    "    count = 0\n",
    "    total = 0\n",
    "    for i in lst:\n",
    "        total += i\n",
    "        count += 1\n",
    "    avg = total/count\n",
    "    return avg\n",
    "get_mean([1,2,3,4,5])"
   ]
  },
  {
   "cell_type": "code",
   "execution_count": null,
   "id": "3363dabe-4a3b-4575-b673-a85105892cb3",
   "metadata": {},
   "outputs": [],
   "source": []
  }
 ],
 "metadata": {
  "kernelspec": {
   "display_name": "Python 3 (ipykernel)",
   "language": "python",
   "name": "python3"
  },
  "language_info": {
   "codemirror_mode": {
    "name": "ipython",
    "version": 3
   },
   "file_extension": ".py",
   "mimetype": "text/x-python",
   "name": "python",
   "nbconvert_exporter": "python",
   "pygments_lexer": "ipython3",
   "version": "3.12.4"
  }
 },
 "nbformat": 4,
 "nbformat_minor": 5
}
