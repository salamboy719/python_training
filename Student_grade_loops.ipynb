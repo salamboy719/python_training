{
 "cells": [
  {
   "cell_type": "code",
   "execution_count": null,
   "id": "cd0b64de-2c2d-4380-81ca-170b96ef5dc5",
   "metadata": {},
   "outputs": [
    {
     "name": "stdin",
     "output_type": "stream",
     "text": [
      "Enter Your Student ID:  h\n",
      "Enter Your first_name:  d\n",
      "Enter Your last_name:  f\n",
      "Enter Your Gender:  \n",
      "Enter Your Mobile Number:  f\n",
      "Enter Your Email Address:  g\n",
      "Enter your score g\n"
     ]
    },
    {
     "name": "stdout",
     "output_type": "stream",
     "text": [
      "Error:  could not convert string to float: 'g'\n",
      "Please enter numeric value!\n"
     ]
    },
    {
     "name": "stdin",
     "output_type": "stream",
     "text": [
      "Enter Your Student ID:  g\n",
      "Enter Your first_name:  r\n",
      "Enter Your last_name:  r\n",
      "Enter Your Gender:  r\n",
      "Enter Your Mobile Number:  r\n",
      "Enter Your Email Address:  r\n",
      "Enter your score r\n"
     ]
    },
    {
     "name": "stdout",
     "output_type": "stream",
     "text": [
      "Error:  could not convert string to float: 'r'\n",
      "Please enter numeric value!\n"
     ]
    },
    {
     "name": "stdin",
     "output_type": "stream",
     "text": [
      "Enter Your Student ID:  r\n",
      "Enter Your first_name:  r\n",
      "Enter Your last_name:  r\n",
      "Enter Your Gender:  r\n",
      "Enter Your Mobile Number:  r\n",
      "Enter Your Email Address:  r\n",
      "Enter your score r\n"
     ]
    },
    {
     "name": "stdout",
     "output_type": "stream",
     "text": [
      "Error:  could not convert string to float: 'r'\n",
      "Please enter numeric value!\n"
     ]
    },
    {
     "name": "stdin",
     "output_type": "stream",
     "text": [
      "Enter Your Student ID:  r\n",
      "Enter Your first_name:  r\n"
     ]
    }
   ],
   "source": [
    "def get_grade(score):\n",
    "    if score >= 0 and score < 40:\n",
    "        return  \"F\"\n",
    "    elif score >= 40 and score < 45:\n",
    "        return \"E\"\n",
    "    elif score >= 45 and score < 50:\n",
    "        return \"D\"\n",
    "    elif score >= 50 and score < 60:\n",
    "        return \"C\"\n",
    "    elif score >= 60 and score < 70:\n",
    "        return \"B\"\n",
    "    elif score >= 70 and score <= 100:\n",
    "        return \"A\"\n",
    "    else:\n",
    "        return\"Invalid Score!\"\n",
    "\n",
    "\n",
    "def show_student_info(sid,fn,ln,gender,mobile,email,score):\n",
    "\n",
    "\n",
    "    print()\n",
    "    print(\"Student Info App\")   \n",
    "    print(\"-\" * 15)\n",
    "    print(\"Student ID:\",sid)\n",
    "    print(\"First Name:\",fn)\n",
    "    print(\"Last Name:\",ln)\n",
    "    print(\"Gender:\",gender)\n",
    "    print(\"Email Address:\",email)\n",
    "    print(\"Exam Score:\", score)\n",
    "    print(\"Grade:\", get_grade(score))\n",
    "\n",
    "def get_student_info():\n",
    "    while True:\n",
    "        student_id =  input(\"Enter Your Student ID: \")\n",
    "        first_name =  input(\"Enter Your first_name: \")\n",
    "        last_name =  input(\"Enter Your last_name: \")\n",
    "        gender =  input(\"Enter Your Gender: \")\n",
    "        mobile =  input(\"Enter Your Mobile Number: \")\n",
    "        email =  input(\"Enter Your Email Address: \")\n",
    "        try:\n",
    "            score = float(input(\"Enter your score\"))\n",
    "            break\n",
    "        except ValueError as e:\n",
    "            print(\"Error: \",e)\n",
    "            print(\"Please enter numeric value!\") \n",
    "get_student_info()"
   ]
  },
  {
   "cell_type": "code",
   "execution_count": null,
   "id": "e1b3f3d0-06fd-49d6-a1d6-8226169664e4",
   "metadata": {},
   "outputs": [],
   "source": []
  }
 ],
 "metadata": {
  "kernelspec": {
   "display_name": "Python 3 (ipykernel)",
   "language": "python",
   "name": "python3"
  },
  "language_info": {
   "codemirror_mode": {
    "name": "ipython",
    "version": 3
   },
   "file_extension": ".py",
   "mimetype": "text/x-python",
   "name": "python",
   "nbconvert_exporter": "python",
   "pygments_lexer": "ipython3",
   "version": "3.12.4"
  }
 },
 "nbformat": 4,
 "nbformat_minor": 5
}
