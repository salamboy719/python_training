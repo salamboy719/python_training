{
 "cells": [
  {
   "cell_type": "markdown",
   "id": "cf4f5330-2bb6-45dd-bfc2-9d3b69f7189c",
   "metadata": {},
   "source": [
    "## Charecteristics of tuples \n",
    "### It is ordered\n",
    "### It is immutable\n",
    "### It is  created with parenthesis or bracket\n",
    "### It can contain multiple data type"
   ]
  },
  {
   "cell_type": "code",
   "execution_count": 14,
   "id": "cc964650-5bf8-4485-b19a-017753d31bc1",
   "metadata": {},
   "outputs": [],
   "source": [
    "# Two ways of creating an empty tuple \n",
    "my_tuple = ()\n",
    "my_tuple2 = tuple()\n"
   ]
  },
  {
   "cell_type": "code",
   "execution_count": 16,
   "id": "42d6eb6f-9272-4be4-9bd9-41e4151fcec9",
   "metadata": {},
   "outputs": [
    {
     "name": "stdout",
     "output_type": "stream",
     "text": [
      "()\n",
      "()\n"
     ]
    }
   ],
   "source": [
    "print(my_tuple)\n",
    "print(my_tuple2)"
   ]
  },
  {
   "cell_type": "code",
   "execution_count": 18,
   "id": "2cd9a79c-467b-4a64-9e28-136d574dbe3f",
   "metadata": {},
   "outputs": [
    {
     "name": "stdout",
     "output_type": "stream",
     "text": [
      "<class 'tuple'>\n",
      "<class 'tuple'>\n"
     ]
    }
   ],
   "source": [
    "print(type(my_tuple))\n",
    "print(type(my_tuple2))"
   ]
  },
  {
   "cell_type": "code",
   "execution_count": 24,
   "id": "797eb1e2-37e4-45b1-95de-05eee15f1acb",
   "metadata": {},
   "outputs": [
    {
     "data": {
      "text/plain": [
       "('Salam Ajibola', 30, 99.99, True, [1, 2, 3], {'School': 'Unilag'})"
      ]
     },
     "execution_count": 24,
     "metadata": {},
     "output_type": "execute_result"
    }
   ],
   "source": [
    "my_tuple =(\"Salam Ajibola\", 30, 99.99, True, [1,2,3], {\"School\":\"Unilag\"})\n",
    "my_tuple\n",
    "            "
   ]
  },
  {
   "cell_type": "code",
   "execution_count": 30,
   "id": "e458c493-639b-4a6b-abd2-a22a38b7fb08",
   "metadata": {},
   "outputs": [
    {
     "name": "stdout",
     "output_type": "stream",
     "text": [
      "Unilag\n",
      "Unilag\n",
      "2\n",
      "2\n"
     ]
    }
   ],
   "source": [
    "# Indexing a tuple\n",
    "print(my_tuple[5][\"School\"])\n",
    "print(my_tuple[-1][\"School\"])\n",
    "print(my_tuple[4][1])  \n",
    "print(my_tuple[-2][-2])   "
   ]
  },
  {
   "cell_type": "code",
   "execution_count": 34,
   "id": "5ced1895-b169-412b-9d48-24266be66c0e",
   "metadata": {},
   "outputs": [
    {
     "name": "stdout",
     "output_type": "stream",
     "text": [
      "('Salam Ajibola', 30, 99.99)\n",
      "('Salam Ajibola', 30, 99.99)\n",
      "{'School': 'Unilag'}\n",
      "([1, 2, 3], {'School': 'Unilag'})\n"
     ]
    }
   ],
   "source": [
    "# Slicing a tuple\n",
    "print(my_tuple[0:3])\n",
    "print(my_tuple[:-3])\n",
    "print(my_tuple[4:][1])  \n",
    "print(my_tuple[-2:]) "
   ]
  },
  {
   "cell_type": "code",
   "execution_count": 36,
   "id": "0c9228a9-a2e9-467e-b848-bac94b625908",
   "metadata": {},
   "outputs": [
    {
     "name": "stdout",
     "output_type": "stream",
     "text": [
      "Salam Ajibola\n",
      "30\n",
      "99.99\n",
      "True\n",
      "[1, 2, 3]\n",
      "{'School': 'Unilag'}\n"
     ]
    }
   ],
   "source": [
    "# Using loop with tuple \n",
    "for i in my_tuple:\n",
    "    print(i)"
   ]
  },
  {
   "cell_type": "code",
   "execution_count": 38,
   "id": "25e91be2-055a-40e9-aaf0-7b96b6f90696",
   "metadata": {},
   "outputs": [
    {
     "data": {
      "text/plain": [
       "['__add__',\n",
       " '__class__',\n",
       " '__class_getitem__',\n",
       " '__contains__',\n",
       " '__delattr__',\n",
       " '__dir__',\n",
       " '__doc__',\n",
       " '__eq__',\n",
       " '__format__',\n",
       " '__ge__',\n",
       " '__getattribute__',\n",
       " '__getitem__',\n",
       " '__getnewargs__',\n",
       " '__getstate__',\n",
       " '__gt__',\n",
       " '__hash__',\n",
       " '__init__',\n",
       " '__init_subclass__',\n",
       " '__iter__',\n",
       " '__le__',\n",
       " '__len__',\n",
       " '__lt__',\n",
       " '__mul__',\n",
       " '__ne__',\n",
       " '__new__',\n",
       " '__reduce__',\n",
       " '__reduce_ex__',\n",
       " '__repr__',\n",
       " '__rmul__',\n",
       " '__setattr__',\n",
       " '__sizeof__',\n",
       " '__str__',\n",
       " '__subclasshook__',\n",
       " 'count',\n",
       " 'index']"
      ]
     },
     "execution_count": 38,
     "metadata": {},
     "output_type": "execute_result"
    }
   ],
   "source": [
    "dir(tuple)"
   ]
  },
  {
   "cell_type": "code",
   "execution_count": 42,
   "id": "e9d30acc-e021-40df-8275-a5ca6021be88",
   "metadata": {},
   "outputs": [
    {
     "data": {
      "text/plain": [
       "1"
      ]
     },
     "execution_count": 42,
     "metadata": {},
     "output_type": "execute_result"
    }
   ],
   "source": [
    "my_tuple.count(30)"
   ]
  },
  {
   "cell_type": "code",
   "execution_count": 44,
   "id": "a970024b-d29d-4dd9-8a29-e0375ff1a284",
   "metadata": {},
   "outputs": [
    {
     "data": {
      "text/plain": [
       "1"
      ]
     },
     "execution_count": 44,
     "metadata": {},
     "output_type": "execute_result"
    }
   ],
   "source": [
    "my_tuple.index(30)"
   ]
  },
  {
   "cell_type": "code",
   "execution_count": 46,
   "id": "471fc5a4-be58-4731-b746-7ff6cf06f32d",
   "metadata": {},
   "outputs": [
    {
     "data": {
      "text/plain": [
       "\u001b[0;31mSignature:\u001b[0m \u001b[0mmy_tuple\u001b[0m\u001b[0;34m.\u001b[0m\u001b[0mindex\u001b[0m\u001b[0;34m(\u001b[0m\u001b[0mvalue\u001b[0m\u001b[0;34m,\u001b[0m \u001b[0mstart\u001b[0m\u001b[0;34m=\u001b[0m\u001b[0;36m0\u001b[0m\u001b[0;34m,\u001b[0m \u001b[0mstop\u001b[0m\u001b[0;34m=\u001b[0m\u001b[0;36m9223372036854775807\u001b[0m\u001b[0;34m,\u001b[0m \u001b[0;34m/\u001b[0m\u001b[0;34m)\u001b[0m\u001b[0;34m\u001b[0m\u001b[0;34m\u001b[0m\u001b[0m\n",
       "\u001b[0;31mDocstring:\u001b[0m\n",
       "Return first index of value.\n",
       "\n",
       "Raises ValueError if the value is not present.\n",
       "\u001b[0;31mType:\u001b[0m      builtin_function_or_method"
      ]
     },
     "metadata": {},
     "output_type": "display_data"
    }
   ],
   "source": [
    "?my_tuple.index"
   ]
  },
  {
   "cell_type": "code",
   "execution_count": 48,
   "id": "3970714f-14d0-41b5-9714-8f341b154622",
   "metadata": {},
   "outputs": [
    {
     "data": {
      "text/plain": [
       "\u001b[0;31mSignature:\u001b[0m \u001b[0mmy_tuple\u001b[0m\u001b[0;34m.\u001b[0m\u001b[0mcount\u001b[0m\u001b[0;34m(\u001b[0m\u001b[0mvalue\u001b[0m\u001b[0;34m,\u001b[0m \u001b[0;34m/\u001b[0m\u001b[0;34m)\u001b[0m\u001b[0;34m\u001b[0m\u001b[0;34m\u001b[0m\u001b[0m\n",
       "\u001b[0;31mDocstring:\u001b[0m Return number of occurrences of value.\n",
       "\u001b[0;31mType:\u001b[0m      builtin_function_or_method"
      ]
     },
     "metadata": {},
     "output_type": "display_data"
    }
   ],
   "source": [
    "?my_tuple.count"
   ]
  },
  {
   "cell_type": "code",
   "execution_count": 50,
   "id": "15adb07c-4a6e-424f-80b9-12004c8bbeb3",
   "metadata": {},
   "outputs": [],
   "source": [
    "# Tuple unpacking\n",
    "x, y = (30,40)"
   ]
  },
  {
   "cell_type": "code",
   "execution_count": 52,
   "id": "33bb2606-f30d-4821-ab84-4b0ee2476705",
   "metadata": {},
   "outputs": [
    {
     "data": {
      "text/plain": [
       "30"
      ]
     },
     "execution_count": 52,
     "metadata": {},
     "output_type": "execute_result"
    }
   ],
   "source": [
    "x"
   ]
  },
  {
   "cell_type": "code",
   "execution_count": 54,
   "id": "ba171d90-6be9-4af5-ac02-eba4d9c36fbb",
   "metadata": {},
   "outputs": [
    {
     "data": {
      "text/plain": [
       "40"
      ]
     },
     "execution_count": 54,
     "metadata": {},
     "output_type": "execute_result"
    }
   ],
   "source": [
    "y"
   ]
  },
  {
   "cell_type": "code",
   "execution_count": 56,
   "id": "3cbcd92c-8964-4d10-91a1-82921e7fd482",
   "metadata": {},
   "outputs": [
    {
     "data": {
      "text/plain": [
       "[('c', 10), ('b', 30), ('a', 40)]"
      ]
     },
     "execution_count": 56,
     "metadata": {},
     "output_type": "execute_result"
    }
   ],
   "source": [
    "my_dict = {\"c\":10,\"b\":30,\"a\":40}\n",
    "my_list =[]\n",
    "\n",
    "for k, v in my_dict.items():\n",
    "    my_list.append((k,v))\n",
    "\n",
    "sorted(my_list, reverse=True)"
   ]
  },
  {
   "cell_type": "code",
   "execution_count": 68,
   "id": "637672b3-7f9b-4141-89ee-1726bc0be4cb",
   "metadata": {},
   "outputs": [
    {
     "data": {
      "text/plain": [
       "[(3, 'in'), (3, 'Nigeria.')]"
      ]
     },
     "execution_count": 68,
     "metadata": {},
     "output_type": "execute_result"
    }
   ],
   "source": [
    "my_list = []\n",
    "my_dict = {}\n",
    "with open(\"file.txt\", \"r\") as file:\n",
    "    contents = file.read()\n",
    "    contents = contents.split()\n",
    "\n",
    "for i in  contents:\n",
    "    my_dict[i] = my_dict.get(i,0) + 1\n",
    "\n",
    "my_list2 = []\n",
    "\n",
    "for k, v in my_dict.items():\n",
    "    my_list2.append((v, k))\n",
    "\n",
    "my_list = sorted(my_list2, reverse=True)\n",
    "\n",
    "my_list[:2]"
   ]
  },
  {
   "cell_type": "code",
   "execution_count": null,
   "id": "a432e040-42f6-41d7-a25d-c8ec065bb3f7",
   "metadata": {},
   "outputs": [],
   "source": []
  }
 ],
 "metadata": {
  "kernelspec": {
   "display_name": "Python 3 (ipykernel)",
   "language": "python",
   "name": "python3"
  },
  "language_info": {
   "codemirror_mode": {
    "name": "ipython",
    "version": 3
   },
   "file_extension": ".py",
   "mimetype": "text/x-python",
   "name": "python",
   "nbconvert_exporter": "python",
   "pygments_lexer": "ipython3",
   "version": "3.12.4"
  }
 },
 "nbformat": 4,
 "nbformat_minor": 5
}
