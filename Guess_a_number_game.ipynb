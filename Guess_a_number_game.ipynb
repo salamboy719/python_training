{
 "cells": [
  {
   "cell_type": "code",
   "execution_count": 20,
   "id": "672739ec-7d24-4eec-a5fe-77b6257e07e3",
   "metadata": {},
   "outputs": [
    {
     "name": "stdout",
     "output_type": "stream",
     "text": [
      "Welcome to Number Guessing Game.\n",
      "______________________________\n"
     ]
    },
    {
     "name": "stdin",
     "output_type": "stream",
     "text": [
      "\n",
      "Guess a number from 1 to 30! b\n"
     ]
    },
    {
     "name": "stdout",
     "output_type": "stream",
     "text": [
      "Error: invalid literal for int() with base 10: 'b'\n",
      "Invalid Input. Please enter a number.\n"
     ]
    },
    {
     "name": "stdin",
     "output_type": "stream",
     "text": [
      "\n",
      "Guess a number from 1 to 30! 30\n"
     ]
    },
    {
     "name": "stdout",
     "output_type": "stream",
     "text": [
      "High! Try going lower.\n"
     ]
    },
    {
     "name": "stdin",
     "output_type": "stream",
     "text": [
      "\n",
      "Guess a number from 1 to 30! 25\n"
     ]
    },
    {
     "name": "stdout",
     "output_type": "stream",
     "text": [
      "High! Try going lower.\n"
     ]
    },
    {
     "name": "stdin",
     "output_type": "stream",
     "text": [
      "\n",
      "Guess a number from 1 to 30! 10\n"
     ]
    },
    {
     "name": "stdout",
     "output_type": "stream",
     "text": [
      "low. Try going higher.\n"
     ]
    },
    {
     "name": "stdin",
     "output_type": "stream",
     "text": [
      "\n",
      "Guess a number from 1 to 30! 15\n"
     ]
    },
    {
     "name": "stdout",
     "output_type": "stream",
     "text": [
      "low. Try going higher.\n"
     ]
    },
    {
     "name": "stdin",
     "output_type": "stream",
     "text": [
      "\n",
      "Guess a number from 1 to 30! 20\n"
     ]
    },
    {
     "name": "stdout",
     "output_type": "stream",
     "text": [
      "low. Try going higher.\n"
     ]
    },
    {
     "name": "stdin",
     "output_type": "stream",
     "text": [
      "\n",
      "Guess a number from 1 to 30! 17\n"
     ]
    },
    {
     "name": "stdout",
     "output_type": "stream",
     "text": [
      "low. Try going higher.\n"
     ]
    },
    {
     "name": "stdin",
     "output_type": "stream",
     "text": [
      "\n",
      "Guess a number from 1 to 30! 18\n"
     ]
    },
    {
     "name": "stdout",
     "output_type": "stream",
     "text": [
      "low. Try going higher.\n"
     ]
    },
    {
     "name": "stdin",
     "output_type": "stream",
     "text": [
      "\n",
      "Guess a number from 1 to 30! 19\n"
     ]
    },
    {
     "name": "stdout",
     "output_type": "stream",
     "text": [
      "low. Try going higher.\n"
     ]
    },
    {
     "name": "stdin",
     "output_type": "stream",
     "text": [
      "\n",
      "Guess a number from 1 to 30! 16\n"
     ]
    },
    {
     "name": "stdout",
     "output_type": "stream",
     "text": [
      "low. Try going higher.\n"
     ]
    },
    {
     "name": "stdin",
     "output_type": "stream",
     "text": [
      "\n",
      "Guess a number from 1 to 30! 15\n"
     ]
    },
    {
     "name": "stdout",
     "output_type": "stream",
     "text": [
      "low. Try going higher.\n"
     ]
    },
    {
     "name": "stdin",
     "output_type": "stream",
     "text": [
      "\n",
      "Guess a number from 1 to 30! 21\n"
     ]
    },
    {
     "name": "stdout",
     "output_type": "stream",
     "text": [
      "low. Try going higher.\n"
     ]
    },
    {
     "name": "stdin",
     "output_type": "stream",
     "text": [
      "\n",
      "Guess a number from 1 to 30! 23\n"
     ]
    },
    {
     "name": "stdout",
     "output_type": "stream",
     "text": [
      "Congratulations🎉. You guessed the number correctlt in 12 attempt(s).\n"
     ]
    },
    {
     "name": "stdin",
     "output_type": "stream",
     "text": [
      "Do you want to play again? (Yes/No):  YES \n",
      "\n",
      "Guess a number from 1 to 30! 30\n"
     ]
    },
    {
     "name": "stdout",
     "output_type": "stream",
     "text": [
      "High! Try going lower.\n"
     ]
    },
    {
     "name": "stdin",
     "output_type": "stream",
     "text": [
      "\n",
      "Guess a number from 1 to 30! 25\n"
     ]
    },
    {
     "name": "stdout",
     "output_type": "stream",
     "text": [
      "High! Try going lower.\n"
     ]
    },
    {
     "name": "stdin",
     "output_type": "stream",
     "text": [
      "\n",
      "Guess a number from 1 to 30! 20\n"
     ]
    },
    {
     "name": "stdout",
     "output_type": "stream",
     "text": [
      "low. Try going higher.\n"
     ]
    },
    {
     "name": "stdin",
     "output_type": "stream",
     "text": [
      "\n",
      "Guess a number from 1 to 30! 23\n"
     ]
    },
    {
     "name": "stdout",
     "output_type": "stream",
     "text": [
      "High! Try going lower.\n"
     ]
    },
    {
     "name": "stdin",
     "output_type": "stream",
     "text": [
      "\n",
      "Guess a number from 1 to 30! 22\n"
     ]
    },
    {
     "name": "stdout",
     "output_type": "stream",
     "text": [
      "Congratulations🎉. You guessed the number correctlt in 5 attempt(s).\n"
     ]
    },
    {
     "name": "stdin",
     "output_type": "stream",
     "text": [
      "Do you want to play again? (Yes/No):  no\n"
     ]
    }
   ],
   "source": [
    "import random \n",
    "\n",
    "def guess_a_number():\n",
    "    print(\"Welcome to Number Guessing Game.\")\n",
    "    print(\"_\" * 30)\n",
    "\n",
    "    secret_number = random.randint(1,30)\n",
    "    attempt = 0\n",
    "\n",
    "    while True:\n",
    "        try:\n",
    "            guess = int(input(\"\\nGuess a number from 1 to 30!\"))\n",
    "            attempt += 1\n",
    "    \n",
    "            if guess == secret_number:\n",
    "                print(f\"Congratulations🎉. You guessed the number correctlt in {attempt} attempt(s).\")\n",
    "                again = input(\"Do you want to play again? (Yes/No): \").strip().lower()\n",
    "                if again in [\"yes\", \"y\"]:\n",
    "                    secret_number = random.randint(1,30)\n",
    "                    attempt = 0\n",
    "                    continue\n",
    "                else:\n",
    "                    break\n",
    "            elif guess < secret_number:\n",
    "                print(\"low. Try going higher.\")\n",
    "            else:\n",
    "                print(\"High! Try going lower.\")\n",
    "        except Exception as e:\n",
    "            print(\"Error:\",e)\n",
    "            print(\"Invalid Input. Please enter a number.\")\n",
    "\n",
    "guess_a_number()"
   ]
  },
  {
   "cell_type": "code",
   "execution_count": 92,
   "id": "f04911d1-0329-4b5d-89ea-a77e24ac7573",
   "metadata": {},
   "outputs": [
    {
     "name": "stdin",
     "output_type": "stream",
     "text": [
      "Enter your number -1\n"
     ]
    },
    {
     "name": "stdout",
     "output_type": "stream",
     "text": [
      "False\n"
     ]
    }
   ],
   "source": [
    "def is_positive():\n",
    "    if number < 0:\n",
    "        print(False)\n",
    "    else:\n",
    "        print(True)\n",
    "number = int(input(\"Enter your number\")) \n",
    "\n",
    "is_positive()"
   ]
  },
  {
   "cell_type": "code",
   "execution_count": 6,
   "id": "e1f33bdc-f701-47a9-b1af-475b2364db13",
   "metadata": {},
   "outputs": [
    {
     "name": "stdout",
     "output_type": "stream",
     "text": [
      "1\n",
      "2\n",
      "3\n",
      "4\n",
      "5\n",
      "6\n",
      "7\n",
      "8\n",
      "9\n",
      "10\n"
     ]
    }
   ],
   "source": [
    "n = 1\n",
    "while n < 11:\n",
    "    print(n)\n",
    "    n += 1\n",
    "    if n == 11:\n",
    "     break"
   ]
  },
  {
   "cell_type": "code",
   "execution_count": null,
   "id": "3312a405-9867-44ad-8d0f-eb8bdb36eddf",
   "metadata": {},
   "outputs": [],
   "source": [
    "n"
   ]
  },
  {
   "cell_type": "code",
   "execution_count": 12,
   "id": "fa4347cf-3ccd-4eb0-aac4-35d778206fd2",
   "metadata": {},
   "outputs": [
    {
     "name": "stdout",
     "output_type": "stream",
     "text": [
      "1\n",
      "2\n",
      "3\n",
      "4\n",
      "5\n",
      "6\n",
      "7\n",
      "8\n",
      "9\n",
      "10\n"
     ]
    }
   ],
   "source": [
    "for i in range(1,11):\n",
    "    print(i)"
   ]
  },
  {
   "cell_type": "code",
   "execution_count": 32,
   "id": "16ea2c90-c727-44f8-9651-8457dfccf771",
   "metadata": {},
   "outputs": [
    {
     "data": {
      "text/plain": [
       "5050"
      ]
     },
     "execution_count": 32,
     "metadata": {},
     "output_type": "execute_result"
    }
   ],
   "source": [
    "sum(range(1,101))\n"
   ]
  },
  {
   "cell_type": "code",
   "execution_count": 46,
   "id": "35852f57-eecf-4772-9cef-f68ba2edbb41",
   "metadata": {},
   "outputs": [
    {
     "name": "stdout",
     "output_type": "stream",
     "text": [
      "363738\n"
     ]
    }
   ],
   "source": [
    "nums = [10, 30000, 547, 363738]\n",
    "maximum = 0\n",
    "for i in nums:\n",
    "    if i > maximum:\n",
    "        maximum = i\n",
    "print(maximum)"
   ]
  },
  {
   "cell_type": "code",
   "execution_count": null,
   "id": "315dac22-b5aa-40a8-90a9-b69a52f7086f",
   "metadata": {},
   "outputs": [],
   "source": []
  }
 ],
 "metadata": {
  "kernelspec": {
   "display_name": "Python 3 (ipykernel)",
   "language": "python",
   "name": "python3"
  },
  "language_info": {
   "codemirror_mode": {
    "name": "ipython",
    "version": 3
   },
   "file_extension": ".py",
   "mimetype": "text/x-python",
   "name": "python",
   "nbconvert_exporter": "python",
   "pygments_lexer": "ipython3",
   "version": "3.12.4"
  }
 },
 "nbformat": 4,
 "nbformat_minor": 5
}
