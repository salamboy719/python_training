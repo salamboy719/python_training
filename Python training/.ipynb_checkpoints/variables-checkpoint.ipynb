{
 "cells": [
  {
   "cell_type": "markdown",
   "id": "2d0ccc45-ec8b-4717-ae4d-1d07d758e9ce",
   "metadata": {},
   "source": [
    "### Python introduction\n",
    "Python is a high-level, interpreted programming language known for its readability and simplicity. It was created by Guido van Rossum and first released in 1991. Python supports multiple programming paradigms, including procedural, object-oriented, and functional programming.\n",
    "\n",
    "### Characteristics of Python:\n",
    "\n",
    "1. **Readability**: Python's syntax is clear and easy to understand, which makes it an excellent choice for beginners and promotes good programming practices.\n",
    "\n",
    "2. **Interpreted Language**: Python code is executed line by line, which makes debugging easier and allows for interactive programming.\n",
    "\n",
    "3. **Dynamically Typed**: Variables in Python do not require an explicit declaration to reserve memory space. The declaration happens automatically when a value is assigned to a variable.\n",
    "\n",
    "4. **Extensive Standard Library**: Python comes with a large standard library that provides modules and functions for various tasks, such as file I/O, system calls, and even web development.\n",
    "\n",
    "5. **Cross-Platform**: Python is available on various operating systems, including Windows, macOS, and Linux, allowing for code portability.\n",
    "\n",
    "6. **Community Support**: Python has a large and active community, which means a wealth of resources, libraries, and frameworks are available for developers.\n",
    "\n",
    "7. **Object-Oriented**: Python supports object-oriented programming, allowing for the creation of classes and objects, which helps in organizing code and reusing it.\n",
    "\n",
    "8. **Versatile**: Python can be used for a wide range of applications, including web development, data analysis, artificial intelligence, scientific computing, and automation.\n",
    "\n",
    "9. **Third-Party Libraries**: Python has a rich ecosystem of third-party libraries and frameworks, such as NumPy, Pandas, Flask, and Django, which extend its capabilities.\n",
    "\n",
    "10. **Easy Integration**: Python can easily integrate with other languages like C, C++, and Java, allowing for the use of existing codebases and libraries.\n",
    "\n",
    "These characteristics make Python a popular choice for both beginners and experienced developers across various domains."
   ]
  },
  {
   "cell_type": "markdown",
   "id": "24ae865a-e91c-4d6f-bb8c-8b09c8dd7ef8",
   "metadata": {},
   "source": [
    "# Python Variable name rules\n",
    "In Python, variable names must follow specific rules and conventions. Here are the key points to consider:\n",
    "\n",
    "1. **Character Set**: Variable names can include:\n",
    "   - Letters (both uppercase and lowercase)\n",
    "   - Digits (0-9), but cannot start with a digit\n",
    "   - Underscores (_)\n",
    "\n",
    "2. **Case Sensitivity**: Variable names are case-sensitive. For example, `myVariable`, `MyVariable`, and `MYVARIABLE` are considered different variables.\n",
    "\n",
    "3. **Length**: There is no explicit limit on the length of variable names, but it's advisable to keep them reasonably short and meaningful.\n",
    "\n",
    "4. **Keywords**: Variable names cannot be the same as Python's reserved keywords (e.g., `if`, `else`, `while`, `for`, `def`, etc.). You can check the list of keywords using the `keyword` module.\n",
    "\n",
    "5. **Conventions**: While not enforced by the language, it is a common convention to use:\n",
    "   - Lowercase letters for variable names (e.g., `my_variable`)\n",
    "   - Uppercase letters for constants (e.g., `MAX_VALUE`)\n",
    "   - CamelCase for class names (e.g., `MyClass`)\n",
    "\n",
    "6. **Special Characters**: Variable names cannot contain special characters (e.g., `@`, `#`, `$`, etc.) or spaces.\n",
    "\n",
    "By following these rules, you can create valid and readable variable names in your Python code. If you need to check for reserved keywords, you can use the `keyword` package."
   ]
  },
  {
   "cell_type": "code",
   "execution_count": null,
   "id": "827cd94f-99ea-47b1-bc62-81d4462d81b0",
   "metadata": {},
   "outputs": [],
   "source": []
  },
  {
   "cell_type": "markdown",
   "id": "1d9c282c-6dbd-42de-9fa3-bec86a752bd2",
   "metadata": {},
   "source": [
    "# User\n",
    "python variable name rules"
   ]
  },
  {
   "cell_type": "markdown",
   "id": "759c77d5-34af-4e18-a8df-d5bc4639f89d",
   "metadata": {},
   "source": [
    "# Assistant\n",
    "In Python, variable names must follow specific rules and conventions. Here are the key points to consider:\n",
    "\n",
    "1. **Character Set**: Variable names can include:\n",
    "   - Letters (both uppercase and lowercase)\n",
    "   - Digits (0-9), but cannot start with a digit\n",
    "   - Underscores (_)\n",
    "\n",
    "2. **Case Sensitivity**: Variable names are case-sensitive. For example, `myVariable`, `MyVariable`, and `MYVARIABLE` are considered different variables.\n",
    "\n",
    "3. **Length**: There is no explicit limit on the length of variable names, but it's advisable to keep them reasonably short and meaningful.\n",
    "\n",
    "4. **Keywords**: Variable names cannot be the same as Python's reserved keywords (e.g., `if`, `else`, `while`, `for`, `def`, etc.). You can check the list of keywords using the `keyword` module.\n",
    "\n",
    "5. **Conventions**: While not enforced by the language, it is a common convention to use:\n",
    "   - Lowercase letters for variable names (e.g., `my_variable`)\n",
    "   - Uppercase letters for constants (e.g., `MAX_VALUE`)\n",
    "   - CamelCase for class names (e.g., `MyClass`)\n",
    "\n",
    "6. **Special Characters**: Variable names cannot contain special characters (e.g., `@`, `#`, `$`, etc.) or spaces.\n",
    "\n",
    "By following these rules, you can create valid and readable variable names in your Python code. If you need to check for reserved keywords, you can use the `keyword` package."
   ]
  },
  {
   "cell_type": "markdown",
   "id": "f29aa8bb-f003-40e3-8eb7-9cd3e61c9bab",
   "metadata": {},
   "source": [
    "# User\n",
    "Camel case and snake case"
   ]
  },
  {
   "cell_type": "markdown",
   "id": "b7bdd5cf-7e76-4f1b-a05b-2f5817679d08",
   "metadata": {},
   "source": [
    "# Assistant\n",
    "Camel case and snake case are two common naming conventions used in programming, including Python. Here’s a detailed explanation of each:\n",
    "\n",
    "### Camel Case\n",
    "- **Definition**: In camel case, the first letter of each word is capitalized except for the first word. There are no spaces or underscores between words.\n",
    "- **Example**: `myVariableName`, `getUserInfo`, `calculateTotalAmount`\n",
    "- **Usage**: Camel case is often used for naming variables and functions in languages like JavaScript and Java. In Python, it is less common for variable names but can be used for class names (e.g., `MyClass`).\n",
    "\n",
    "### Snake Case\n",
    "- **Definition**: In snake case, all letters are lowercase, and words are separated by underscores.\n",
    "- **Example**: `my_variable_name`, `get_user_info`, `calculate_total_amount`\n",
    "- **Usage**: Snake case is the preferred naming convention for variable names and function names in Python, as per the PEP 8 style guide.\n",
    "\n",
    "### Summary\n",
    "- **Camel Case**: `myVariableName` (used for class names in Python)\n",
    "- **Snake Case**: `my_variable_name` (preferred for variables and functions in Python)\n",
    "\n",
    "When writing Python code, it's best to follow the conventions of the language to maintain readability and consistency. For variable and function names, use snake case, and for class names, use camel case."
   ]
  },
  {
   "cell_type": "markdown",
   "id": "064523ef-6e98-4398-a229-5fb16b165d30",
   "metadata": {},
   "source": [
    "# User\n",
    "python variable name rules"
   ]
  },
  {
   "cell_type": "markdown",
   "id": "5a8220fa-efc6-41ec-ba3c-1f4248f12045",
   "metadata": {},
   "source": [
    "# Assistant\n",
    "In Python, variable names must follow specific rules and conventions. Here are the key points to consider:\n",
    "\n",
    "1. **Character Set**: Variable names can include:\n",
    "   - Letters (both uppercase and lowercase)\n",
    "   - Digits (0-9), but cannot start with a digit\n",
    "   - Underscores (_)\n",
    "\n",
    "2. **Case Sensitivity**: Variable names are case-sensitive. For example, `myVariable`, `MyVariable`, and `MYVARIABLE` are considered different variables.\n",
    "\n",
    "3. **Length**: There is no explicit limit on the length of variable names, but it's advisable to keep them reasonably short and meaningful.\n",
    "\n",
    "4. **Keywords**: Variable names cannot be the same as Python's reserved keywords (e.g., `if`, `else`, `while`, `for`, `def`, etc.). You can check the list of keywords using the `keyword` module.\n",
    "\n",
    "5. **Conventions**: While not enforced by the language, it is a common convention to use:\n",
    "   - Lowercase letters for variable names (e.g., `my_variable`)\n",
    "   - Uppercase letters for constants (e.g., `MAX_VALUE`)\n",
    "   - CamelCase for class names (e.g., `MyClass`)\n",
    "\n",
    "6. **Special Characters**: Variable names cannot contain special characters (e.g., `@`, `#`, `$`, etc.) or spaces.\n",
    "\n",
    "By following these rules, you can create valid and readable variable names in your Python code. If you need to check for reserved keywords, you can use the `keyword` package."
   ]
  },
  {
   "cell_type": "markdown",
   "id": "bdabc8b9-2f10-48ce-9612-1f71faae374e",
   "metadata": {},
   "source": [
    "# Camel case vs snake case\n",
    "\n",
    "Camel case and snake case are two common naming conventions used in programming, including Python. Here’s a detailed explanation of each:\n",
    "\n",
    "### Camel Case\n",
    "- **Definition**: In camel case, the first letter of each word is capitalized except for the first word. There are no spaces or underscores between words.\n",
    "- **Example**: `myVariableName`, `getUserInfo`, `calculateTotalAmount`\n",
    "- **Usage**: Camel case is often used for naming variables and functions in languages like JavaScript and Java. In Python, it is less common for variable names but can be used for class names (e.g., `MyClass`).\n",
    "\n",
    "### Snake Case\n",
    "- **Definition**: In snake case, all letters are lowercase, and words are separated by underscores.\n",
    "- **Example**: `my_variable_name`, `get_user_info`, `calculate_total_amount`\n",
    "- **Usage**: Snake case is the preferred naming convention for variable names and function names in Python, as per the PEP 8 style guide.\n",
    "\n",
    "### Summary\n",
    "- **Camel Case**: `myVariableName` (used for class names in Python)\n",
    "- **Snake Case**: `my_variable_name` (preferred for variables and functions in Python)\n",
    "\n",
    "When writing Python code, it's best to follow the conventions of the language to maintain readability and consistency. For variable and function names, use snake case, and for class names, use camel case."
   ]
  },
  {
   "cell_type": "code",
   "execution_count": 30,
   "id": "278c96c2-d64d-4add-a518-bb6f66765f05",
   "metadata": {},
   "outputs": [
    {
     "name": "stdout",
     "output_type": "stream",
     "text": [
      "Welcome to Python 3.12's help utility! If this is your first time using\n",
      "Python, you should definitely check out the tutorial at\n",
      "https://docs.python.org/3.12/tutorial/.\n",
      "\n",
      "Enter the name of any module, keyword, or topic to get help on writing\n",
      "Python programs and using Python modules.  To get a list of available\n",
      "modules, keywords, symbols, or topics, enter \"modules\", \"keywords\",\n",
      "\"symbols\", or \"topics\".\n",
      "\n",
      "Each module also comes with a one-line summary of what it does; to list\n",
      "the modules whose name or summary contain a given string such as \"spam\",\n",
      "enter \"modules spam\".\n",
      "\n",
      "To quit this help utility and return to the interpreter,\n",
      "enter \"q\" or \"quit\".\n",
      "\n"
     ]
    },
    {
     "name": "stdin",
     "output_type": "stream",
     "text": [
      "help>  keywords\n"
     ]
    },
    {
     "name": "stdout",
     "output_type": "stream",
     "text": [
      "\n",
      "Here is a list of the Python keywords.  Enter any keyword to get more help.\n",
      "\n",
      "False               class               from                or\n",
      "None                continue            global              pass\n",
      "True                def                 if                  raise\n",
      "and                 del                 import              return\n",
      "as                  elif                in                  try\n",
      "assert              else                is                  while\n",
      "async               except              lambda              with\n",
      "await               finally             nonlocal            yield\n",
      "break               for                 not                 \n",
      "\n"
     ]
    },
    {
     "name": "stdin",
     "output_type": "stream",
     "text": [
      "help>  q\n"
     ]
    },
    {
     "name": "stdout",
     "output_type": "stream",
     "text": [
      "\n",
      "You are now leaving help and returning to the Python interpreter.\n",
      "If you want to ask for help on a particular object directly from the\n",
      "interpreter, you can type \"help(object)\".  Executing \"help('string')\"\n",
      "has the same effect as typing a particular string at the help> prompt.\n"
     ]
    }
   ],
   "source": [
    "help()"
   ]
  },
  {
   "cell_type": "code",
   "execution_count": 36,
   "id": "aeb097cb-791e-4f79-a46b-55ca9a9f611e",
   "metadata": {},
   "outputs": [
    {
     "name": "stdout",
     "output_type": "stream",
     "text": [
      "Ajibola Abdulsalam\n",
      "23\n",
      "99.89\n",
      "True\n",
      "67.1j\n"
     ]
    }
   ],
   "source": [
    "# Data Types in Python\n",
    "name = \"Ajibola Abdulsalam\"  #  String Data Type\n",
    "age = 23 # integer data type\n",
    "score = 99.89 # Float data type\n",
    "is_student = True #Boolen Data Type \n",
    "comp = 67.10j #complex Data Type\n",
    "\n",
    "\n",
    "print(name)\n",
    "print(age)\n",
    "print(score)\n",
    "print(is_student)\n",
    "print(comp)"
   ]
  },
  {
   "cell_type": "code",
   "execution_count": 44,
   "id": "eb2cdc79-898d-4c2b-ac7a-7c93f1d4ec9c",
   "metadata": {},
   "outputs": [
    {
     "name": "stdout",
     "output_type": "stream",
     "text": [
      "<class 'str'>\n",
      "<class 'int'>\n",
      "<class 'float'>\n",
      "<class 'bool'>\n",
      "<class 'complex'>\n"
     ]
    }
   ],
   "source": [
    "print(type(name))\n",
    "print(type(age))\n",
    "print(type(score))\n",
    "print(type(is_student))\n",
    "print(type(comp))"
   ]
  },
  {
   "cell_type": "code",
   "execution_count": 40,
   "id": "ac1e73e1-d048-48fb-9b87-2dd0ad900bc4",
   "metadata": {},
   "outputs": [
    {
     "name": "stdout",
     "output_type": "stream",
     "text": [
      "501\n",
      "Salam\n",
      "Ajibola\n",
      "male\n",
      "09017800344\n",
      "salamboy719@gmail.com\n",
      "89.99\n"
     ]
    }
   ],
   "source": [
    "student_id = \"501\"\n",
    "first_name = \"Salam\"\n",
    "last_name = \"Ajibola\"\n",
    "gander = \"male\"\n",
    "mobile = \"09017800344\"\n",
    "email = \"salamboy719@gmail.com\"\n",
    "score = 89.99\n",
    "\n",
    "print(student_id)\n",
    "print(first_name)\n",
    "print(last_name)\n",
    "print(gander)\n",
    "print(mobile)\n",
    "print(email)\n",
    "print(score)"
   ]
  },
  {
   "cell_type": "markdown",
   "id": "6abc3dc9-3ced-46d0-9719-155e43cefd43",
   "metadata": {},
   "source": [
    "# Arithemetic operators\n",
    "\n",
    "### Addition +\n",
    "### substraction -\n",
    "### Division /\n",
    "### Multiplication *\n",
    "### Exponent **\n",
    "### Interger Division //\n",
    "### Modulus Division/ remainder operator %\n"
   ]
  },
  {
   "cell_type": "code",
   "execution_count": 60,
   "id": "7032bb2d-76f7-4f4d-b3e9-07566b9c0e3d",
   "metadata": {},
   "outputs": [
    {
     "name": "stdout",
     "output_type": "stream",
     "text": [
      "Addition 16\n",
      "substraction 6\n",
      "Division 2.2\n",
      "Multiplication 55\n",
      "Exponent 161051\n",
      "Interger Division 2\n",
      "Modulus Division 1\n"
     ]
    }
   ],
   "source": [
    "first_num = 11\n",
    "second_num = 5 \n",
    "\n",
    "print(\"Addition\",first_num + second_num)\n",
    "print(\"substraction\",first_num - second_num)\n",
    "print(\"Division\",first_num / second_num)\n",
    "print(\"Multiplication\",first_num * second_num)\n",
    "print(\"Exponent\",first_num ** second_num)\n",
    "print(\"Interger Division\",first_num // second_num)\n",
    "print(\"Modulus Division\",first_num % second_num)\n",
    "\n",
    "\n",
    "\n",
    "\n"
   ]
  },
  {
   "cell_type": "markdown",
   "id": "081dbbf2-c07d-4112-bd41-539fb6572b5d",
   "metadata": {},
   "source": [
    "# PEMDAS\n",
    "\n",
    "### P - Parenthesis\n",
    "### E - Exponent\n",
    "### M - Multiplication\n",
    "### D - Division\n",
    "### A - Addition\n",
    "### S - Substraction"
   ]
  },
  {
   "cell_type": "code",
   "execution_count": 74,
   "id": "5cee25b1-6cbc-4ef4-92c5-0d0bb9ab962b",
   "metadata": {},
   "outputs": [
    {
     "data": {
      "text/plain": [
       "6.999744"
      ]
     },
     "execution_count": 74,
     "metadata": {},
     "output_type": "execute_result"
    }
   ],
   "source": [
    "x = 1 + 2 * 3 - 4 / 5 ** 6\n",
    "x"
   ]
  },
  {
   "cell_type": "code",
   "execution_count": 64,
   "id": "cd08f40d-c0c0-40dc-bdad-16c3652b9935",
   "metadata": {},
   "outputs": [
    {
     "data": {
      "text/plain": [
       "15625"
      ]
     },
     "execution_count": 64,
     "metadata": {},
     "output_type": "execute_result"
    }
   ],
   "source": [
    "5 ** 6"
   ]
  },
  {
   "cell_type": "code",
   "execution_count": 66,
   "id": "a8873e2f-4881-4037-a985-0709c70a798e",
   "metadata": {},
   "outputs": [
    {
     "data": {
      "text/plain": [
       "6"
      ]
     },
     "execution_count": 66,
     "metadata": {},
     "output_type": "execute_result"
    }
   ],
   "source": [
    "2 * 3"
   ]
  },
  {
   "cell_type": "code",
   "execution_count": 68,
   "id": "c099bcd4-590a-463d-9ba2-1b9163de4a78",
   "metadata": {},
   "outputs": [
    {
     "data": {
      "text/plain": [
       "0.000256"
      ]
     },
     "execution_count": 68,
     "metadata": {},
     "output_type": "execute_result"
    }
   ],
   "source": [
    "4 / 15625"
   ]
  },
  {
   "cell_type": "code",
   "execution_count": 70,
   "id": "f73264f1-fa1c-4282-a51f-abb32c6f9f26",
   "metadata": {},
   "outputs": [
    {
     "data": {
      "text/plain": [
       "7"
      ]
     },
     "execution_count": 70,
     "metadata": {},
     "output_type": "execute_result"
    }
   ],
   "source": [
    "1 + 6"
   ]
  },
  {
   "cell_type": "code",
   "execution_count": 72,
   "id": "e1085884-18f4-4182-aade-233b0a67d881",
   "metadata": {},
   "outputs": [
    {
     "data": {
      "text/plain": [
       "6.999744"
      ]
     },
     "execution_count": 72,
     "metadata": {},
     "output_type": "execute_result"
    }
   ],
   "source": [
    "7 - 0.000256"
   ]
  },
  {
   "cell_type": "code",
   "execution_count": null,
   "id": "08ecd878-9291-47e0-92b2-74cf0c4658a7",
   "metadata": {},
   "outputs": [],
   "source": [
    "# String Concatenation\n"
   ]
  },
  {
   "cell_type": "code",
   "execution_count": 84,
   "id": "3f089984-49f6-470a-8918-3b5f75311531",
   "metadata": {},
   "outputs": [
    {
     "name": "stdout",
     "output_type": "stream",
     "text": [
      "<class 'str'>\n",
      "11\n",
      "<class 'int'>\n",
      "True\n",
      "<class 'bool'>\n",
      "(11+0j)\n",
      "<class 'complex'>\n"
     ]
    }
   ],
   "source": [
    "# Type Conversion\n",
    "str_num = \"11\"\n",
    "print(type(str_num))\n",
    "int_num = int(str_num)\n",
    "print(int_num)\n",
    "print(type(int_num))\n",
    "bool_num = bool(str_num)\n",
    "print(bool_num)\n",
    "print(type(bool_num))\n",
    "com_num = complex(str_num)\n",
    "print(com_num)\n",
    "print(type(com_num))"
   ]
  },
  {
   "cell_type": "code",
   "execution_count": 90,
   "id": "5e9ab583-63ab-47dc-90e6-24278567844d",
   "metadata": {},
   "outputs": [
    {
     "name": "stdout",
     "output_type": "stream",
     "text": [
      "11\n",
      "<class 'int'>\n",
      "11\n",
      "<class 'str'>\n",
      "11.0\n",
      "<class 'float'>\n",
      "(11+0j)\n",
      "<class 'complex'>\n"
     ]
    }
   ],
   "source": [
    "int_num = 11\n",
    "print(int_num)\n",
    "print(type(int_num))\n",
    "str_num = str(int_num)\n",
    "print(str_num)\n",
    "print(type(str_num))\n",
    "float_num = float(int_num)\n",
    "print(float_num)\n",
    "print(type(float_num))\n",
    "bool_num = complex(int_num)\n",
    "print(bool_num)\n",
    "com_num= complex(float_num)\n",
    "print(type(com_num))"
   ]
  },
  {
   "cell_type": "code",
   "execution_count": 124,
   "id": "ee9250f3-367a-4944-8b82-71d3a4d9044e",
   "metadata": {},
   "outputs": [
    {
     "ename": "SyntaxError",
     "evalue": "invalid syntax (1586917938.py, line 9)",
     "output_type": "error",
     "traceback": [
      "\u001b[0;36m  Cell \u001b[0;32mIn[124], line 9\u001b[0;36m\u001b[0m\n\u001b[0;31m    print(f\"My name is {name} and I am {age} years old. Are you a student? {is_student}\").\u001b[0m\n\u001b[0m                                                                                          ^\u001b[0m\n\u001b[0;31mSyntaxError\u001b[0m\u001b[0;31m:\u001b[0m invalid syntax\n"
     ]
    }
   ],
   "source": [
    "# string concatenation\n",
    "name = \"Mike\"\n",
    "age = 30 \n",
    "is_student = False \n",
    "\n",
    "print(\"My name is\",name,\"and I am\",age,\"years old.Are you a stdent?\",is_student,\".\")\n",
    "print(\"My name is \" + name + \" and I am \" + str(age) + \" years old. Are you a student? \" + str(is_student) + \".\")\n",
    "print(\"My name is {} and I am {} years old.Are you a student? {}.\".format(name,age,is_student))\n",
    "print(f\"My name is {name} and I am {age} years old. Are you a student? {is_student}\").\n"
   ]
  },
  {
   "cell_type": "code",
   "execution_count": 126,
   "id": "e4579243-b2f7-4205-87e0-09eabc52bd44",
   "metadata": {},
   "outputs": [
    {
     "name": "stdin",
     "output_type": "stream",
     "text": [
      "Enter Your Student ID:  s5673\n"
     ]
    }
   ],
   "source": [
    "Student_id = input(\"Enter Your Student ID: \")"
   ]
  },
  {
   "cell_type": "code",
   "execution_count": 134,
   "id": "caa45f78-9b39-4f3a-ad04-d084cbc50881",
   "metadata": {},
   "outputs": [
    {
     "name": "stdin",
     "output_type": "stream",
     "text": [
      "Enter Your Student ID:  s\n",
      "Enter Your first_name:  s\n",
      "Enter Your last_name:  ss\n",
      "Enter Your Gender:  s\n",
      "Enter Your Mobile Number:  s\n",
      "Enter Your Email Address:  s\n",
      "Enter Your Exam Score:  s\n"
     ]
    },
    {
     "name": "stdout",
     "output_type": "stream",
     "text": [
      "\n",
      "Student Info App\n",
      "---------------\n",
      "Student ID: s\n",
      "First Name: s\n",
      "Last Name: ss\n",
      "Gender: s\n",
      "Email Address: s\n",
      "Exam Score: s\n"
     ]
    }
   ],
   "source": [
    "student_id =  input(\"Enter Your Student ID: \")\n",
    "first_name =  input(\"Enter Your first_name: \")\n",
    "last_name =  input(\"Enter Your last_name: \")\n",
    "gender =  input(\"Enter Your Gender: \")\n",
    "mobile =  input(\"Enter Your Mobile Number: \")\n",
    "email =  input(\"Enter Your Email Address: \")\n",
    "score =  input(\"Enter Your Exam Score: \")\n",
    "\n",
    "print()\n",
    "print(\"Student Info App\")\n",
    "print(\"-\" * 15)\n",
    "print(\"Student ID:\",student_id)\n",
    "print(\"First Name:\",first_name)\n",
    "print(\"Last Name:\",last_name)\n",
    "print(\"Gender:\",gender)\n",
    "print(\"Email Address:\",email)\n",
    "print(\"Exam Score:\", score)"
   ]
  },
  {
   "cell_type": "code",
   "execution_count": null,
   "id": "682ded2e-5326-4a4e-9dd2-def7602f8539",
   "metadata": {},
   "outputs": [],
   "source": []
  }
 ],
 "metadata": {
  "kernelspec": {
   "display_name": "Python 3 (ipykernel)",
   "language": "python",
   "name": "python3"
  },
  "language_info": {
   "codemirror_mode": {
    "name": "ipython",
    "version": 3
   },
   "file_extension": ".py",
   "mimetype": "text/x-python",
   "name": "python",
   "nbconvert_exporter": "python",
   "pygments_lexer": "ipython3",
   "version": "3.12.4"
  }
 },
 "nbformat": 4,
 "nbformat_minor": 5
}
