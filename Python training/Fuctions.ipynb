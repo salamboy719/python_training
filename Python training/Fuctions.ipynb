{
 "cells": [
  {
   "cell_type": "code",
   "execution_count": 8,
   "id": "6d4b1471-e831-423a-93a3-baee19fdaa20",
   "metadata": {},
   "outputs": [
    {
     "name": "stdin",
     "output_type": "stream",
     "text": [
      "Enter Your Name Salam\n"
     ]
    },
    {
     "name": "stdout",
     "output_type": "stream",
     "text": [
      "Welcome Salam!\n"
     ]
    }
   ],
   "source": [
    "def greeting():  # Function without parameters\n",
    "    name = input(\"Enter Your Name\")\n",
    "    print(f\"Welcome {name}!\")\n",
    "\n",
    "greeting() # invoking or calling a function"
   ]
  },
  {
   "cell_type": "code",
   "execution_count": 12,
   "id": "a1d9d588-4a41-4c71-8bb3-ef9ec57b15d8",
   "metadata": {},
   "outputs": [
    {
     "name": "stdout",
     "output_type": "stream",
     "text": [
      "Welcome Mike!\n"
     ]
    }
   ],
   "source": [
    "# Function with one parameter\n",
    "# parameters are variables created inside the parenthesis of a function\n",
    "# Areguments are the values paased to the parameters when calling the fuction\n",
    "\n",
    "def greeting(name):  # name is a parameter\n",
    "    print(f\"Welcome {name}!\")\n",
    "\n",
    "greeting(\"Mike\") # Mike is an argument"
   ]
  },
  {
   "cell_type": "code",
   "execution_count": 14,
   "id": "604d484a-73b1-4170-ae06-0bd780f6453a",
   "metadata": {},
   "outputs": [
    {
     "name": "stdout",
     "output_type": "stream",
     "text": [
      "Welcome Salam. Your age is 30 and you are a Male!\n"
     ]
    }
   ],
   "source": [
    "# Function with multiple parameter\n",
    "# parameters are variables created inside the parenthesis of a function\n",
    "# Areguments are the values paased to the parameters when calling the fuction\n",
    "\n",
    "def greeting(name,age,gender):\n",
    "    print(f\"Welcome {name}. Your age is {age} and you are a {gender}!\")\n",
    "\n",
    "greeting(\"Salam\",30,\"Male\")\n"
   ]
  },
  {
   "cell_type": "markdown",
   "id": "1edd9c23-27ec-4f51-8292-5718664198c8",
   "metadata": {},
   "source": [
    "# Types of Arguments\n",
    "### Positional arguments\n",
    "### Default arguments\n",
    "### Keyword arguments\n",
    "### Arbituary arguments"
   ]
  },
  {
   "cell_type": "code",
   "execution_count": 16,
   "id": "17544468-5e16-48db-96ac-fa3d66f76757",
   "metadata": {},
   "outputs": [
    {
     "name": "stdout",
     "output_type": "stream",
     "text": [
      "Welcome Salam. Your age is 30 and you are a Male!\n"
     ]
    }
   ],
   "source": [
    "# Positionsal Argument\n",
    "def greeting(name,age,gender):\n",
    "    print(f\"Welcome {name}. Your age is {age} and you are a {gender}!\")\n",
    "\n",
    "greeting(\"Salam\",30,\"Male\")"
   ]
  },
  {
   "cell_type": "code",
   "execution_count": 24,
   "id": "145a2f54-7f7c-4d4f-a18b-cb601bb20a58",
   "metadata": {},
   "outputs": [
    {
     "name": "stdout",
     "output_type": "stream",
     "text": [
      "Welcome Salam. Your age is 30 and you are a Male!\n"
     ]
    }
   ],
   "source": [
    "# Default Argument\n",
    "def greeting(name,age,gender=\"Male\"):\n",
    "    print(f\"Welcome {name}. Your age is {age} and you are a {gender}!\")\n",
    "\n",
    "greeting(\"Salam\",30)"
   ]
  },
  {
   "cell_type": "code",
   "execution_count": 60,
   "id": "abf87e42-94ee-46e6-a67d-3a4f89d87716",
   "metadata": {},
   "outputs": [
    {
     "name": "stdout",
     "output_type": "stream",
     "text": [
      "Welcome Salam. Your age is 30 and you are a female!\n"
     ]
    }
   ],
   "source": [
    "# Positional argument must always come first before ay default or keyword argument \n",
    "def greeting(age,gender,name=\"Salam\"):\n",
    "    print(f\"Welcome {name}. Your age is {age} and you are a {gender}!\")\n",
    "\n",
    "greeting(30,\"female\",\"Salam\")"
   ]
  },
  {
   "cell_type": "code",
   "execution_count": 26,
   "id": "4e43fb10-a581-402b-871c-5915ccb599e5",
   "metadata": {},
   "outputs": [
    {
     "name": "stdout",
     "output_type": "stream",
     "text": [
      "Welcome Salam. Your age is 30 and you are a female!\n"
     ]
    }
   ],
   "source": [
    "def greeting(name,age,gender):\n",
    "    print(f\"Welcome {name}. Your age is {age} and you are a {gender}!\")\n",
    "greeting(\"Salam\",30,\"female\")"
   ]
  },
  {
   "cell_type": "code",
   "execution_count": 36,
   "id": "c57a2f33-7483-45e2-8bdc-01f1fe64d94f",
   "metadata": {},
   "outputs": [
    {
     "name": "stdout",
     "output_type": "stream",
     "text": [
      "Welcome Salam. Your age is 30 and you are a female!\n"
     ]
    }
   ],
   "source": [
    "# Keyword Argument \n",
    "\n",
    "def greeting(name,age,gender):\n",
    "    print(f\"Welcome {name}. Your age is {age} and you are a {gender}!\")\n",
    "greeting(name=\"Salam\",age=30,gender=\"female\")"
   ]
  },
  {
   "cell_type": "code",
   "execution_count": 62,
   "id": "10a22740-7c31-43e5-9c49-33646ea1c70e",
   "metadata": {},
   "outputs": [
    {
     "ename": "SyntaxError",
     "evalue": "positional argument follows keyword argument (2953216598.py, line 3)",
     "output_type": "error",
     "traceback": [
      "\u001b[0;36m  Cell \u001b[0;32mIn[62], line 3\u001b[0;36m\u001b[0m\n\u001b[0;31m    greeting(name=\"Salam\",30,gender=\"female\")\u001b[0m\n\u001b[0m                                            ^\u001b[0m\n\u001b[0;31mSyntaxError\u001b[0m\u001b[0;31m:\u001b[0m positional argument follows keyword argument\n"
     ]
    }
   ],
   "source": [
    "def greeting(name,age,gender): # Error code\n",
    "    print(f\"Welcome {name}. Your age is {age} and you are a {gender}!\")\n",
    "greeting(name=\"Salam\",30,gender=\"female\")"
   ]
  },
  {
   "cell_type": "code",
   "execution_count": 44,
   "id": "6ea25631-6c77-47af-ae6e-096e8c27439c",
   "metadata": {},
   "outputs": [],
   "source": [
    "# Functions that returns a value / Fruitful function\n",
    "def greeting(name):\n",
    "    return f\"Welcome {name}!\"\n"
   ]
  },
  {
   "cell_type": "code",
   "execution_count": 46,
   "id": "9233490e-43ef-4215-ba4f-5e739a4a7c13",
   "metadata": {},
   "outputs": [
    {
     "data": {
      "text/plain": [
       "'Welcome Salam!'"
      ]
     },
     "execution_count": 46,
     "metadata": {},
     "output_type": "execute_result"
    }
   ],
   "source": [
    "greeting(\"Salam\")"
   ]
  },
  {
   "cell_type": "code",
   "execution_count": 50,
   "id": "6e60cd06-acea-4172-ad37-cd4bb8981858",
   "metadata": {},
   "outputs": [
    {
     "data": {
      "text/plain": [
       "('salam', 30, 'Male')"
      ]
     },
     "execution_count": 50,
     "metadata": {},
     "output_type": "execute_result"
    }
   ],
   "source": [
    "# Functions with multiple argument and multiple return values using tuples\n",
    "def greeting(name,age,gender):\n",
    "    return name, age, gender\n",
    "\n",
    "greeting(age=30,name=\"salam\",gender=\"Male\")"
   ]
  },
  {
   "cell_type": "code",
   "execution_count": 52,
   "id": "ebcb33f0-1dde-40fc-913b-0859eb496d6b",
   "metadata": {},
   "outputs": [
    {
     "name": "stdout",
     "output_type": "stream",
     "text": [
      "8\n"
     ]
    }
   ],
   "source": [
    "# lambda functions\n",
    "sum = lambda  num1, num2: num1 + num2 \n",
    "print(sum(3,5))"
   ]
  },
  {
   "cell_type": "code",
   "execution_count": 56,
   "id": "6bd09322-91ec-459c-8a90-e07a624892e0",
   "metadata": {},
   "outputs": [
    {
     "name": "stdout",
     "output_type": "stream",
     "text": [
      "Welcome Salam. Your age is 30 and you are a Male!\n"
     ]
    }
   ],
   "source": [
    "greeting = lambda name,age,gender: f\"Welcome {name}. Your age is {age} and you are a {gender}!\"\n",
    "print (greeting(\"Salam\",30,\"Male\"))"
   ]
  },
  {
   "cell_type": "code",
   "execution_count": 12,
   "id": "6a55fef1-1a69-4365-92c7-9ae036a000e9",
   "metadata": {},
   "outputs": [],
   "source": [
    "def add_nums(num1, num2):\n",
    "    \"\"\"\"\n",
    "    Returns the sum of two numbers\n",
    "    \"\"\"\n",
    "    return num1 + num2"
   ]
  },
  {
   "cell_type": "code",
   "execution_count": 14,
   "id": "81c4a1ff-657c-4091-acf4-02d4a456ae4f",
   "metadata": {},
   "outputs": [
    {
     "name": "stdout",
     "output_type": "stream",
     "text": [
      "\"\n",
      "    Returns the sum of two numbers\n",
      "    \n"
     ]
    }
   ],
   "source": [
    "print(add_nums.__doc__)"
   ]
  },
  {
   "cell_type": "markdown",
   "id": "d6ef71dc-771d-426e-bbf1-0aad719aa86f",
   "metadata": {},
   "source": [
    "# Tenary Operator\n",
    "\n",
    "age = int(input(\"Enter your age\"))\n",
    "print(\"You are eligible to vote!\") if age >= 18 else print(\"You are not unable to vote!\")"
   ]
  },
  {
   "cell_type": "code",
   "execution_count": 38,
   "id": "45e5f69d-0f85-4b80-ac0e-32c79b4fe0a2",
   "metadata": {},
   "outputs": [],
   "source": [
    "# Arbitartry Argument\n",
    "def greeting(*args):\n",
    "    print(f\"Welcome {args[0]}. Your age is {args[1]} and you are a {args[2]}! I am a {args[3]} from {args[4]}.\")\n"
   ]
  },
  {
   "cell_type": "code",
   "execution_count": 40,
   "id": "8674bc11-3486-4f34-ad06-919ce7cce4cb",
   "metadata": {},
   "outputs": [
    {
     "name": "stdout",
     "output_type": "stream",
     "text": [
      "Welcome Mike. Your age is 30 and you are a Male! I am a Tutor from Nigeria.\n"
     ]
    }
   ],
   "source": [
    "greeting(\"Mike\",30,\"Male\",\"Tutor\",\"Nigeria\")"
   ]
  },
  {
   "cell_type": "code",
   "execution_count": 48,
   "id": "30a4e22e-91ac-40de-8792-24deedd1d318",
   "metadata": {},
   "outputs": [],
   "source": [
    "# ArbitratKeyword arguments\n",
    "def greeting(**kwargs):\n",
    "    print(f\"Welcome {kwargs[\"name\"]}. Your age is {kwargs[\"age\"]} and you are a {kwargs[\"gender\"]}!\")\n"
   ]
  },
  {
   "cell_type": "code",
   "execution_count": 54,
   "id": "d859aec8-8465-4018-a2c4-3f17ffba1f11",
   "metadata": {},
   "outputs": [
    {
     "name": "stdout",
     "output_type": "stream",
     "text": [
      "Welcome Mike. Your age is 30 and you are a Male!\n"
     ]
    }
   ],
   "source": [
    "greeting(name=\"Mike\",age=30,gender=\"Male\")"
   ]
  },
  {
   "cell_type": "code",
   "execution_count": null,
   "id": "930a00d4-689d-4bb0-a104-8f33b9a2950d",
   "metadata": {},
   "outputs": [],
   "source": []
  }
 ],
 "metadata": {
  "kernelspec": {
   "display_name": "Python 3 (ipykernel)",
   "language": "python",
   "name": "python3"
  },
  "language_info": {
   "codemirror_mode": {
    "name": "ipython",
    "version": 3
   },
   "file_extension": ".py",
   "mimetype": "text/x-python",
   "name": "python",
   "nbconvert_exporter": "python",
   "pygments_lexer": "ipython3",
   "version": "3.12.4"
  }
 },
 "nbformat": 4,
 "nbformat_minor": 5
}
