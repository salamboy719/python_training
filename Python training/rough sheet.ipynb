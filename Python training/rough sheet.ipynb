{
 "cells": [
  {
   "cell_type": "code",
   "execution_count": 29,
   "id": "f0093a47-c3c7-4e01-b716-d7f5a9026e19",
   "metadata": {},
   "outputs": [
    {
     "name": "stdout",
     "output_type": "stream",
     "text": [
      "python\n",
      "1004\n",
      "75.2\n",
      "89\n",
      "22\n",
      "337.2j\n"
     ]
    }
   ],
   "source": [
    "course = \"python\"\n",
    "number_of_student = 1004\n",
    "average_score = 75.2\n",
    "highest_score = 89\n",
    "lowest_score = 22\n",
    "comp = 337.2j\n",
    "mass_failure = \"false\"\n",
    "\n",
    "print(course)\n",
    "print(number_of_student)\n",
    "print(average_score)\n",
    "print(highest_score)\n",
    "print(lowest_score)\n",
    "print(comp)"
   ]
  },
  {
   "cell_type": "code",
   "execution_count": 48,
   "id": "86a96d33-c600-4985-a945-1db19c86e7e7",
   "metadata": {},
   "outputs": [
    {
     "name": "stdout",
     "output_type": "stream",
     "text": [
      "<class 'str'>\n",
      "<class 'int'>\n",
      "<class 'float'>\n",
      "<class 'int'>\n",
      "<class 'int'>\n",
      "<class 'complex'>\n",
      "<class 'str'>\n"
     ]
    }
   ],
   "source": [
    "print(type(course))\n",
    "print(type(number_of_student))\n",
    "print(type(average_score))\n",
    "print(type(highest_score))\n",
    "print(type(lowest_score))\n",
    "print(type(comp))\n",
    "print(type(mass_failure))"
   ]
  },
  {
   "cell_type": "code",
   "execution_count": 58,
   "id": "5e0c0aa1-eb88-4c13-9582-5e3a2fa8347d",
   "metadata": {},
   "outputs": [
    {
     "name": "stdout",
     "output_type": "stream",
     "text": [
      "chelsea\n",
      "Palmer\n",
      "30\n",
      "0.22\n",
      "True\n",
      "20\n"
     ]
    }
   ],
   "source": [
    "football_club = \"chelsea\"\n",
    "mvp = \"Palmer\"\n",
    "jersey_number = 20\n",
    "goals = 30\n",
    "average_goals_per_minute = 0.22\n",
    "best_player = True\n",
    "\n",
    "print(football_club)\n",
    "print(mvp)\n",
    "print(goals)\n",
    "print(average_goals_per_minute)\n",
    "print(best_player)\n",
    "print(jersey_number)"
   ]
  },
  {
   "cell_type": "code",
   "execution_count": 62,
   "id": "1450cb74-e69f-4102-bb6c-39eeba462514",
   "metadata": {},
   "outputs": [
    {
     "name": "stdout",
     "output_type": "stream",
     "text": [
      "<class 'str'>\n",
      "<class 'str'>\n",
      "<class 'int'>\n",
      "<class 'float'>\n",
      "<class 'bool'>\n",
      "<class 'int'>\n"
     ]
    }
   ],
   "source": [
    "print(type(football_club))\n",
    "print(type(mvp))\n",
    "print(type(goals))\n",
    "print(type(average_goals_per_minute))\n",
    "print(type(best_player))\n",
    "print(type(jersey_number))"
   ]
  },
  {
   "cell_type": "code",
   "execution_count": 64,
   "id": "9600da33-5822-477a-84c9-925e2eea53ca",
   "metadata": {},
   "outputs": [
    {
     "name": "stdin",
     "output_type": "stream",
     "text": [
      "What is your name?  Salam\n"
     ]
    },
    {
     "data": {
      "text/plain": [
       "'Salam'"
      ]
     },
     "execution_count": 64,
     "metadata": {},
     "output_type": "execute_result"
    }
   ],
   "source": [
    "input(\"What is your name? \")"
   ]
  },
  {
   "cell_type": "code",
   "execution_count": 66,
   "id": "a2b9225d-ea13-474d-aedf-04ff3cdd9aac",
   "metadata": {},
   "outputs": [
    {
     "name": "stdin",
     "output_type": "stream",
     "text": [
      "What is your name?  Salam\n"
     ]
    },
    {
     "name": "stdout",
     "output_type": "stream",
     "text": [
      "Hello Salam\n"
     ]
    }
   ],
   "source": [
    "name = input(\"What is your name? \")\n",
    "print(\"Hello \" + name)"
   ]
  },
  {
   "cell_type": "code",
   "execution_count": null,
   "id": "42d62165-a32f-4965-abc3-dadff36e1a52",
   "metadata": {},
   "outputs": [],
   "source": [
    "# input function "
   ]
  },
  {
   "cell_type": "raw",
   "id": "f5c50797-3bd1-4e35-a081-8cf03262ad9b",
   "metadata": {},
   "source": [
    "# int functio is used to convert a string into an integer\n",
    "\n",
    "birth_year = input(\"Enter your birth year: \")\n",
    "age = 2024 - int(birth_year)"
   ]
  },
  {
   "cell_type": "code",
   "execution_count": 72,
   "id": "5ed9588c-543a-4f23-9040-0d2320a3f231",
   "metadata": {},
   "outputs": [
    {
     "name": "stdout",
     "output_type": "stream",
     "text": [
      "23\n"
     ]
    }
   ],
   "source": [
    "print(age)"
   ]
  },
  {
   "cell_type": "code",
   "execution_count": null,
   "id": "4938b9c7-91f1-4beb-bc4a-93eb9f48e402",
   "metadata": {},
   "outputs": [],
   "source": [
    "# float\n",
    "# converting a value to a floating point number\n"
   ]
  },
  {
   "cell_type": "code",
   "execution_count": 74,
   "id": "f4d9199f-a9b7-4449-8173-b62337184084",
   "metadata": {},
   "outputs": [
    {
     "name": "stdin",
     "output_type": "stream",
     "text": [
      "what is price?  100 naira\n"
     ]
    }
   ],
   "source": [
    "price = input(\"what is price? \")\n"
   ]
  },
  {
   "cell_type": "code",
   "execution_count": 82,
   "id": "28c4c7d4-4f85-4c06-ba18-40616d8e7730",
   "metadata": {},
   "outputs": [
    {
     "name": "stdout",
     "output_type": "stream",
     "text": [
      "bag of rice is 100 naira\n"
     ]
    }
   ],
   "source": [
    "print(\"bag of rice is \" + price)"
   ]
  },
  {
   "cell_type": "code",
   "execution_count": 86,
   "id": "034de408-3952-4e94-83bc-def53d573d4e",
   "metadata": {},
   "outputs": [
    {
     "name": "stdout",
     "output_type": "stream",
     "text": [
      "<class 'str'>\n"
     ]
    }
   ],
   "source": [
    "print(type(price))"
   ]
  },
  {
   "cell_type": "code",
   "execution_count": 93,
   "id": "ae0429cf-0708-4512-a998-ecf193688ddf",
   "metadata": {},
   "outputs": [
    {
     "ename": "IndentationError",
     "evalue": "expected an indented block after 'else' statement on line 4 (645009469.py, line 5)",
     "output_type": "error",
     "traceback": [
      "\u001b[0;36m  Cell \u001b[0;32mIn[93], line 5\u001b[0;36m\u001b[0m\n\u001b[0;31m    grade = \"fail\"\u001b[0m\n\u001b[0m    ^\u001b[0m\n\u001b[0;31mIndentationError\u001b[0m\u001b[0;31m:\u001b[0m expected an indented block after 'else' statement on line 4\n"
     ]
    }
   ],
   "source": [
    "def pass_fail(avg):\n",
    "    if avg>= 60:\n",
    "        grade = 'pass'\n",
    "    \"else: \n",
    "    grade = \"fail\"\n",
    "    return grade"
   ]
  },
  {
   "cell_type": "code",
   "execution_count": null,
   "id": "d847209f-6fea-4b23-94f5-e8433a0f556b",
   "metadata": {},
   "outputs": [],
   "source": [
    "shool_fees = 14000\n",
    "print(str(school_fees))"
   ]
  },
  {
   "cell_type": "code",
   "execution_count": null,
   "id": "bed5795c-c722-4759-81d0-286600a69075",
   "metadata": {},
   "outputs": [],
   "source": []
  }
 ],
 "metadata": {
  "kernelspec": {
   "display_name": "Python 3 (ipykernel)",
   "language": "python",
   "name": "python3"
  },
  "language_info": {
   "codemirror_mode": {
    "name": "ipython",
    "version": 3
   },
   "file_extension": ".py",
   "mimetype": "text/x-python",
   "name": "python",
   "nbconvert_exporter": "python",
   "pygments_lexer": "ipython3",
   "version": "3.12.4"
  }
 },
 "nbformat": 4,
 "nbformat_minor": 5
}
