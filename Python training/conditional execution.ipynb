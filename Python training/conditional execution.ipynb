{
 "cells": [
  {
   "cell_type": "code",
   "execution_count": 7,
   "id": "4ea4aa79-3571-4ef7-8461-12fe7641bd0e",
   "metadata": {},
   "outputs": [
    {
     "name": "stdin",
     "output_type": "stream",
     "text": [
      "Enter your age 17\n"
     ]
    },
    {
     "name": "stdout",
     "output_type": "stream",
     "text": [
      "You are not eligible to vote\n"
     ]
    }
   ],
   "source": [
    "age = int(input(\"Enter your age\" ))\n",
    "\n",
    "if age >= 18: \n",
    "    print(\"You are eligible to vote\")\n",
    "else:\n",
    "    print(\"You are not eligible to vote\")"
   ]
  },
  {
   "cell_type": "markdown",
   "id": "97877ab1-2651-4e00-9d02-ef6590a2d879",
   "metadata": {},
   "source": [
    "## Comparison Operators\n",
    "### Greater than: >\n",
    "## Greater than or equal to: >=\n",
    "### Less than: <\n",
    "### Less than or equal to: <=\n",
    "## Equal to: ==\n",
    "### Not equal to: !=\n"
   ]
  },
  {
   "cell_type": "code",
   "execution_count": 16,
   "id": "3532c3e7-36de-42e5-b374-47bae43c6216",
   "metadata": {},
   "outputs": [
    {
     "name": "stdout",
     "output_type": "stream",
     "text": [
      "True\n",
      "True\n",
      "False\n",
      "False\n",
      "False\n",
      "True\n"
     ]
    }
   ],
   "source": [
    "num1 = 11\n",
    "num2 = 5\n",
    "\n",
    "print(num1 > num2)\n",
    "print(num1 >= num2)\n",
    "print(num1 < num2)\n",
    "print(num1 <= num2)\n",
    "print(num1 == num2)\n",
    "print(num1 != num2)"
   ]
  },
  {
   "cell_type": "markdown",
   "id": "a4e453a6-4f05-4fe2-893b-82049bbe6b1e",
   "metadata": {},
   "source": [
    "## Logical Operators\n",
    "### and \n",
    "### or\n",
    "### not\n"
   ]
  },
  {
   "cell_type": "code",
   "execution_count": 18,
   "id": "8445c021-5dea-43f5-ac52-be24bee93524",
   "metadata": {},
   "outputs": [
    {
     "name": "stdout",
     "output_type": "stream",
     "text": [
      "True\n",
      "False\n",
      "False\n",
      "True\n",
      "True\n",
      "True\n",
      "False\n",
      "True\n"
     ]
    }
   ],
   "source": [
    "print(True and True)\n",
    "print(True and False)\n",
    "print(False and True)\n",
    "print(True or True)\n",
    "print(True or False)\n",
    "print(False or True)\n",
    "print(not True)\n",
    "print(not False)"
   ]
  },
  {
   "cell_type": "markdown",
   "id": "de0910d0-b18c-46f7-8919-954788a85908",
   "metadata": {},
   "source": [
    "## Membership Operators\n",
    "### in\n",
    "### not in"
   ]
  },
  {
   "cell_type": "code",
   "execution_count": 25,
   "id": "e9cd9286-2ce8-4d50-8486-14b401d85676",
   "metadata": {},
   "outputs": [
    {
     "name": "stdout",
     "output_type": "stream",
     "text": [
      "True\n",
      "False\n",
      "False\n",
      "False\n"
     ]
    }
   ],
   "source": [
    "name = \"Salam\"\n",
    "\n",
    "print(\"a\" in name)\n",
    "print(\"u\" in name)\n",
    "print(\"a\" not in name)\n",
    "print(\"u\" in name)\n"
   ]
  },
  {
   "cell_type": "markdown",
   "id": "46a8c445-8ded-4ede-ba80-745a85d26d23",
   "metadata": {},
   "source": [
    "## Identity Operators\n",
    "### is\n",
    "### is not"
   ]
  },
  {
   "cell_type": "code",
   "execution_count": 21,
   "id": "b3d64d5a-d23d-4438-b28c-ac9328e1c34c",
   "metadata": {},
   "outputs": [
    {
     "name": "stdout",
     "output_type": "stream",
     "text": [
      "True\n",
      "False\n"
     ]
    }
   ],
   "source": [
    "name = \"Salam\"\n",
    "name1 = \"Salam\"\n",
    "\n",
    "print(name is name1)\n",
    "print(name is not name1)"
   ]
  },
  {
   "cell_type": "markdown",
   "id": "c2482327-3d2d-4440-b0c1-a8b5fe2018dc",
   "metadata": {},
   "source": [
    "## Assignment Operators\n",
    "## +=\n",
    "## -=\n",
    "## /=\n",
    "## *=\n",
    "## **=\n",
    "## //=\n",
    "## %="
   ]
  },
  {
   "cell_type": "code",
   "execution_count": 27,
   "id": "356fc6ff-d266-4e4a-88cd-0cecd2d39489",
   "metadata": {},
   "outputs": [
    {
     "name": "stdout",
     "output_type": "stream",
     "text": [
      "5\n"
     ]
    }
   ],
   "source": [
    "num = 11 \n",
    "num =+5\n",
    "print(num)"
   ]
  },
  {
   "cell_type": "code",
   "execution_count": 29,
   "id": "7b8307b5-beb5-47d1-b018-193be07afa97",
   "metadata": {},
   "outputs": [
    {
     "name": "stdout",
     "output_type": "stream",
     "text": [
      "11\n"
     ]
    }
   ],
   "source": [
    "num = 11 \n",
    "num -+5\n",
    "print(num)"
   ]
  },
  {
   "cell_type": "code",
   "execution_count": 31,
   "id": "6cc98a3c-a196-4ab7-8217-54d82d0c0188",
   "metadata": {},
   "outputs": [
    {
     "name": "stdout",
     "output_type": "stream",
     "text": [
      "11\n"
     ]
    }
   ],
   "source": [
    "num = 11 \n",
    "num /+5\n",
    "print(num)"
   ]
  },
  {
   "cell_type": "code",
   "execution_count": 33,
   "id": "1ed6a908-6222-4c46-9d86-87de190cbc9b",
   "metadata": {},
   "outputs": [
    {
     "name": "stdout",
     "output_type": "stream",
     "text": [
      "55\n"
     ]
    }
   ],
   "source": [
    "num = 11 \n",
    "num *=5\n",
    "print(num)"
   ]
  },
  {
   "cell_type": "code",
   "execution_count": 35,
   "id": "ea673e2d-acce-44b1-982e-936f25c883d9",
   "metadata": {},
   "outputs": [
    {
     "name": "stdout",
     "output_type": "stream",
     "text": [
      "161051\n"
     ]
    }
   ],
   "source": [
    "num = 11 \n",
    "num **=5\n",
    "print(num)"
   ]
  },
  {
   "cell_type": "code",
   "execution_count": 37,
   "id": "d3d73ed2-ad6c-44cd-9677-8237f554dff4",
   "metadata": {},
   "outputs": [
    {
     "name": "stdout",
     "output_type": "stream",
     "text": [
      "2\n"
     ]
    }
   ],
   "source": [
    "num = 11 \n",
    "num //= 5\n",
    "print(num)"
   ]
  },
  {
   "cell_type": "code",
   "execution_count": 39,
   "id": "519e2710-6815-4e31-bfbe-11c9a08ff472",
   "metadata": {},
   "outputs": [
    {
     "name": "stdout",
     "output_type": "stream",
     "text": [
      "1\n"
     ]
    }
   ],
   "source": [
    "num = 11 \n",
    "num %=5\n",
    "print(num)"
   ]
  },
  {
   "cell_type": "code",
   "execution_count": 45,
   "id": "03ee6ab5-f7c0-4d47-8c2f-27b6df09eb9b",
   "metadata": {},
   "outputs": [
    {
     "name": "stdout",
     "output_type": "stream",
     "text": [
      "Age is greater than 15\n",
      "Age is less than 20\n",
      "Age is equal to 18\n"
     ]
    }
   ],
   "source": [
    "# Multiple ifs \n",
    "age = 18\n",
    "\n",
    "if age > 15:\n",
    "    print(\"Age is greater than 15\")\n",
    "if age < 20:\n",
    "    print(\"Age is less than 20\")\n",
    "if age == 18:\n",
    "    print(\"Age is equal to 18\")\n"
   ]
  },
  {
   "cell_type": "code",
   "execution_count": null,
   "id": "8ee0bbb5-8802-4046-8726-6b3f67bf3d50",
   "metadata": {},
   "outputs": [],
   "source": [
    "# Simple if-else statements\n",
    "\n",
    "age = int(input(\"Enter your age\" ))\n",
    "\n",
    "if age >= 18: \n",
    "    print(\"You are eligible to vote\")\n",
    "else:\n",
    "    print(\"You are not eligible to vote\")#"
   ]
  },
  {
   "cell_type": "code",
   "execution_count": 47,
   "id": "7098cb9a-b226-4082-9172-626e502ea45a",
   "metadata": {},
   "outputs": [
    {
     "name": "stdin",
     "output_type": "stream",
     "text": [
      "Enter your age:  18\n",
      "Enter your Country:  Nigeria\n"
     ]
    },
    {
     "name": "stdout",
     "output_type": "stream",
     "text": [
      "You are eligible to vote!\n"
     ]
    }
   ],
   "source": [
    "# Nested if-else Statement\n",
    "age = int(input(\"Enter your age: \"))\n",
    "country = input(\"Enter your Country: \")\n",
    "\n",
    "if age>= 18:\n",
    "    if country == \"Nigeria\":\n",
    "            print(\"You are eligible to vote!\")\n",
    "    else:\n",
    "        print(\"You are not eligible to vote!\")\n",
    "\n"
   ]
  },
  {
   "cell_type": "code",
   "execution_count": 49,
   "id": "3ace0af8-9a12-4fdc-8fe5-ad4ffe07ed8c",
   "metadata": {},
   "outputs": [
    {
     "name": "stdin",
     "output_type": "stream",
     "text": [
      "Enter your age:  22\n",
      "Enter your Country:  Mexico\n"
     ]
    },
    {
     "name": "stdout",
     "output_type": "stream",
     "text": [
      "You are not eligible to vote!\n"
     ]
    }
   ],
   "source": [
    "# if-else statement with and logical operator\n",
    "age = int(input(\"Enter your age: \"))\n",
    "country = input(\"Enter your Country: \")\n",
    "\n",
    "if age>= 18 and country == \"Nigeria\":\n",
    "            print(\"You are eligible to vote!\")\n",
    "else:\n",
    "     print(\"You are not eligible to vote!\")\n",
    "    \n"
   ]
  },
  {
   "cell_type": "code",
   "execution_count": 57,
   "id": "41980d05-6981-4a45-824b-243c90c37f30",
   "metadata": {},
   "outputs": [
    {
     "name": "stdin",
     "output_type": "stream",
     "text": [
      "Enter your score 13\n"
     ]
    },
    {
     "name": "stdout",
     "output_type": "stream",
     "text": [
      "Grade: F\n"
     ]
    }
   ],
   "source": [
    "# if-elif-else statement\n",
    "# Adopting this\n",
    "score = float(input(\"Enter your score\"))\n",
    "\n",
    "if score >= 0 and score < 40:\n",
    "    print(\"Grade: F\")\n",
    "elif score >= 40 and score < 45:\n",
    "    print(\"Grade: E\")\n",
    "elif score >= 45 and score < 50:\n",
    "    print(\"Grade: D\")\n",
    "elif score >= 50 and score < 60:\n",
    "    print(\"Grade: C\")\n",
    "elif score >= 60 and score < 70:\n",
    "    print(\"Grade: B\")\n",
    "elif score >= 70 and score <= 100:\n",
    "    print(\"Grade: A\")\n",
    "else:\n",
    "    print(\"Invalid Score!\")"
   ]
  },
  {
   "cell_type": "code",
   "execution_count": 67,
   "id": "544441cc-19a0-45ce-af1a-fff30cc1592e",
   "metadata": {},
   "outputs": [
    {
     "name": "stdin",
     "output_type": "stream",
     "text": [
      "Enter your score 45\n"
     ]
    },
    {
     "name": "stdout",
     "output_type": "stream",
     "text": [
      "Grade: D\n"
     ]
    }
   ],
   "source": [
    "score = float(input(\"Enter your score\"))\n",
    "if 0 <= score and score < 40:\n",
    "    print(\"Grade: F\")\n",
    "elif 40 <= score and score < 45:\n",
    "    print(\"Grade: E\")\n",
    "elif 45 <= score and score < 50:\n",
    "    print(\"Grade: D\")\n",
    "elif 50 <= score and score < 60:\n",
    "    print(\"Grade: C\")\n",
    "elif 50 <= score and score < 70:\n",
    "    print(\"Grade: B\")\n",
    "elif 70 <= score and score <= 100:\n",
    "    print(\"Grade: A\")\n",
    "else:\n",
    "    print(\"Invalid Score!\")"
   ]
  },
  {
   "cell_type": "code",
   "execution_count": 72,
   "id": "cc9aa4f7-8dba-48af-88f1-188409fb579b",
   "metadata": {},
   "outputs": [
    {
     "name": "stdin",
     "output_type": "stream",
     "text": [
      "Enter your score b\n"
     ]
    },
    {
     "name": "stdout",
     "output_type": "stream",
     "text": [
      "Enter:  could not convert string to float: 'b'\n",
      "Please enter numeric value!\n"
     ]
    }
   ],
   "source": [
    "try:\n",
    "    score = float(input(\"Enter your score\"))\n",
    "    if score >= 0 and score < 40:\n",
    "        print(\"Grade: F\")\n",
    "    elif score >= 40 and score < 45:\n",
    "        print(\"Grade: E\")\n",
    "    elif score >= 45 and score < 50:\n",
    "        print(\"Grade: D\")\n",
    "    elif score >= 50 and score < 60:\n",
    "        print(\"Grade: C\")\n",
    "    elif score >= 60 and score < 70:\n",
    "        print(\"Grade: B\")\n",
    "    elif score >= 70 and score <= 100:\n",
    "        print(\"Grade: A\")\n",
    "    else:\n",
    "        print(\"Invalid Score!\")\n",
    "except ValueError as e:\n",
    "    print(\"Enter: \",e)\n",
    "    print(\"Please enter numeric value!\")"
   ]
  },
  {
   "cell_type": "code",
   "execution_count": 85,
   "id": "cb0c5b03-020b-4c89-a18f-9e66cd0a9fce",
   "metadata": {},
   "outputs": [
    {
     "name": "stdout",
     "output_type": "stream",
     "text": [
      "Salam said \"I'm Coming\" is that true?\n",
      "Salam said \"I'm Coming\" is that true? \n",
      "Put it in a new line\n",
      "Salam said \"I'm Coming\" is that true? \t\tTab from here on\n"
     ]
    }
   ],
   "source": [
    "# Excape Characters \n",
    "# Newline - \\n\n",
    "# Tab - \\t\n",
    "\n",
    "print(\"Salam said \\\"I'm Coming\\\" is that true?\")\n",
    "print(\"Salam said \\\"I'm Coming\\\" is that true? \\nPut it in a new line\")\n",
    "print(\"Salam said \\\"I'm Coming\\\" is that true? \\t\\tTab from here on\")"
   ]
  },
  {
   "cell_type": "code",
   "execution_count": 91,
   "id": "c4a12000-0ed8-40dd-995f-2d5cdc9d4dbc",
   "metadata": {},
   "outputs": [
    {
     "name": "stdout",
     "output_type": "stream",
     "text": [
      "-1\n"
     ]
    }
   ],
   "source": [
    "str_name = \"Salam\"\n",
    "try:\n",
    "    int_name = int(str_name)\n",
    "except:\n",
    "    int_name = -1\n",
    "print(int_name)\n"
   ]
  },
  {
   "cell_type": "code",
   "execution_count": 101,
   "id": "228f1713-7f36-452a-a7a7-59ae96b62849",
   "metadata": {},
   "outputs": [
    {
     "name": "stdin",
     "output_type": "stream",
     "text": [
      "Enter your Age  27\n"
     ]
    },
    {
     "name": "stdout",
     "output_type": "stream",
     "text": [
      "You are Eligible to vote\n"
     ]
    }
   ],
   "source": [
    "age = int(input(\"Enter your Age \"))\n",
    "\n",
    "if age >= 18:\n",
    "    print(\"You are Eligible to vote\")\n",
    "else:\n",
    "    print(\"You are not Eligible to vote\")"
   ]
  },
  {
   "cell_type": "code",
   "execution_count": 107,
   "id": "157f28d2-f343-4f28-bd14-696ad2acc16c",
   "metadata": {},
   "outputs": [
    {
     "name": "stdin",
     "output_type": "stream",
     "text": [
      "Enter Your Age 17\n"
     ]
    },
    {
     "name": "stdout",
     "output_type": "stream",
     "text": [
      "You are eligible for Admission\n"
     ]
    }
   ],
   "source": [
    "Age = int(input(\"Enter Your Age\"))\n",
    "\n",
    "if age >+ 18:\n",
    "          print(\"You are eligible for Admission\")\n",
    "else:\n",
    "    print(\"You are not Eligible for Admission?\")"
   ]
  },
  {
   "cell_type": "code",
   "execution_count": 119,
   "id": "ca25e04c-b97b-4467-b72f-e7884aeb2dc3",
   "metadata": {},
   "outputs": [
    {
     "data": {
      "text/plain": [
       "True"
      ]
     },
     "execution_count": 119,
     "metadata": {},
     "output_type": "execute_result"
    }
   ],
   "source": [
    "Salam = 23\n",
    "Moyo = 34\n",
    "\n",
    "Salam != 26\n"
   ]
  },
  {
   "cell_type": "code",
   "execution_count": 129,
   "id": "f7a64110-0ef6-4f1f-b00e-0d566ab95355",
   "metadata": {},
   "outputs": [
    {
     "name": "stdout",
     "output_type": "stream",
     "text": [
      "False\n",
      "True\n"
     ]
    }
   ],
   "source": [
    "name = \"Moyosoreoluwa\"\n",
    "print(\"q\" in name)\n",
    "print(\"a\" in name)"
   ]
  },
  {
   "cell_type": "code",
   "execution_count": 141,
   "id": "5d657344-6bf6-4867-897f-41c20962501d",
   "metadata": {},
   "outputs": [
    {
     "name": "stdout",
     "output_type": "stream",
     "text": [
      "False\n",
      "True\n",
      "False\n"
     ]
    }
   ],
   "source": [
    "name1 = \"Salam\"\n",
    "name2 = \"Moyo\"\n",
    "\n",
    "print(name1 != \"Salam\")\n",
    "print(name1 == \"Salam\")\n",
    "print(name2 != \"Moyo\")"
   ]
  },
  {
   "cell_type": "code",
   "execution_count": 143,
   "id": "fff5cfab-bb40-48b5-ac9b-2375910f9450",
   "metadata": {},
   "outputs": [
    {
     "name": "stderr",
     "output_type": "stream",
     "text": [
      "<>:1: SyntaxWarning: \"is not\" with 'str' literal. Did you mean \"!=\"?\n",
      "<>:1: SyntaxWarning: \"is not\" with 'str' literal. Did you mean \"!=\"?\n",
      "/var/folders/j3/vr_5f0cs2t17sf8fdysxc6b40000gp/T/ipykernel_70153/2146510537.py:1: SyntaxWarning: \"is not\" with 'str' literal. Did you mean \"!=\"?\n",
      "  \"Salam\" is not \"Salam\"\n"
     ]
    },
    {
     "data": {
      "text/plain": [
       "False"
      ]
     },
     "execution_count": 143,
     "metadata": {},
     "output_type": "execute_result"
    }
   ],
   "source": [
    "\"Salam\" is not \"Salam\""
   ]
  },
  {
   "cell_type": "code",
   "execution_count": null,
   "id": "790e594c-bf22-4635-bfab-6deb7eea0956",
   "metadata": {},
   "outputs": [],
   "source": []
  }
 ],
 "metadata": {
  "kernelspec": {
   "display_name": "Python 3 (ipykernel)",
   "language": "python",
   "name": "python3"
  },
  "language_info": {
   "codemirror_mode": {
    "name": "ipython",
    "version": 3
   },
   "file_extension": ".py",
   "mimetype": "text/x-python",
   "name": "python",
   "nbconvert_exporter": "python",
   "pygments_lexer": "ipython3",
   "version": "3.12.4"
  }
 },
 "nbformat": 4,
 "nbformat_minor": 5
}
