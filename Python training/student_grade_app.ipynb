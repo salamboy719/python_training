{
 "cells": [
  {
   "cell_type": "code",
   "execution_count": 10,
   "id": "eb88e7bd-ae08-46f8-a6c6-c6a5cdbc2878",
   "metadata": {},
   "outputs": [
    {
     "name": "stdin",
     "output_type": "stream",
     "text": [
      "Enter Your Student ID:  s'\n",
      "Enter Your first_name:  s\n",
      "Enter Your last_name:  s\n",
      "Enter Your Gender:  s\n",
      "Enter Your Mobile Number:  s\n",
      "Enter Your Email Address:  s\n",
      "Enter your score 76\n"
     ]
    },
    {
     "name": "stdout",
     "output_type": "stream",
     "text": [
      "Grade: A\n",
      "\n",
      "Student Info App\n",
      "---------------\n",
      "Student ID: s'\n",
      "First Name: s\n",
      "Last Name: s\n",
      "Gender: s\n",
      "Email Address: s\n",
      "Exam Score: 76.0\n"
     ]
    }
   ],
   "source": [
    "student_id =  input(\"Enter Your Student ID: \")\n",
    "first_name =  input(\"Enter Your first_name: \")\n",
    "last_name =  input(\"Enter Your last_name: \")\n",
    "gender =  input(\"Enter Your Gender: \")\n",
    "mobile =  input(\"Enter Your Mobile Number: \")\n",
    "email =  input(\"Enter Your Email Address: \")\n",
    "try:\n",
    "    score = float(input(\"Enter your score\"))\n",
    "    if score >= 0 and score < 40:\n",
    "        print(\"Grade: F\")\n",
    "    elif score >= 40 and score < 45:\n",
    "        print(\"Grade: E\")\n",
    "    elif score >= 45 and score < 50:\n",
    "        print(\"Grade: D\")\n",
    "    elif score >= 50 and score < 60:\n",
    "        print(\"Grade: C\")\n",
    "    elif score >= 60 and score < 70:\n",
    "        print(\"Grade: B\")\n",
    "    elif score >= 70 and score <= 100:\n",
    "        print(\"Grade: A\")\n",
    "    else:\n",
    "        print(\"Invalid Score!\")\n",
    "        \n",
    "    print(\"\\nStudent Info App\")   \n",
    "    print(\"-\" * 15)\n",
    "    print(\"Student ID:\",student_id)\n",
    "    print(\"First Name:\",first_name)\n",
    "    print(\"Last Name:\",last_name)\n",
    "    print(\"Gender:\",gender)\n",
    "    print(\"Email Address:\",email)\n",
    "    print(\"Exam Score:\", score)\n",
    "    \n",
    "except ValueError as e:\n",
    "    print(\"Enter: \",e)\n",
    "    print(\"Please enter numeric value!\") "
   ]
  },
  {
   "cell_type": "code",
   "execution_count": null,
   "id": "4697efa6-708e-4757-84ce-6015b9bce2bf",
   "metadata": {},
   "outputs": [],
   "source": []
  }
 ],
 "metadata": {
  "kernelspec": {
   "display_name": "Python 3 (ipykernel)",
   "language": "python",
   "name": "python3"
  },
  "language_info": {
   "codemirror_mode": {
    "name": "ipython",
    "version": 3
   },
   "file_extension": ".py",
   "mimetype": "text/x-python",
   "name": "python",
   "nbconvert_exporter": "python",
   "pygments_lexer": "ipython3",
   "version": "3.12.4"
  }
 },
 "nbformat": 4,
 "nbformat_minor": 5
}
