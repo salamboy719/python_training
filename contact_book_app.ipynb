{
 "cells": [
  {
   "cell_type": "code",
   "execution_count": null,
   "id": "bb59ea71-be3d-46e1-ad4a-788c56fa5246",
   "metadata": {},
   "outputs": [
    {
     "name": "stdout",
     "output_type": "stream",
     "text": [
      "Contact Book App\n",
      "--------------------\n",
      "Enter 1 to insert contact\n",
      "Enter 2 to read contact\n",
      "Enter 3 to edit contact\n",
      "Enter 4 to delete contact\n",
      "Enter 5 to Exit\n"
     ]
    },
    {
     "name": "stdin",
     "output_type": "stream",
     "text": [
      "\n",
      " Enter your choice:  1\n",
      "Enter contact name:  salam\n",
      "Enter contact number:  09017800344\n",
      "\n",
      " Enter your choice:  3\n",
      "Enter contact name to edit:  mike\n"
     ]
    },
    {
     "name": "stdout",
     "output_type": "stream",
     "text": [
      "Contact does not exist!\n"
     ]
    },
    {
     "name": "stdin",
     "output_type": "stream",
     "text": [
      "\n",
      " Enter your choice:  4\n",
      "Enter contact to delete:  Mike\n"
     ]
    },
    {
     "name": "stdout",
     "output_type": "stream",
     "text": [
      "Contact does not exist!\n"
     ]
    }
   ],
   "source": [
    "contacts = {}\n",
    "\n",
    "def insert_contact():\n",
    "    name = input(\"Enter contact name: \").strip().title()\n",
    "\n",
    "    while True:\n",
    "        number = input(\"Enter contact number: \")\n",
    "\n",
    "        if number.isdigit() and len(number) == 11:\n",
    "            contacts[name] = number \n",
    "            break\n",
    "        else:\n",
    "            print(\"Invalid Phone Number\")\n",
    "        \n",
    "def read_contacts():\n",
    "\n",
    "    for name, number in contacts.items():\n",
    "        print(f\"{name}: {number}\")\n",
    "\n",
    "def update_contact():\n",
    "    name = input(\"Enter contact name to edit: \").strip().title()\n",
    "\n",
    "    if name in contacts:\n",
    "        new_number = input(\"Update Contact number: \")\n",
    "\n",
    "        if new_number.isdigit() and len(new_number) == 11:\n",
    "            contacts[name] = new_number\n",
    "            print(f\"contact {name} successfully updated!\")\n",
    "        else:\n",
    "            print(\"Invalid Phone Number!\")\n",
    "\n",
    "    else:         \n",
    "        print(\"Contact does not exist!\")\n",
    "\n",
    "def delete_contact():\n",
    "    name = input(\"Enter contact to delete: \").strip().title()\n",
    "\n",
    "    if name in contacts:\n",
    "        del contacts[name]\n",
    "        print(f\"Contact {name} successfully deleted!\")\n",
    "    else:\n",
    "        print(\"Contact does not exist!\")\n",
    "              \n",
    "def main():\n",
    "    print(\"Contact Book App\")\n",
    "    print(\"-\" * 20)\n",
    "    print(\"Enter 1 to insert contact\")\n",
    "    print(\"Enter 2 to read contact\")\n",
    "    print(\"Enter 3 to edit contact\")\n",
    "    print(\"Enter 4 to delete contact\")\n",
    "    print(\"Enter 5 to Exit\")\n",
    "\n",
    "    while True:\n",
    "        try:\n",
    "            choice = int(input(\"\\n Enter your choice: \"))\n",
    "            if choice == 1:\n",
    "                insert_contact()\n",
    "            elif choice == 2:\n",
    "                read_contacts()\n",
    "            elif choice == 3:\n",
    "                update_contact()\n",
    "            elif choice == 4:\n",
    "                delete_contact()\n",
    "            elif choice == 5:\n",
    "                print(\"Exiting....Goodbye!\")\n",
    "                break\n",
    "            else:\n",
    "                print(\"Invalid Input\")\n",
    "        except Exception as error:\n",
    "            print(error)\n",
    "\n",
    "main()"
   ]
  },
  {
   "cell_type": "code",
   "execution_count": null,
   "id": "dc6b3710-d288-4b20-9462-53a04efeebe0",
   "metadata": {},
   "outputs": [],
   "source": [
    "# student grade app for dictionaries"
   ]
  }
 ],
 "metadata": {
  "kernelspec": {
   "display_name": "Python 3 (ipykernel)",
   "language": "python",
   "name": "python3"
  },
  "language_info": {
   "codemirror_mode": {
    "name": "ipython",
    "version": 3
   },
   "file_extension": ".py",
   "mimetype": "text/x-python",
   "name": "python",
   "nbconvert_exporter": "python",
   "pygments_lexer": "ipython3",
   "version": "3.12.4"
  }
 },
 "nbformat": 4,
 "nbformat_minor": 5
}
