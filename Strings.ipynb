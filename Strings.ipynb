{
 "cells": [
  {
   "cell_type": "markdown",
   "id": "9315608a-96ae-436e-a27b-25d9eb8fda65",
   "metadata": {},
   "source": [
    "# Characteristics of a string\n",
    "## A string is immutable\n",
    "## A string is an ordered sequence of characters"
   ]
  },
  {
   "cell_type": "code",
   "execution_count": null,
   "id": "0bff6d86-73ee-4b7c-9127-51d44f8ccbec",
   "metadata": {},
   "outputs": [],
   "source": [
    "name = \"Salam\"\n"
   ]
  },
  {
   "cell_type": "code",
   "execution_count": 4,
   "id": "1da02cf4-5751-4c71-b5db-e9988987ab40",
   "metadata": {},
   "outputs": [
    {
     "ename": "SyntaxError",
     "evalue": "cannot assign to function call here. Maybe you meant '==' instead of '='? (3490056114.py, line 1)",
     "output_type": "error",
     "traceback": [
      "\u001b[0;36m  Cell \u001b[0;32mIn[4], line 1\u001b[0;36m\u001b[0m\n\u001b[0;31m    name(0) = \"s\"\u001b[0m\n\u001b[0m    ^\u001b[0m\n\u001b[0;31mSyntaxError\u001b[0m\u001b[0;31m:\u001b[0m cannot assign to function call here. Maybe you meant '==' instead of '='?\n"
     ]
    }
   ],
   "source": [
    "name(0) = \"s\""
   ]
  },
  {
   "cell_type": "code",
   "execution_count": 6,
   "id": "9abbf2fb-6489-4c75-9242-b9cde72264bd",
   "metadata": {},
   "outputs": [
    {
     "name": "stdout",
     "output_type": "stream",
     "text": [
      "Salam Moyosore\n"
     ]
    }
   ],
   "source": [
    "# String Slicing\n",
    "name = \"Salam Moyosore\"\n",
    "print(name[:])"
   ]
  },
  {
   "cell_type": "code",
   "execution_count": 8,
   "id": "8db22ec5-7abf-4f78-8129-e330ef5113d4",
   "metadata": {},
   "outputs": [
    {
     "name": "stdout",
     "output_type": "stream",
     "text": [
      " Mo\n"
     ]
    }
   ],
   "source": [
    "# String Slicing\n",
    "name = \"Salam Moyosore\"\n",
    "print(name[5:8])"
   ]
  },
  {
   "cell_type": "code",
   "execution_count": 10,
   "id": "4eca5b79-2e03-4c17-b6de-c0b0f6a7fdfb",
   "metadata": {},
   "outputs": [
    {
     "name": "stdout",
     "output_type": "stream",
     "text": [
      "am Moyosore\n"
     ]
    }
   ],
   "source": [
    "# String Slicing # before the column is inclusive and after the column is exclusive\n",
    "name = \"Salam Moyosore\"\n",
    "print(name[3:16])"
   ]
  },
  {
   "cell_type": "code",
   "execution_count": null,
   "id": "043cb909-58bc-490c-8f4c-2a329b9c82c4",
   "metadata": {},
   "outputs": [],
   "source": [
    "# Positive Indexing\n",
    "name = \"Salam Moyosore\"\n",
    "print(name[])"
   ]
  },
  {
   "cell_type": "code",
   "execution_count": null,
   "id": "da31e9ba-e133-4428-a9ce-4fddca83c828",
   "metadata": {},
   "outputs": [],
   "source": []
  },
  {
   "cell_type": "code",
   "execution_count": 12,
   "id": "f0e7d95e-4ee3-459d-b63c-a248902fbf9b",
   "metadata": {},
   "outputs": [
    {
     "name": "stdout",
     "output_type": "stream",
     "text": [
      "S\n",
      "a\n",
      "l\n",
      "a\n",
      "m\n"
     ]
    }
   ],
   "source": [
    "name = \"Salam Moyosore\"\n",
    "for i in name:\n",
    "    if i == \" \":\n",
    "        break\n",
    "    print(i)"
   ]
  },
  {
   "cell_type": "code",
   "execution_count": 14,
   "id": "15f205df-2db6-46c5-9ef6-0e4ca645f74c",
   "metadata": {},
   "outputs": [
    {
     "name": "stdout",
     "output_type": "stream",
     "text": [
      "0 S\n",
      "1 a\n",
      "2 l\n",
      "3 a\n",
      "4 m\n",
      "5  \n",
      "6 M\n",
      "7 o\n",
      "8 y\n",
      "9 o\n",
      "10 s\n",
      "11 o\n",
      "12 r\n",
      "13 e\n"
     ]
    }
   ],
   "source": [
    "name = \"Salam Moyosore\"\n",
    "index = 0 \n",
    "\n",
    "while index < len(name):\n",
    "    letter = name[index]\n",
    "    print(index, letter)\n",
    "    index += 1"
   ]
  },
  {
   "cell_type": "code",
   "execution_count": 16,
   "id": "7d9934e5-9bd2-439e-8b9f-f51426cc0140",
   "metadata": {},
   "outputs": [
    {
     "name": "stdout",
     "output_type": "stream",
     "text": [
      "1 S\n",
      "2 a\n",
      "3 l\n",
      "4 a\n",
      "5 m\n",
      "6  \n",
      "7 M\n",
      "8 o\n",
      "9 y\n",
      "10 o\n",
      "11 s\n",
      "12 o\n",
      "13 r\n",
      "14 e\n"
     ]
    }
   ],
   "source": [
    "name = \"Salam Moyosore\"\n",
    "index = 0 \n",
    "\n",
    "while index < len(name):\n",
    "    letter = name[index]\n",
    "    index += 1\n",
    "    print(index, letter)\n",
    "    "
   ]
  },
  {
   "cell_type": "code",
   "execution_count": 18,
   "id": "38ec4ef6-1071-4ea3-8303-82e071d4b4f1",
   "metadata": {},
   "outputs": [
    {
     "name": "stdout",
     "output_type": "stream",
     "text": [
      "The Zen of Python, by Tim Peters\n",
      "\n",
      "Beautiful is better than ugly.\n",
      "Explicit is better than implicit.\n",
      "Simple is better than complex.\n",
      "Complex is better than complicated.\n",
      "Flat is better than nested.\n",
      "Sparse is better than dense.\n",
      "Readability counts.\n",
      "Special cases aren't special enough to break the rules.\n",
      "Although practicality beats purity.\n",
      "Errors should never pass silently.\n",
      "Unless explicitly silenced.\n",
      "In the face of ambiguity, refuse the temptation to guess.\n",
      "There should be one-- and preferably only one --obvious way to do it.\n",
      "Although that way may not be obvious at first unless you're Dutch.\n",
      "Now is better than never.\n",
      "Although never is often better than *right* now.\n",
      "If the implementation is hard to explain, it's a bad idea.\n",
      "If the implementation is easy to explain, it may be a good idea.\n",
      "Namespaces are one honking great idea -- let's do more of those!\n"
     ]
    }
   ],
   "source": [
    "import this"
   ]
  },
  {
   "cell_type": "code",
   "execution_count": 20,
   "id": "35b82d83-847c-4d87-8219-4eca85e9a467",
   "metadata": {},
   "outputs": [
    {
     "name": "stdout",
     "output_type": "stream",
     "text": [
      "0 : S\n",
      "1 : a\n",
      "2 : l\n",
      "3 : a\n",
      "4 : m\n",
      "5 :  \n",
      "6 : M\n",
      "7 : o\n",
      "8 : y\n",
      "9 : o\n",
      "10 : s\n",
      "11 : o\n",
      "12 : r\n",
      "13 : e\n"
     ]
    }
   ],
   "source": [
    "name = \"Salam Moyosore\"\n",
    "for index, letter in enumerate(name):\n",
    "    print(f\"{index} : {letter}\")"
   ]
  },
  {
   "cell_type": "code",
   "execution_count": 30,
   "id": "008e2622-1997-4c9c-8520-ccacf36b14b0",
   "metadata": {},
   "outputs": [
    {
     "name": "stdout",
     "output_type": "stream",
     "text": [
      "e : 1\n"
     ]
    }
   ],
   "source": [
    "name = \"Salam Moyosore\"\n",
    "count = 0\n",
    "for letter in name:\n",
    "    if letter == \"r\":\n",
    "        count += 1\n",
    "print(f\"{letter} : {count}\")"
   ]
  },
  {
   "cell_type": "code",
   "execution_count": 36,
   "id": "a70e9ac4-b144-4bbf-b639-2aac5b876e07",
   "metadata": {},
   "outputs": [
    {
     "data": {
      "text/plain": [
       "'Salam moyosore'"
      ]
     },
     "execution_count": 36,
     "metadata": {},
     "output_type": "execute_result"
    }
   ],
   "source": [
    "name = \"salam moyosore\"\n",
    "name.capitalize()"
   ]
  },
  {
   "cell_type": "code",
   "execution_count": 38,
   "id": "e8e81550-eead-466d-a722-da9d76fe244e",
   "metadata": {},
   "outputs": [
    {
     "data": {
      "text/plain": [
       "1"
      ]
     },
     "execution_count": 38,
     "metadata": {},
     "output_type": "execute_result"
    }
   ],
   "source": [
    "name.count(\"e\")"
   ]
  },
  {
   "cell_type": "code",
   "execution_count": 40,
   "id": "b27f0bd0-6671-4142-962c-f0e9fb1126bb",
   "metadata": {},
   "outputs": [
    {
     "data": {
      "text/plain": [
       "'Salam Moyosore'"
      ]
     },
     "execution_count": 40,
     "metadata": {},
     "output_type": "execute_result"
    }
   ],
   "source": [
    "name.title()"
   ]
  },
  {
   "cell_type": "code",
   "execution_count": 44,
   "id": "fac3d5ec-9b37-4ef9-a565-c9c6f433069f",
   "metadata": {},
   "outputs": [
    {
     "data": {
      "text/plain": [
       "'SALAM MOYOSORE'"
      ]
     },
     "execution_count": 44,
     "metadata": {},
     "output_type": "execute_result"
    }
   ],
   "source": [
    "name.upper()"
   ]
  },
  {
   "cell_type": "code",
   "execution_count": 54,
   "id": "a757310c-ec2e-44f6-95d3-784dc3040edb",
   "metadata": {},
   "outputs": [
    {
     "data": {
      "text/plain": [
       "'Moyo moyosore'"
      ]
     },
     "execution_count": 54,
     "metadata": {},
     "output_type": "execute_result"
    }
   ],
   "source": [
    "name = \"salam moyosore\"\n",
    "name.replace(\"salam\", \"Moyo\")"
   ]
  },
  {
   "cell_type": "code",
   "execution_count": 58,
   "id": "782992f6-5502-43da-9c5d-3dbf0512a7ae",
   "metadata": {},
   "outputs": [
    {
     "data": {
      "text/plain": [
       "True"
      ]
     },
     "execution_count": 58,
     "metadata": {},
     "output_type": "execute_result"
    }
   ],
   "source": [
    "num = \"12345\"\n",
    "num.isdigit()"
   ]
  },
  {
   "cell_type": "code",
   "execution_count": 64,
   "id": "f72efe0f-73ed-4cfd-9d99-5bae4b9b816b",
   "metadata": {},
   "outputs": [
    {
     "data": {
      "text/plain": [
       "False"
      ]
     },
     "execution_count": 64,
     "metadata": {},
     "output_type": "execute_result"
    }
   ],
   "source": [
    "num = \"1234a5\"\n",
    "num.isnumeric()"
   ]
  },
  {
   "cell_type": "code",
   "execution_count": 72,
   "id": "e5770905-4f5a-4da1-b631-d5f4ca589560",
   "metadata": {},
   "outputs": [
    {
     "data": {
      "text/plain": [
       "['Salam', 'Moyosore']"
      ]
     },
     "execution_count": 72,
     "metadata": {},
     "output_type": "execute_result"
    }
   ],
   "source": [
    "name = \"Salam-Moyosore\"\n",
    "name.split(\"-\")"
   ]
  },
  {
   "cell_type": "code",
   "execution_count": 76,
   "id": "be681f6b-cbf3-4fc0-8279-c5bdba968e00",
   "metadata": {},
   "outputs": [
    {
     "data": {
      "text/plain": [
       "'Salam Moyosore'"
      ]
     },
     "execution_count": 76,
     "metadata": {},
     "output_type": "execute_result"
    }
   ],
   "source": [
    "name = \"        Salam Moyosore       \"\n",
    "name.strip()"
   ]
  },
  {
   "cell_type": "code",
   "execution_count": 80,
   "id": "1d67d03e-e7e0-4dd5-91bd-a5cfc479aa54",
   "metadata": {},
   "outputs": [
    {
     "data": {
      "text/plain": [
       "'        Salam Moyosore'"
      ]
     },
     "execution_count": 80,
     "metadata": {},
     "output_type": "execute_result"
    }
   ],
   "source": [
    "name = \"        Salam Moyosore       \"\n",
    "name.rstrip()"
   ]
  },
  {
   "cell_type": "code",
   "execution_count": 82,
   "id": "480af0b6-0780-44cd-972b-c9b936701691",
   "metadata": {},
   "outputs": [
    {
     "data": {
      "text/plain": [
       "'Salam Moyosore       '"
      ]
     },
     "execution_count": 82,
     "metadata": {},
     "output_type": "execute_result"
    }
   ],
   "source": [
    "name = \"        Salam Moyosore       \"\n",
    "name.lstrip()"
   ]
  },
  {
   "cell_type": "code",
   "execution_count": 84,
   "id": "f1bb6755-f780-493b-870a-23b50561d19f",
   "metadata": {},
   "outputs": [
    {
     "data": {
      "text/plain": [
       "['__add__',\n",
       " '__class__',\n",
       " '__contains__',\n",
       " '__delattr__',\n",
       " '__dir__',\n",
       " '__doc__',\n",
       " '__eq__',\n",
       " '__format__',\n",
       " '__ge__',\n",
       " '__getattribute__',\n",
       " '__getitem__',\n",
       " '__getnewargs__',\n",
       " '__getstate__',\n",
       " '__gt__',\n",
       " '__hash__',\n",
       " '__init__',\n",
       " '__init_subclass__',\n",
       " '__iter__',\n",
       " '__le__',\n",
       " '__len__',\n",
       " '__lt__',\n",
       " '__mod__',\n",
       " '__mul__',\n",
       " '__ne__',\n",
       " '__new__',\n",
       " '__reduce__',\n",
       " '__reduce_ex__',\n",
       " '__repr__',\n",
       " '__rmod__',\n",
       " '__rmul__',\n",
       " '__setattr__',\n",
       " '__sizeof__',\n",
       " '__str__',\n",
       " '__subclasshook__',\n",
       " 'capitalize',\n",
       " 'casefold',\n",
       " 'center',\n",
       " 'count',\n",
       " 'encode',\n",
       " 'endswith',\n",
       " 'expandtabs',\n",
       " 'find',\n",
       " 'format',\n",
       " 'format_map',\n",
       " 'index',\n",
       " 'isalnum',\n",
       " 'isalpha',\n",
       " 'isascii',\n",
       " 'isdecimal',\n",
       " 'isdigit',\n",
       " 'isidentifier',\n",
       " 'islower',\n",
       " 'isnumeric',\n",
       " 'isprintable',\n",
       " 'isspace',\n",
       " 'istitle',\n",
       " 'isupper',\n",
       " 'join',\n",
       " 'ljust',\n",
       " 'lower',\n",
       " 'lstrip',\n",
       " 'maketrans',\n",
       " 'partition',\n",
       " 'removeprefix',\n",
       " 'removesuffix',\n",
       " 'replace',\n",
       " 'rfind',\n",
       " 'rindex',\n",
       " 'rjust',\n",
       " 'rpartition',\n",
       " 'rsplit',\n",
       " 'rstrip',\n",
       " 'split',\n",
       " 'splitlines',\n",
       " 'startswith',\n",
       " 'strip',\n",
       " 'swapcase',\n",
       " 'title',\n",
       " 'translate',\n",
       " 'upper',\n",
       " 'zfill']"
      ]
     },
     "execution_count": 84,
     "metadata": {},
     "output_type": "execute_result"
    }
   ],
   "source": [
    "dir(str)"
   ]
  },
  {
   "cell_type": "code",
   "execution_count": 92,
   "id": "4a8178c6-8a03-4077-a227-66dc756c9613",
   "metadata": {},
   "outputs": [
    {
     "data": {
      "text/plain": [
       "True"
      ]
     },
     "execution_count": 92,
     "metadata": {},
     "output_type": "execute_result"
    }
   ],
   "source": [
    "name = \"Salam Moyosore\"\n",
    "name.endswith(\"e\")"
   ]
  },
  {
   "cell_type": "code",
   "execution_count": 96,
   "id": "e062b4d6-ead1-4765-8064-9067a7c5ba89",
   "metadata": {},
   "outputs": [
    {
     "data": {
      "text/plain": [
       "True"
      ]
     },
     "execution_count": 96,
     "metadata": {},
     "output_type": "execute_result"
    }
   ],
   "source": [
    "name = \"Salam Moyosore\"\n",
    "name.startswith(\"S\")"
   ]
  },
  {
   "cell_type": "code",
   "execution_count": 98,
   "id": "c87485e2-e932-4909-8bf2-5ee6846996a4",
   "metadata": {},
   "outputs": [
    {
     "data": {
      "text/plain": [
       "'------Salam Moyosore-----'"
      ]
     },
     "execution_count": 98,
     "metadata": {},
     "output_type": "execute_result"
    }
   ],
   "source": [
    "name = \"Salam Moyosore\"\n",
    "name.center(25, \"-\")"
   ]
  },
  {
   "cell_type": "code",
   "execution_count": 100,
   "id": "68bf907e-5795-4aeb-a72f-f31aaa507a8e",
   "metadata": {},
   "outputs": [
    {
     "data": {
      "text/plain": [
       "'      Salam Moyosore     '"
      ]
     },
     "execution_count": 100,
     "metadata": {},
     "output_type": "execute_result"
    }
   ],
   "source": [
    "name = \"Salam Moyosore\"\n",
    "name.center(25, \" \")"
   ]
  },
  {
   "cell_type": "code",
   "execution_count": null,
   "id": "fdd94de5-ac5a-48b5-847e-d4a9c613c2fc",
   "metadata": {},
   "outputs": [],
   "source": []
  }
 ],
 "metadata": {
  "kernelspec": {
   "display_name": "Python 3 (ipykernel)",
   "language": "python",
   "name": "python3"
  },
  "language_info": {
   "codemirror_mode": {
    "name": "ipython",
    "version": 3
   },
   "file_extension": ".py",
   "mimetype": "text/x-python",
   "name": "python",
   "nbconvert_exporter": "python",
   "pygments_lexer": "ipython3",
   "version": "3.12.4"
  }
 },
 "nbformat": 4,
 "nbformat_minor": 5
}
