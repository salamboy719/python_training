{
 "cells": [
  {
   "cell_type": "markdown",
   "id": "9cba69c2-8566-448c-8bd5-32e0e77d7a29",
   "metadata": {},
   "source": [
    "### Characteristics of Dictionary\n",
    "## It is unordered\n",
    "## It is mutable, only values can be changed\n",
    "## It is denoted by curly braces\n",
    "## It contains multiple data types as its value but only immutable data types as it keys\n"
   ]
  },
  {
   "cell_type": "code",
   "execution_count": 13,
   "id": "b70e597a-20dd-4102-8bc5-3d6dceb3b8a4",
   "metadata": {},
   "outputs": [],
   "source": [
    "# Creating a dictionary - two ways \n",
    "my_dict = {}\n",
    "my_dict2 = dict()"
   ]
  },
  {
   "cell_type": "code",
   "execution_count": 15,
   "id": "cd3ee6ce-c33d-4b5c-8d46-fcc8efd5af13",
   "metadata": {},
   "outputs": [
    {
     "name": "stdout",
     "output_type": "stream",
     "text": [
      "{}\n",
      "{}\n"
     ]
    }
   ],
   "source": [
    "print(my_dict)\n",
    "print(my_dict2)"
   ]
  },
  {
   "cell_type": "code",
   "execution_count": 21,
   "id": "e31e2ce1-dab8-437c-8ee0-4773f78ba6f5",
   "metadata": {},
   "outputs": [],
   "source": [
    "my_dict = {\"name\":\"Salam\", \"age\":30, \"gender\":\"Male\", \"score\":89.99, \"is_student\": True}"
   ]
  },
  {
   "cell_type": "code",
   "execution_count": 23,
   "id": "557af8ba-51fc-4253-820d-7d3b455b76ff",
   "metadata": {},
   "outputs": [
    {
     "data": {
      "text/plain": [
       "{'name': 'Salam',\n",
       " 'age': 30,\n",
       " 'gender': 'Male',\n",
       " 'score': 89.99,\n",
       " 'is_student': True}"
      ]
     },
     "execution_count": 23,
     "metadata": {},
     "output_type": "execute_result"
    }
   ],
   "source": [
    "my_dict"
   ]
  },
  {
   "cell_type": "code",
   "execution_count": 25,
   "id": "44b095db-0532-4c12-9ee0-0ed960597ef2",
   "metadata": {},
   "outputs": [
    {
     "data": {
      "text/plain": [
       "30"
      ]
     },
     "execution_count": 25,
     "metadata": {},
     "output_type": "execute_result"
    }
   ],
   "source": [
    "my_dict[\"age\"]"
   ]
  },
  {
   "cell_type": "code",
   "execution_count": 29,
   "id": "ebe1c778-0200-4a55-928b-448e463999b1",
   "metadata": {},
   "outputs": [],
   "source": [
    "my_dict = {\"name\":\"Salam\", \"age\":30, \"gender\":\"Male\", \"score\":89.99, \"is_student\": True}"
   ]
  },
  {
   "cell_type": "code",
   "execution_count": 33,
   "id": "5cc53e30-2491-40fe-a656-5a2b16290c33",
   "metadata": {},
   "outputs": [
    {
     "name": "stdout",
     "output_type": "stream",
     "text": [
      "name\n",
      "age\n",
      "gender\n",
      "score\n",
      "is_student\n"
     ]
    }
   ],
   "source": [
    "for key in my_dict:\n",
    "    print(key)"
   ]
  },
  {
   "cell_type": "code",
   "execution_count": 35,
   "id": "02bd34cb-ea28-4c91-bf34-94d0a8fffc4d",
   "metadata": {},
   "outputs": [
    {
     "name": "stdout",
     "output_type": "stream",
     "text": [
      "Salam\n",
      "30\n",
      "Male\n",
      "89.99\n",
      "True\n"
     ]
    }
   ],
   "source": [
    "for key in my_dict:\n",
    "    print(my_dict[key])"
   ]
  },
  {
   "cell_type": "code",
   "execution_count": 37,
   "id": "dc741785-1b29-43d2-953c-a260ea2cbe98",
   "metadata": {},
   "outputs": [
    {
     "name": "stdout",
     "output_type": "stream",
     "text": [
      "name : Salam\n",
      "age : 30\n",
      "gender : Male\n",
      "score : 89.99\n",
      "is_student : True\n"
     ]
    }
   ],
   "source": [
    "for key in my_dict:\n",
    "    print(key,\":\",my_dict[key])"
   ]
  },
  {
   "cell_type": "code",
   "execution_count": 43,
   "id": "d040ac10-9219-4696-bcac-64aa9599d6aa",
   "metadata": {},
   "outputs": [
    {
     "name": "stdout",
     "output_type": "stream",
     "text": [
      "name : Salam\n",
      "age : 30\n",
      "gender : Male\n",
      "score : 89.99\n",
      "is_student : True\n"
     ]
    }
   ],
   "source": [
    "for key, value in my_dict.items():\n",
    "    print(key,\":\",value)"
   ]
  },
  {
   "cell_type": "code",
   "execution_count": 45,
   "id": "bb7c15c6-821a-4a67-9f37-125a62440232",
   "metadata": {},
   "outputs": [
    {
     "name": "stdout",
     "output_type": "stream",
     "text": [
      "name\n",
      "age\n",
      "gender\n",
      "score\n",
      "is_student\n"
     ]
    }
   ],
   "source": [
    "for key in my_dict.keys():\n",
    "    print(key)"
   ]
  },
  {
   "cell_type": "code",
   "execution_count": 53,
   "id": "8ab284a5-dddc-4ef1-b061-19871561b2f6",
   "metadata": {},
   "outputs": [
    {
     "name": "stdout",
     "output_type": "stream",
     "text": [
      "Salam\n",
      "30\n",
      "Male\n",
      "89.99\n",
      "True\n"
     ]
    }
   ],
   "source": [
    "for value in my_dict.values():\n",
    "    print(value)"
   ]
  },
  {
   "cell_type": "code",
   "execution_count": 59,
   "id": "5e5ae2b5-af5e-4b65-832b-de055638a7a8",
   "metadata": {},
   "outputs": [
    {
     "data": {
      "text/plain": [
       "['I',\n",
       " 'am',\n",
       " 'a',\n",
       " 'tutor',\n",
       " 'in',\n",
       " 'Nigeria.',\n",
       " 'Are',\n",
       " 'you',\n",
       " 'really',\n",
       " 'in',\n",
       " 'Nigeria.',\n",
       " 'Yes',\n",
       " 'I',\n",
       " 'am',\n",
       " 'in',\n",
       " 'Nigeria.']"
      ]
     },
     "execution_count": 59,
     "metadata": {},
     "output_type": "execute_result"
    }
   ],
   "source": [
    "message = \"I am a tutor in Nigeria. Are you really in Nigeria. Yes I am in Nigeria.\"\n",
    "my_list = message.split()\n",
    "my_list"
   ]
  },
  {
   "cell_type": "code",
   "execution_count": 61,
   "id": "62f08294-05c8-445a-a3c9-8262b622c9f5",
   "metadata": {},
   "outputs": [
    {
     "data": {
      "text/plain": [
       "{'I': 2,\n",
       " 'am': 2,\n",
       " 'a': 1,\n",
       " 'tutor': 1,\n",
       " 'in': 3,\n",
       " 'Nigeria.': 3,\n",
       " 'Are': 1,\n",
       " 'you': 1,\n",
       " 'really': 1,\n",
       " 'Yes': 1}"
      ]
     },
     "execution_count": 61,
     "metadata": {},
     "output_type": "execute_result"
    }
   ],
   "source": [
    "message = \"I am a tutor in Nigeria. Are you really in Nigeria. Yes I am in Nigeria.\"\n",
    "my_list = message.split()\n",
    "my_dict = {}\n",
    "for i in my_list:\n",
    "    if i not in my_dict:\n",
    "        my_dict[i] = 1 \n",
    "    else:\n",
    "        my_dict[i] = my_dict[i] + 1\n",
    "my_dict"
   ]
  },
  {
   "cell_type": "code",
   "execution_count": 63,
   "id": "8e085078-a39a-4242-a079-27af8666992f",
   "metadata": {},
   "outputs": [
    {
     "data": {
      "text/plain": [
       "{'I': 2,\n",
       " 'am': 2,\n",
       " 'a': 1,\n",
       " 'tutor': 1,\n",
       " 'in': 3,\n",
       " 'Nigeria.': 3,\n",
       " 'Are': 1,\n",
       " 'you': 1,\n",
       " 'really': 1,\n",
       " 'Yes': 1}"
      ]
     },
     "execution_count": 63,
     "metadata": {},
     "output_type": "execute_result"
    }
   ],
   "source": [
    "message = \"I am a tutor in Nigeria. Are you really in Nigeria. Yes I am in Nigeria.\"\n",
    "my_list = message.split()\n",
    "my_dict = {}\n",
    "for i in my_list:\n",
    "    my_dict[i] = my_dict.get(i,0) + 1 \n",
    "my_dict"
   ]
  },
  {
   "cell_type": "code",
   "execution_count": 67,
   "id": "477a1e2b-64dd-4a5d-b53c-670d854dda07",
   "metadata": {},
   "outputs": [],
   "source": [
    "from collections import Counter"
   ]
  },
  {
   "cell_type": "code",
   "execution_count": 69,
   "id": "6c75a0be-76d9-4d0c-a0ae-9845569702a3",
   "metadata": {},
   "outputs": [
    {
     "data": {
      "text/plain": [
       "Counter({'in': 3,\n",
       "         'Nigeria.': 3,\n",
       "         'I': 2,\n",
       "         'am': 2,\n",
       "         'a': 1,\n",
       "         'tutor': 1,\n",
       "         'Are': 1,\n",
       "         'you': 1,\n",
       "         'really': 1,\n",
       "         'Yes': 1})"
      ]
     },
     "execution_count": 69,
     "metadata": {},
     "output_type": "execute_result"
    }
   ],
   "source": [
    "c = Counter(my_list)\n",
    "c"
   ]
  },
  {
   "cell_type": "code",
   "execution_count": 71,
   "id": "3367dd99-6a88-4e13-b24c-bbc09cbba687",
   "metadata": {},
   "outputs": [
    {
     "data": {
      "text/plain": [
       "{'I': 2,\n",
       " 'am': 2,\n",
       " 'a': 1,\n",
       " 'tutor': 1,\n",
       " 'in': 3,\n",
       " 'Nigeria.': 3,\n",
       " 'Are': 1,\n",
       " 'you': 1,\n",
       " 'really': 1,\n",
       " 'Yes': 1}"
      ]
     },
     "execution_count": 71,
     "metadata": {},
     "output_type": "execute_result"
    }
   ],
   "source": [
    "with open (\"file.txt\",\"r\") as file:\n",
    "    doc = file.read()\n",
    "\n",
    "doc_list = doc.split()\n",
    "doc_dict = {}\n",
    "for i in doc_list:\n",
    "    doc_dict[i] = doc_dict.get(i,0) + 1 \n",
    "doc_dict"
   ]
  },
  {
   "cell_type": "code",
   "execution_count": 73,
   "id": "12920bd5-b828-4b63-8eb9-0f6f220cd29c",
   "metadata": {},
   "outputs": [
    {
     "name": "stdout",
     "output_type": "stream",
     "text": [
      "in 3\n"
     ]
    }
   ],
   "source": [
    "with open (\"file.txt\",\"r\") as file:\n",
    "    doc = file.read()\n",
    "\n",
    "doc_list = doc.split()\n",
    "doc_dict = {}\n",
    "for i in doc_list:\n",
    "    doc_dict[i] = doc_dict.get(i,0) + 1 \n",
    "\n",
    "big_count = 0\n",
    "big_word = \"\"\n",
    "for key, value in doc_dict.items():\n",
    "    if value > big_count:\n",
    "        big_count = value\n",
    "        big_word = key \n",
    "print(big_word, big_count)"
   ]
  },
  {
   "cell_type": "code",
   "execution_count": 20,
   "id": "e1d0e222-36f0-4275-a4bf-9afd30a99f27",
   "metadata": {},
   "outputs": [],
   "source": [
    "student_grade = {\"first_student\":{\"name\":\"Mike\", \"age\":40, \"gender\":\"Male\", \"score\":92.85, \"is_student\": True,\"Second_student\":{\"name\":\"Salam\", \"age\":20, \"gender\":\"Male\", \"score\":88.99, \"is_student\": True,\"Third_student\":{\"name\":\"Mary\", \"age\":23, \"gender\":\"Female\", \"score\":80.00, \"is_student\": True}}}"
   ]
  },
  {
   "cell_type": "code",
   "execution_count": 35,
   "id": "5d53e775-2b81-40cd-ad7b-2436b16b398a",
   "metadata": {},
   "outputs": [
    {
     "name": "stdout",
     "output_type": "stream",
     "text": [
      "{'first_student': {'name': 'Mike', 'age': 40, 'gender': 'Male', 'score': 92.85, 'is_student': True}}\n"
     ]
    }
   ],
   "source": [
    "print(student_grade)"
   ]
  },
  {
   "cell_type": "code",
   "execution_count": null,
   "id": "2a90c850-bef9-4d4a-b902-0f56eb3d3b9f",
   "metadata": {},
   "outputs": [],
   "source": []
  }
 ],
 "metadata": {
  "kernelspec": {
   "display_name": "Python 3 (ipykernel)",
   "language": "python",
   "name": "python3"
  },
  "language_info": {
   "codemirror_mode": {
    "name": "ipython",
    "version": 3
   },
   "file_extension": ".py",
   "mimetype": "text/x-python",
   "name": "python",
   "nbconvert_exporter": "python",
   "pygments_lexer": "ipython3",
   "version": "3.12.4"
  }
 },
 "nbformat": 4,
 "nbformat_minor": 5
}
